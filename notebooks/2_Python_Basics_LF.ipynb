{
 "cells": [
  {
   "cell_type": "markdown",
   "id": "541033d4-f85d-40b0-a42d-ecbe31a20105",
   "metadata": {},
   "source": [
    "##### [Forrige \\>](1%20-%20Introduksjon.ipynb)  |     [Neste \\>](3%20-%20Funksjoner.ipynb)"
   ]
  },
  {
   "cell_type": "markdown",
   "id": "074ebde0-2d56-4157-83a4-9d57f74a6fa8",
   "metadata": {
    "jp-MarkdownHeadingCollapsed": true,
    "tags": []
   },
   "source": [
    "<span style=\"color:#9bb1d4;font-size:30px;font-weight:900\"> 2 - Python basics </span>  "
   ]
  },
  {
   "cell_type": "markdown",
   "id": "19586e06",
   "metadata": {},
   "source": [
    "## Programmeringsspråk\n",
    "Python, som de fleste andre programmeringsspråk, er basert på engelsk språk. Det er naturlig, siden engelsk er det overlegent største andrespråket i verden og de fleste programmeringsspråk har blitt utviklet i USA (her er Python et unntak, da nederlenderen Guido van Rossum er bak Python). \n",
    "\n",
    "Uansett, engelsk er dominerende og av samme grunn bør all kode i utgangspunktet skrives på engelsk. Kode bør kunne deles globalt, og da bør den skrives på et språk flest mulig forstår. Får man denne vanen inn tidlig, vil den følge din ferd som programmerer.\n",
    "\n",
    "Men selv om koden er engelsk, så er ofte brukergrensesnittet på lokalt språk. Du har kanskje norsk som språk i nettleseren din, men bortsett fra navnene i menyene er all kode på engelsk. \n",
    "\n",
    "I dette kurset skal vi gjøre det på tilsvarende måte. All kode skal i hovedsak skrives på engelsk. Printing (og kommentarer) kan imidlertid gjøres på norsk, slik som dette:"
   ]
  },
  {
   "cell_type": "code",
   "execution_count": 2,
   "id": "ed9b4533",
   "metadata": {},
   "outputs": [
    {
     "name": "stdout",
     "output_type": "stream",
     "text": [
      "Her er det lov å skrive norsk, for dette skal ut til skjermen!\n",
      "Jeg heter Ola Nordmann\n"
     ]
    }
   ],
   "source": [
    "# La oss lage et enkelt program\n",
    "my_sentence = \"Her er det lov å skrive norsk, for dette skal ut til skjermen!\"\n",
    "print(my_sentence)\n",
    "\n",
    "# La oss skrive en ny setning\n",
    "sentence = \"Jeg heter Ola Nordmann\"\n",
    "print(sentence)"
   ]
  },
  {
   "cell_type": "markdown",
   "id": "7dc7199b",
   "metadata": {},
   "source": [
    "Legg merke til den første setningen i programmet, `# La oss lage et enkelt program`. Hashtaggen (*emneknagg*) `#` først, angir at denne linjen ikke skal oppfattes som en del av programmet. Python overser dermed denne setningen. Denne funksjonen finnes, slik at vi kan *dokumentere* koden. Det vil si at vi skriver inn i koden hva som skjer. \n",
    "\n",
    "Program blir ofte veldig fort veldig komplekse og uoversiktlige. Uten noen forklaring blir det fort vanskelig eller uoverkommelig for andre å forstå hva du har tenkt. Da blir det veldig vanskelig for andre å komme inn eller ta over prosjektet ditt. Det er også enklere for deg selv å gå tilbake og lese din egen kode, om du har vært flink å dokumentere den med kommentarer. "
   ]
  },
  {
   "cell_type": "markdown",
   "id": "39c03b4f",
   "metadata": {},
   "source": [
    "## Gode programmeringsvaner\n",
    "\n",
    "For å gjøre koden så godt leselig som mulig for andre, er det noen prinsipper som bør følges. Det er lite hensiktsmessig å gå detaljert inn på disse nå, før vi har lært litt mer, men vi tar med de generelle prinsippene som skaperen av Python, Guido van Rossum har laget, som du kan kikke tilbake på etterhvert som du lærer mer:\n",
    "\n",
    "1. Pen er bedre enn stygt.\n",
    "2. Eksplisitt er bedre enn implisitt.\n",
    "3. Enkelt er bedre enn komplekst.\n",
    "4. Komplekst er bedre enn komplisert.\n",
    "5. Flat er bedre enn nøstet.\n",
    "6. Luftig er bedre enn tett.\n",
    "7. Leselighet betyr noe.\n",
    "8. Spesialtifeller er ikke spesielle nok til å bryte regelene.\n",
    "   Selv om praktiske hensyn slår renhet.\n",
    "9. Feil bør aldri passere i det stille,\n",
    "   med mindre de er eksplisitt dempet.\n",
    "10. Når du møter tvilstilfeller, ikke fall for fristelsen å gjette.\n",
    "11. Det bør være én og helst bare én åpenbar måte å gjøre det på,\n",
    "    selv om den måten kanskje ikke er åpenbar umiddelbart for de som ikke er Nederelendere\n",
    "12. Nå er bedre aldri,\n",
    "    selv om aldri ofte er bedre enn *akkurat* nå.\n",
    "13. Om implementeringen er vanskelig å forstå, så er det en dårlig idé. \n",
    "14. Om implementeringen er lett å forstå, så er det en god idé.  \n",
    "15. `namespaces` er en fantastisk idé, -- la oss gjøre mer av det!"
   ]
  },
  {
   "cell_type": "markdown",
   "id": "3a45857c",
   "metadata": {},
   "source": [
    "## Variabler\n",
    "Variablene i Python kan være ulike objekter som i alle andre programmeringsspråk, og typen objekt defineres av hva du setter variabelen til. Det er vanlig å definere stort sett alle variabler med små bokstaver i Python. Kun unntaksvis brukes store bokstaver.\n",
    "\n",
    "Du kan ikke bruke mellomrom i variabelnavn. Det vil oppfattes som flere ulike navn. For eksempel er `number_of_apples`  tillatt men ikke \"number of apples\". Vi bruker også kun engelske bokstaver, selv om norske fungerer. `aintail_æpla` kan altså brukes, men anbefales ikke."
   ]
  },
  {
   "cell_type": "code",
   "execution_count": 3,
   "id": "cbe9d1e1",
   "metadata": {},
   "outputs": [],
   "source": [
    "# Her er det flere, ulike variabler\n",
    "\n",
    "# Heltall\n",
    "variable_a = 1\n",
    "\n",
    "# Desimaltall\n",
    "variable_b = 2.5678\n",
    "\n",
    "# Sant/usant\n",
    "variable_c = True\n",
    "\n",
    "# Tekst\n",
    "variable_d = \"Hello, World!\""
   ]
  },
  {
   "cell_type": "markdown",
   "id": "e4905ab3",
   "metadata": {},
   "source": [
    "## ```bool```(Sann/usann)\n",
    "\n",
    "Den enkleste variabelen i Python er den binære typen \"bool\". Den kan ta to verdier, `True` eller `False` (sant eller usant). Denne variabelen brukes mest i sammenhenger der vi skal teste om et vilkår er oppfylt eller ikke. Da bruker vi `if`-setninger, som vi skal komme tilbake til.\n",
    "\n",
    "Vi kan sjekke hvilken type en variabel er med funksjonen type(). Under får vi bekreftet `apple_is_tasty` er en boolsk variabel.\n",
    "\n",
    "#### Eksempel 3:"
   ]
  },
  {
   "cell_type": "code",
   "execution_count": 4,
   "id": "9030787b",
   "metadata": {},
   "outputs": [
    {
     "data": {
      "text/plain": [
       "bool"
      ]
     },
     "execution_count": 4,
     "metadata": {},
     "output_type": "execute_result"
    }
   ],
   "source": [
    "# Eksempel på bool-variabel\n",
    "apple_is_tasty = True\n",
    "type(apple_is_tasty)"
   ]
  },
  {
   "cell_type": "code",
   "execution_count": 5,
   "id": "84056ae3",
   "metadata": {},
   "outputs": [
    {
     "name": "stdout",
     "output_type": "stream",
     "text": [
      "True\n"
     ]
    }
   ],
   "source": [
    "# Printer verdien til 'apple_is_tasty'\n",
    "print(apple_is_tasty)"
   ]
  },
  {
   "cell_type": "markdown",
   "id": "9fe6ec33",
   "metadata": {},
   "source": [
    "Legg merke til hva som skjer her: Første linje er bare en kommentar, som nevnt tidligere. I andre linjer *setter* vi variabelen `apple_is_tasty` lik verdien `True`. Det er på denne måten vi definerer variabler i Python. Når vi har satt en variable på denne måten, bestemmer det hvilken `type` variabel det er. \n",
    "\n",
    "Det er ikke alltid at variabelen settes rett før vi skal bruke den. Er det et stort program kan variabelen ha vært satt på en helt annen plass i programmet. I så fall er det nyttig å vise hvilken type variabel `apple_is_tasty` representerer. Siden den er satt til verdien `True` (sant), er det en `bool`. \n",
    "\n",
    "Når vi kjører et kodefelt i Jupyter, får vi resultatet av den siste setningen skrevet ut til skjermen, etter kodefeltet. Om du har kjørt koden, vil du se at det står `bool`der. Det er fordi funksjonen `type()` står i siste linje, og den returnerer hvilken type `apple_is_tasty` er. \n",
    "\n",
    "I neste kodeblokk kjører vi funksjonen ```print()``` som rett og slett bare skriver ut hvilken *verdi* variabelen har (dette tilfelle ```True```)."
   ]
  },
  {
   "cell_type": "markdown",
   "id": "0562e647",
   "metadata": {},
   "source": [
    "## `int` (heltall)\n",
    "\n",
    "```int``` betyr *integer* (heltall på norsk), og naturlig nok, representerer hele tall i Python. Under ser vi at Python tolker `8` som et heltall:\n",
    "\n",
    "#### Eksempel 4:"
   ]
  },
  {
   "cell_type": "code",
   "execution_count": 6,
   "id": "7f69d24e",
   "metadata": {},
   "outputs": [
    {
     "data": {
      "text/plain": [
       "int"
      ]
     },
     "execution_count": 6,
     "metadata": {},
     "output_type": "execute_result"
    }
   ],
   "source": [
    "# Heltall/integer eksempel\n",
    "\n",
    "number_of_apples = 8\n",
    "type(number_of_apples)"
   ]
  },
  {
   "cell_type": "markdown",
   "id": "5e5c4d5e",
   "metadata": {},
   "source": [
    "Vi kan konvertere `int` til `bool` og `bool` til `int` ved å bruke disse som funksjoner slik som dette:\n",
    "\n",
    "#### Eksempel 5:"
   ]
  },
  {
   "cell_type": "code",
   "execution_count": 7,
   "id": "ea51e180",
   "metadata": {},
   "outputs": [
    {
     "data": {
      "text/plain": [
       "int"
      ]
     },
     "execution_count": 7,
     "metadata": {},
     "output_type": "execute_result"
    }
   ],
   "source": [
    "# Gjøre om variabletype\n",
    "type(int(apple_is_tasty))"
   ]
  },
  {
   "cell_type": "code",
   "execution_count": 8,
   "id": "47aa9559",
   "metadata": {},
   "outputs": [
    {
     "name": "stdout",
     "output_type": "stream",
     "text": [
      "8.0 er av typen <class 'float'>\n",
      "8 er av typen <class 'int'>\n"
     ]
    }
   ],
   "source": [
    "number = 8.00\n",
    "print(f'{number} er av typen {type(number)}')\n",
    "\n",
    "# Nå gjør vi om 'number'\n",
    "number_two = int(number)\n",
    "print(f'{number_two} er av typen {type(number_two)}')"
   ]
  },
  {
   "cell_type": "markdown",
   "id": "1d25395d",
   "metadata": {},
   "source": [
    "Over ser vi at vi startet med tallet `8.00`, som vi ser er av typen `float`, så brukte vi funksjonen `int()` til å gjøre om `number` (som var lik `8.00`) til heltallet `8`."
   ]
  },
  {
   "cell_type": "code",
   "execution_count": 9,
   "id": "d37b0ae7",
   "metadata": {},
   "outputs": [
    {
     "data": {
      "text/plain": [
       "bool"
      ]
     },
     "execution_count": 9,
     "metadata": {},
     "output_type": "execute_result"
    }
   ],
   "source": [
    "type(bool(0))"
   ]
  },
  {
   "cell_type": "markdown",
   "id": "25ac26d9",
   "metadata": {},
   "source": [
    "Legger merke til at i python så tilsvarer 1 `True` og 0 tilsvarer `False`, slik at\n",
    "\n",
    "#### Eksempel 6:"
   ]
  },
  {
   "cell_type": "code",
   "execution_count": 10,
   "id": "a6bd49fd",
   "metadata": {},
   "outputs": [
    {
     "data": {
      "text/plain": [
       "0"
      ]
     },
     "execution_count": 10,
     "metadata": {},
     "output_type": "execute_result"
    }
   ],
   "source": [
    "20*False"
   ]
  },
  {
   "cell_type": "code",
   "execution_count": 11,
   "id": "1a6c9364",
   "metadata": {},
   "outputs": [
    {
     "data": {
      "text/plain": [
       "20"
      ]
     },
     "execution_count": 11,
     "metadata": {},
     "output_type": "execute_result"
    }
   ],
   "source": [
    "20*True"
   ]
  },
  {
   "cell_type": "markdown",
   "id": "4a30cf7b",
   "metadata": {},
   "source": [
    "## `float` (desimaltall)\n",
    "\n",
    "Regning gjøres vanligvis med desimaltall, eller \"floating point\" som det kalles av på fagspråket.  I python heter derfor denne variabeltypen  `float`.\n",
    "\n",
    "Om for eksempel 11 skal tolkes som et heltall, gir vi beskjed til Python om at det er et desimaltall ved å skrive det med én desimal. Alle programmeringsspråk, inkludert Python, bruker punktum som desimaltegn. \n",
    "\n",
    "#### Eksempel 7:"
   ]
  },
  {
   "cell_type": "code",
   "execution_count": 12,
   "id": "d0cf16ec",
   "metadata": {},
   "outputs": [
    {
     "data": {
      "text/plain": [
       "float"
      ]
     },
     "execution_count": 12,
     "metadata": {},
     "output_type": "execute_result"
    }
   ],
   "source": [
    "# Floating point (float), altså desimaltall\n",
    "\n",
    "apple_price = 11.0\n",
    "type(apple_price)"
   ]
  },
  {
   "cell_type": "code",
   "execution_count": 13,
   "id": "77e562ff",
   "metadata": {},
   "outputs": [
    {
     "data": {
      "text/plain": [
       "int"
      ]
     },
     "execution_count": 13,
     "metadata": {},
     "output_type": "execute_result"
    }
   ],
   "source": [
    "apple_price = 11\n",
    "type(apple_price)"
   ]
  },
  {
   "cell_type": "markdown",
   "id": "fd2984c2",
   "metadata": {},
   "source": [
    "Legg merke til de to ulike kodeblokkene over - **hva er forskjellen her?**\n",
    "\n",
    "Navnet \"floating point\", eller **flyttall** på norsk, kommer av at alle flyttall har eksakt like mange siffer, men desimaltegnet kan flyttes slik at `float` kan representere et svært stort spenn av verdier. Det største flyttallet er én med 308 nuller etter. Desimaltegnet flyttes enkelt fordi at `float` egentlig er på \"vitenskapelig form\" (se under), selv om det ofte vises som vanlig tall. For eksempel så kan vi skrive tallet 102 på vitenskapelig form, men Python spytter det ut på et format vi enklere kan forstå\n",
    "\n",
    "#### Eksempel 8:"
   ]
  },
  {
   "cell_type": "code",
   "execution_count": 14,
   "id": "e82e8d03",
   "metadata": {},
   "outputs": [
    {
     "name": "stdout",
     "output_type": "stream",
     "text": [
      "102.0\n"
     ]
    }
   ],
   "source": [
    "insane_apple_price = 1.02e+2\n",
    "print(insane_apple_price)"
   ]
  },
  {
   "cell_type": "markdown",
   "id": "eb4feb0d",
   "metadata": {},
   "source": [
    "Vitenskapelig form `1.02e+2` er en kombinasjon av et heltall (`1`), desimaler (`.02`) og hvilken potens av 10 tallet skal multipliseres med (`e+2`).  \n",
    "\n",
    "`1.02e+2` betyr altså at $1.02$ skal multipliseres med  $10^{2}=100$. \n",
    "\n",
    "`1.02e+2` betyr dermed $1.02\\cdot 10^{2}=102$. På samme kan $0.0102$ skrives `1.02e-2`,  eller  $1.02\\cdot 10^{-2}=102$.\n",
    "\n",
    "Legg også merke til at funksjonen `print()`er brukt her. Det er ofte bedre å printe eksplisitt med printfunksjonen. Dersom det du ønsker å se ikke står sist i koden er det også nødvendig å bruke `print()`. \n",
    "\n",
    "Her er et eksemple med et lite flyttall:\n",
    "\n",
    "#### Eksempel 9:"
   ]
  },
  {
   "cell_type": "code",
   "execution_count": 15,
   "id": "b75e0c81",
   "metadata": {},
   "outputs": [
    {
     "name": "stdout",
     "output_type": "stream",
     "text": [
      "0.0102\n"
     ]
    }
   ],
   "source": [
    "really_cheap_apple_price = 1.02e-2\n",
    "print(really_cheap_apple_price)"
   ]
  },
  {
   "cell_type": "markdown",
   "id": "3be02835",
   "metadata": {},
   "source": [
    "Når vi skriver ut resultatet får vi det altså ut som `102.0` eller `0.0102` i stedet for det vitenskapelige flyttallformatet. Det er fordi Python skjønner at `1.02e+2` og  `1.02e-2` ikke ser så pent ut for oss. Python formaterer derfor tallet til et mer lesbart format før det skrives ut.\n",
    "\n",
    "Det er enkelt å regne med både `float` og  `int`:\n",
    "\n",
    "#### Eksempel 10:"
   ]
  },
  {
   "cell_type": "code",
   "execution_count": 16,
   "id": "fc853489",
   "metadata": {},
   "outputs": [
    {
     "name": "stdout",
     "output_type": "stream",
     "text": [
      "88\n"
     ]
    }
   ],
   "source": [
    "total = apple_price*number_of_apples\n",
    "print(total)"
   ]
  },
  {
   "cell_type": "markdown",
   "id": "f19d999a",
   "metadata": {},
   "source": [
    "Heldigvis spiller det liten rolle om noe er `int` eller `float` når du skal regne. I de fleste andre programmeringsspråk får du et nytt heltall når du deler et heltall på et annet. I Python gir dette et desimaltall:\n",
    "\n",
    "\n",
    "#### Eksempel 11:"
   ]
  },
  {
   "cell_type": "code",
   "execution_count": 17,
   "id": "1c8bced5",
   "metadata": {},
   "outputs": [
    {
     "name": "stdout",
     "output_type": "stream",
     "text": [
      "1.6\n"
     ]
    }
   ],
   "source": [
    "number_of_persons = 5\n",
    "apple_per_person  = number_of_apples/number_of_persons\n",
    "print(apple_per_person)"
   ]
  },
  {
   "cell_type": "code",
   "execution_count": 18,
   "id": "4ac21013",
   "metadata": {},
   "outputs": [
    {
     "data": {
      "text/plain": [
       "1.0"
      ]
     },
     "execution_count": 18,
     "metadata": {},
     "output_type": "execute_result"
    }
   ],
   "source": [
    "5/5"
   ]
  },
  {
   "cell_type": "markdown",
   "id": "c2ee2258",
   "metadata": {},
   "source": [
    "## Regning med `float`\n",
    "\n",
    "For de fire regneartene fungerer `float` slik vi har lært på barneskolen:\n",
    "\n",
    "#### Eksempel 12:"
   ]
  },
  {
   "cell_type": "code",
   "execution_count": 19,
   "id": "0b4c52d8",
   "metadata": {},
   "outputs": [
    {
     "name": "stdout",
     "output_type": "stream",
     "text": [
      "5\n",
      "-1\n",
      "6\n",
      "0.6666666666666666\n"
     ]
    }
   ],
   "source": [
    "print(2+3)\n",
    "print(2-3)\n",
    "print(2*3)\n",
    "print(2/3)"
   ]
  },
  {
   "cell_type": "markdown",
   "id": "7a8f1564",
   "metadata": {},
   "source": [
    "Ofte har vi imidlertid bruk for å opphøye et tall i et annet. Om vi for eksempel vil vite hva $2\\cdot2\\cdot2$ er, så kan vi istedet skrive $2^3$. Dette kalles en *potens* med 2 som *grunntall* og 3 som *eksponent*. I python utføres denne operasjonen med dobbelt gange-tegn `**`. Dette er ulikt endel andre programmeringsspråk, der *cirkumfleks*-symbolet `^` ofte brukes. \n",
    "\n",
    "Slik regner du med potens i Python:\n",
    "\n",
    "#### Eksempel 13:"
   ]
  },
  {
   "cell_type": "code",
   "execution_count": 20,
   "id": "37f96c91",
   "metadata": {},
   "outputs": [
    {
     "data": {
      "text/plain": [
       "8"
      ]
     },
     "execution_count": 20,
     "metadata": {},
     "output_type": "execute_result"
    }
   ],
   "source": [
    "2**3"
   ]
  },
  {
   "cell_type": "markdown",
   "id": "aa82128b",
   "metadata": {},
   "source": [
    "### `str` (tekst)\n",
    "\n",
    "Tekst kalles \"streng\" på dataspråket, eller \"string\" på engelsk. Typen som representerer tekst heter derfor `str`. Vi forteller Python at dette er en tekst ved å sette anførselstegn rundt. Her er et eksempel på en streng:\n",
    "\n",
    "#### Eksempel 14:"
   ]
  },
  {
   "cell_type": "code",
   "execution_count": 21,
   "id": "82b4c6fe",
   "metadata": {},
   "outputs": [
    {
     "data": {
      "text/plain": [
       "str"
      ]
     },
     "execution_count": 21,
     "metadata": {},
     "output_type": "execute_result"
    }
   ],
   "source": [
    "# string:\n",
    "x = \"Dette er en streng (dvs tekst)\"\n",
    "type(x)"
   ]
  },
  {
   "cell_type": "markdown",
   "id": "2cd8ff49",
   "metadata": {},
   "source": [
    "Det er enkelt å sette sammen `string` og andre variabler i Python. Det er flere måter å gjøre det på, men vi skal bruke en metode som er ganske ny i Python. Fra og med versjon 3.6 kom noe som kalles \"f-strings\" som gir oss en veldig enkel måte å blandet tekst og andre variabler. Her er et eksempel:\n",
    "\n",
    "#### Eksempel 15:"
   ]
  },
  {
   "cell_type": "code",
   "execution_count": 22,
   "id": "179c8bc8",
   "metadata": {},
   "outputs": [
    {
     "name": "stdout",
     "output_type": "stream",
     "text": [
      "Det er True at jeg synes epler smaker godt.\n"
     ]
    }
   ],
   "source": [
    "print(f\"Det er {apple_is_tasty} at jeg synes epler smaker godt.\")"
   ]
  },
  {
   "cell_type": "markdown",
   "id": "72cac461",
   "metadata": {},
   "source": [
    "Legg merke til f'en før det første anførselstegnet. Den angir at dette er en f-streng og at alt som er inne i klammeparenteser {} skal omformateres til `string` og tas med i teksten. \n",
    "\n",
    "Et alternativ er å bruke `+`-tegnet. Det går nemlig an å summere tekst i Python:\n",
    "\n",
    "#### Eksempel 16:"
   ]
  },
  {
   "cell_type": "code",
   "execution_count": 23,
   "id": "2ec78db9",
   "metadata": {},
   "outputs": [
    {
     "data": {
      "text/plain": [
       "'Jeg gikk derfor på butikken for å kjøpe'"
      ]
     },
     "execution_count": 23,
     "metadata": {},
     "output_type": "execute_result"
    }
   ],
   "source": [
    "\"Jeg \"+\"gikk \"+\"derfor \"+\"på \"+\"butikken \"+\"for \"+\"å \"+\"kjøpe\""
   ]
  },
  {
   "cell_type": "markdown",
   "id": "af58badd",
   "metadata": {},
   "source": [
    "Men det går ikke an å summere tekst og andre variabler, da skjønner ikke Python hva du ønsker å oppnå\n",
    "\n",
    "#### Eksempel 17:"
   ]
  },
  {
   "cell_type": "code",
   "execution_count": 24,
   "id": "74e285e9",
   "metadata": {},
   "outputs": [
    {
     "ename": "TypeError",
     "evalue": "can only concatenate str (not \"int\") to str",
     "output_type": "error",
     "traceback": [
      "\u001b[0;31m---------------------------------------------------------------------------\u001b[0m",
      "\u001b[0;31mTypeError\u001b[0m                                 Traceback (most recent call last)",
      "Cell \u001b[0;32mIn[24], line 1\u001b[0m\n\u001b[0;32m----> 1\u001b[0m \u001b[38;5;124m\"\u001b[39m\u001b[38;5;124mJeg gikk derfor på butikken for å kjøpe \u001b[39m\u001b[38;5;124m\"\u001b[39m \u001b[38;5;241m+\u001b[39m number_of_apples \u001b[38;5;241m+\u001b[39m \u001b[38;5;124m\"\u001b[39m\u001b[38;5;124m epler. \u001b[39m\u001b[38;5;124m\"\u001b[39m\n",
      "\u001b[0;31mTypeError\u001b[0m: can only concatenate str (not \"int\") to str"
     ]
    }
   ],
   "source": [
    "\"Jeg gikk derfor på butikken for å kjøpe \" + number_of_apples + \" epler. \""
   ]
  },
  {
   "cell_type": "markdown",
   "id": "bd883109",
   "metadata": {},
   "source": [
    "Du må i så fall omformatere tallet `number_of_apples` til streng:\n",
    "\n",
    "#### Eksempel 18:"
   ]
  },
  {
   "cell_type": "code",
   "execution_count": 25,
   "id": "b4c82747",
   "metadata": {},
   "outputs": [
    {
     "data": {
      "text/plain": [
       "'Jeg gikk derfor på butikken for å kjøpe 8 epler.'"
      ]
     },
     "execution_count": 25,
     "metadata": {},
     "output_type": "execute_result"
    }
   ],
   "source": [
    "\"Jeg gikk derfor på butikken for å kjøpe \" + str(number_of_apples) + \" epler.\""
   ]
  },
  {
   "cell_type": "markdown",
   "id": "794fc1ab",
   "metadata": {},
   "source": [
    "Derfor er det langt enklere å bruke f-strings. Dersom tekststrengen er for lang for én linje, kan du sette flere tekstrenger etter hverandre på hver sin linje, slik som dette:\n",
    "\n",
    "#### Eksempel 19:"
   ]
  },
  {
   "cell_type": "code",
   "execution_count": 26,
   "id": "381c54a2",
   "metadata": {},
   "outputs": [
    {
     "name": "stdout",
     "output_type": "stream",
     "text": [
      "Det er True at jeg synes epler smaker godt. \n",
      "Jeg gikk derfor på butikken for å kjøpe 8 epler. \n",
      "Innehaveren gav meg en vanvittig pris. Hun skulle ha 102.0 kroner per eple. \n",
      "Jeg fortalte henne at det var helt uaktuelt, og foreslo 0.0102 kroner. \n",
      "Hun avslo, men vi ble til sist enig om 11 kroner.\n",
      "Jeg betalte hennet til sammen 88 kroner og dro hjem. \n",
      "\n",
      "På veien traff jeg 5 venner. Jeg hadde ikke noe annet valg enn å dele eplene mine med dem. \n",
      "Det ble 1.6 epler per person.\n",
      "\n"
     ]
    }
   ],
   "source": [
    "print(\n",
    "    f\"Det er {apple_is_tasty} at jeg synes epler smaker godt. \\n\"\n",
    "    f\"Jeg gikk derfor på butikken for å kjøpe {number_of_apples} epler. \\n\"\n",
    "    f\"Innehaveren gav meg en vanvittig pris. Hun skulle ha {insane_apple_price} kroner per eple. \\n\"\n",
    "    f\"Jeg fortalte henne at det var helt uaktuelt, og foreslo {really_cheap_apple_price} kroner. \\n\"\n",
    "    f\"Hun avslo, men vi ble til sist enig om {apple_price} kroner.\\n\"\n",
    "    f\"Jeg betalte hennet til sammen {apple_price*number_of_apples} kroner og dro hjem. \\n\\n\"\n",
    "    f\"På veien traff jeg {number_of_persons} venner. Jeg hadde ikke noe annet valg enn å dele eplene mine med dem. \\n\"\n",
    "    f\"Det ble {number_of_apples/number_of_persons} epler per person.\\n\"\n",
    ")"
   ]
  },
  {
   "cell_type": "markdown",
   "id": "4ca1a978",
   "metadata": {},
   "source": [
    "Merk at setningene må stå inne i en parentes, for eksempel som argument i en funksjon som over, for at Python skal forstå at de skal settes sammen til én setning. Legg også merke til `\\n`på slutten av hver delsetning. Denne indikerer at det skal være linjeskift etter hver delsetning. "
   ]
  },
  {
   "cell_type": "markdown",
   "id": "9cd6dbc9",
   "metadata": {},
   "source": [
    "## Anførselstegn for strenger\n",
    "\n",
    "Det finnes tre forskjellige typer tegn for å markere at noe er tekst i Python. Disse er apostrof `'`, anførselstegn `\"` og trippel anførselstegn `\"\"\"`. Rollen til de to første typene er å enkelt kunne bruke anførselstegn inne i teksten:\n",
    "\n",
    "#### Eksempel 20:"
   ]
  },
  {
   "cell_type": "code",
   "execution_count": 27,
   "id": "223094a7",
   "metadata": {},
   "outputs": [
    {
     "name": "stdout",
     "output_type": "stream",
     "text": [
      "Jeg gikk derfor på butikken for å 'kjøpe' epler.\n",
      "Jeg gikk derfor på butikken for å \"kjøpe\" epler.\n"
     ]
    }
   ],
   "source": [
    "print( \"Jeg gikk derfor på butikken for å 'kjøpe' epler.\")\n",
    "print( 'Jeg gikk derfor på butikken for å \"kjøpe\" epler.')"
   ]
  },
  {
   "cell_type": "markdown",
   "id": "20d30b3e",
   "metadata": {},
   "source": [
    "Trippel anførselstegn `\"\"\"` brukes når du vil ha tekst over flere linjer, for eksempel\n",
    "\n",
    "#### Eksempel 21:"
   ]
  },
  {
   "cell_type": "code",
   "execution_count": 28,
   "id": "7c7c3de5",
   "metadata": {},
   "outputs": [
    {
     "name": "stdout",
     "output_type": "stream",
     "text": [
      "Det er True at jeg synes epler smaker godt.\n",
      "Jeg gikk derfor på butikken for å kjøpe 8 epler.\n",
      "Innehaveren gav meg en vanvittig pris. Hun skulle ha 102.0 kroner per eple.\n",
      "Jeg fortalte henne at det var helt uaktuelt, og foreslo 0.0102 kroner.\n",
      "Hun avslo, men vi ble til sist enige om 11 kroner.\n",
      "Jeg betalte hennet til sammen 88 kroner og dro hjem.\n",
      "\n",
      "På veien traff jeg 5 venner. Jeg hadde ikke noe annet valg enn å dele eplene mine med dem.\n",
      "Det ble 1.6 epler per person.\n"
     ]
    }
   ],
   "source": [
    "s=f\"\"\"Det er {apple_is_tasty} at jeg synes epler smaker godt.\n",
    "Jeg gikk derfor på butikken for å kjøpe {number_of_apples} epler.\n",
    "Innehaveren gav meg en vanvittig pris. Hun skulle ha {insane_apple_price} kroner per eple.\n",
    "Jeg fortalte henne at det var helt uaktuelt, og foreslo {really_cheap_apple_price} kroner.\n",
    "Hun avslo, men vi ble til sist enige om {apple_price} kroner.\n",
    "Jeg betalte hennet til sammen {apple_price*number_of_apples} kroner og dro hjem.\n",
    "\n",
    "På veien traff jeg {number_of_persons} venner. Jeg hadde ikke noe annet valg enn å dele eplene mine med dem.\n",
    "Det ble {number_of_apples/number_of_persons} epler per person.\"\"\"\n",
    "print(s)"
   ]
  },
  {
   "cell_type": "markdown",
   "id": "424a020a",
   "metadata": {},
   "source": [
    "Alternativt kan du sette hver setning på linje etterhverandre med egne enkel anførselstegn, som i Eksempel 219, men da må alle setningene befinne seg inne i en parentes."
   ]
  },
  {
   "cell_type": "markdown",
   "id": "55d35684",
   "metadata": {},
   "source": [
    "# Oppgaver\n",
    "Nedenfor her vil dere finne flere oppgaver som gjør seg godt for å bli kjent med de ulike variabelene vi har nevnt."
   ]
  },
  {
   "cell_type": "markdown",
   "id": "acca36ca",
   "metadata": {},
   "source": [
    "#### Oppgave 1\n",
    "\n",
    "Bruk koden i Eksempel 19, men fjern `\\n` og se hva som skjer"
   ]
  },
  {
   "cell_type": "code",
   "execution_count": 29,
   "id": "52c03201",
   "metadata": {},
   "outputs": [
    {
     "name": "stdout",
     "output_type": "stream",
     "text": [
      "Det er True at jeg synes epler smaker godt. Jeg gikk derfor på butikken for å kjøpe 8 epler. Innehaveren gav meg en vanvittig pris. Hun skulle ha 102.0 kroner per eple. Jeg fortalte henne at det var helt uaktuelt, og foreslo 0.0102 kroner. Hun avslo, men vi ble til sist enig om 11 kroner. Jeg betalte hennet til sammen 88 kroner og dro hjem. På veien traff jeg 5 venner. Jeg hadde ikke noe annet valg enn å dele eplene mine med dem. Det ble 1.6 epler per person.\n"
     ]
    }
   ],
   "source": [
    "print(\n",
    "    f\"Det er {apple_is_tasty} at jeg synes epler smaker godt. \"\n",
    "    f\"Jeg gikk derfor på butikken for å kjøpe {number_of_apples} epler. \"\n",
    "    f\"Innehaveren gav meg en vanvittig pris. Hun skulle ha {insane_apple_price} kroner per eple. \"\n",
    "    f\"Jeg fortalte henne at det var helt uaktuelt, og foreslo {really_cheap_apple_price} kroner. \"\n",
    "    f\"Hun avslo, men vi ble til sist enig om {apple_price} kroner. \"\n",
    "    f\"Jeg betalte hennet til sammen {apple_price*number_of_apples} kroner og dro hjem. \"\n",
    "    f\"På veien traff jeg {number_of_persons} venner. Jeg hadde ikke noe annet valg enn å dele eplene mine med dem. \"\n",
    "    f\"Det ble {number_of_apples/number_of_persons} epler per person.\"\n",
    ")"
   ]
  },
  {
   "cell_type": "markdown",
   "id": "d49c7ecb",
   "metadata": {},
   "source": [
    "### 🔍 Hva skjer når vi fjerner `\\n`?\n",
    "* `\\n` betyr linjeskift, så når vi fjerner det, blir all teksten skrevet ut på én lang linje i stedet for å være pent formatert på flere linjer.\n",
    "* Det blir altså mye vanskeligere å lese outputtet."
   ]
  },
  {
   "cell_type": "markdown",
   "id": "e1ce3456",
   "metadata": {},
   "source": [
    "#### Oppgave 2\n",
    "Lag variabler som du putter inn i en historie som i Eksempel 19"
   ]
  },
  {
   "cell_type": "code",
   "execution_count": 31,
   "id": "22195091",
   "metadata": {},
   "outputs": [
    {
     "name": "stdout",
     "output_type": "stream",
     "text": [
      "En dag dro Ola til parken fordi det var en solfylt dag.\n",
      "Sammen med 3 venner spilte fotball de i flere timer.\n",
      "Etterpå ble de sultne og bestemte seg for å kjøpe is.\n",
      "Hver is kostet 25 kroner, så til sammen betalte de 75 kroner.\n",
      "Det var en flott dag i parken!\n"
     ]
    }
   ],
   "source": [
    "## Her kan man gjøre akkurat det samme men fjerne variablene, og sette inn dine nye.\n",
    "\n",
    "# Definerer variabler\n",
    "navn = \"Ola\"\n",
    "sted = \"parken\"\n",
    "antall_venner = 3\n",
    "aktivitet = \"spilte fotball\"\n",
    "værtype = \"solfylt\"\n",
    "snack = \"is\"\n",
    "pris_per_is = 25\n",
    "totalpris = antall_venner * pris_per_is\n",
    "\n",
    "# Skriver ut historien med variablene, hvor vi bruker \\n for linjeskift\n",
    "print(\n",
    "    f\"En dag dro {navn} til {sted} fordi det var en {værtype} dag.\\n\"\n",
    "    f\"Sammen med {antall_venner} venner {aktivitet} de i flere timer.\\n\"\n",
    "    f\"Etterpå ble de sultne og bestemte seg for å kjøpe {snack}.\\n\"\n",
    "    f\"Hver {snack} kostet {pris_per_is} kroner, så til sammen betalte de {totalpris} kroner.\\n\"\n",
    "    f\"Det var en flott dag i {sted}!\"\n",
    ")"
   ]
  },
  {
   "cell_type": "markdown",
   "id": "cb217c34",
   "metadata": {},
   "source": [
    "### 🔍 Hva har vi gjort?\n",
    "* Variablene lagrer informasjon som kan endres til andre verdier senere.\n",
    "* `f\"\"` brukes for å sette variabler inn i en streng.\n",
    "* Koden lager en enkel historie som kan tilpasses ved å endre variablene.\n",
    "\n",
    "🚀 Nå kan du endre slik du måtte ønske selv!"
   ]
  },
  {
   "cell_type": "markdown",
   "id": "7d223dc7",
   "metadata": {},
   "source": [
    "#### Oppgave 3\n",
    "a) Hvilke variabler kan brukes sammen med multiplikasjonsoperatoren `*`? \n",
    "prøv for eksempel `\"hei\"*2.0` og `True*2.0`"
   ]
  },
  {
   "cell_type": "code",
   "execution_count": 32,
   "id": "b0658dfe",
   "metadata": {},
   "outputs": [
    {
     "name": "stdout",
     "output_type": "stream",
     "text": [
      "10\n",
      "10.0\n",
      "10.0\n",
      "heihei\n",
      "abcabcabc\n",
      "2\n",
      "0\n"
     ]
    }
   ],
   "source": [
    "# Gyldige kombinasjoner\n",
    "\n",
    "# Tall\n",
    "print(5 * 2)      # 10  (int * int)\n",
    "print(5.0 * 2)    # 10.0  (float * int)\n",
    "print(5 * 2.0)    # 10.0  (int * float)\n",
    "\n",
    "# Streng\n",
    "print(\"hei\" * 2)  # \"heihei\"\n",
    "print(\"abc\" * 3)  # \"abcabcabc\"\n",
    "\n",
    "# Boolean\n",
    "print(True * 2)   # 2  (True tolkes som 1)\n",
    "print(False * 5)  # 0  (False tolkes som 0)"
   ]
  },
  {
   "cell_type": "code",
   "execution_count": 33,
   "id": "80c0c290",
   "metadata": {},
   "outputs": [
    {
     "ename": "TypeError",
     "evalue": "can't multiply sequence by non-int of type 'float'",
     "output_type": "error",
     "traceback": [
      "\u001b[0;31m---------------------------------------------------------------------------\u001b[0m",
      "\u001b[0;31mTypeError\u001b[0m                                 Traceback (most recent call last)",
      "Cell \u001b[0;32mIn[33], line 2\u001b[0m\n\u001b[1;32m      1\u001b[0m \u001b[38;5;66;03m# Ugyldige kombinasjoner\u001b[39;00m\n\u001b[0;32m----> 2\u001b[0m \u001b[38;5;28mprint\u001b[39m(\u001b[38;5;124m\"\u001b[39m\u001b[38;5;124mhei\u001b[39m\u001b[38;5;124m\"\u001b[39m \u001b[38;5;241m*\u001b[39m \u001b[38;5;241m2.0\u001b[39m)\n",
      "\u001b[0;31mTypeError\u001b[0m: can't multiply sequence by non-int of type 'float'"
     ]
    }
   ],
   "source": [
    "# Ugyldige kombinasjoner\n",
    "print(\"hei\" * 2.0)  "
   ]
  },
  {
   "cell_type": "markdown",
   "id": "78dec0fd",
   "metadata": {},
   "source": [
    "**Obs:** her feilet noe. Men les feilmeldingen, altså det som står etter `TypeError` - hva sier denne oss?"
   ]
  },
  {
   "cell_type": "markdown",
   "id": "d95d0e42",
   "metadata": {},
   "source": [
    "b) Hvilke variabler kan brukes sammen med addisjonsoperatoren `+`?"
   ]
  },
  {
   "cell_type": "code",
   "execution_count": null,
   "id": "2cc6c70d",
   "metadata": {},
   "outputs": [],
   "source": [
    "# Gyldige operasjoner med tall\n",
    "print(5 + 3)      # 8  (int + int)\n",
    "print(4.5 + 2.5)  # 7.0  (float + float)\n",
    "print(10 + 2.3)   # 12.3  (int + float)\n",
    "\n",
    "# Gyldige operasjoner med tekst\n",
    "print(\"Hei, \" + \"verden!\")  # \"Hei, verden!\"\n",
    "navn = \"Ola\"\n",
    "print(\"Hei, \" + navn)  # \"Hei, Ola\"\n",
    "\n",
    "# Kan også så slammen lister (men det skal vi ser mer på senere)\n",
    "print([1, 2, 3] + [4, 5, 6])  # [1, 2, 3, 4, 5, 6]"
   ]
  },
  {
   "cell_type": "code",
   "execution_count": 34,
   "id": "6dbe1972",
   "metadata": {},
   "outputs": [
    {
     "ename": "TypeError",
     "evalue": "can only concatenate str (not \"int\") to str",
     "output_type": "error",
     "traceback": [
      "\u001b[0;31m---------------------------------------------------------------------------\u001b[0m",
      "\u001b[0;31mTypeError\u001b[0m                                 Traceback (most recent call last)",
      "Cell \u001b[0;32mIn[34], line 2\u001b[0m\n\u001b[1;32m      1\u001b[0m \u001b[38;5;66;03m# Ugyldig bruk av +\u001b[39;00m\n\u001b[0;32m----> 2\u001b[0m \u001b[38;5;28mprint\u001b[39m(\u001b[38;5;124m\"\u001b[39m\u001b[38;5;124mAlder: \u001b[39m\u001b[38;5;124m\"\u001b[39m \u001b[38;5;241m+\u001b[39m \u001b[38;5;241m25\u001b[39m)\n",
      "\u001b[0;31mTypeError\u001b[0m: can only concatenate str (not \"int\") to str"
     ]
    }
   ],
   "source": [
    "# Ugyldig bruk av +\n",
    "print(\"Alder: \" + 25)"
   ]
  },
  {
   "cell_type": "markdown",
   "id": "895e1c0b",
   "metadata": {},
   "source": [
    "Løsningen for å kjøre eksempelet over er å gjøre om `int` til `str`:\n",
    "\n",
    "```python\n",
    "print(\"Alder: \" + str(25))  # \"Alder: 25\"\n",
    "```\n",
    "**Prøv dette selv.**\n",
    "\n",
    "🚀 Konklusjon: `+` fungerer med tall, strenger, lister og tupler, men ikke på tvers av inkompatible typer."
   ]
  },
  {
   "cell_type": "markdown",
   "id": "ed883f82",
   "metadata": {},
   "source": [
    "c) Hvilke variabler kan brukes sammen med divisjonsoperatoren `/`?"
   ]
  },
  {
   "cell_type": "code",
   "execution_count": 35,
   "id": "b1ad2304",
   "metadata": {},
   "outputs": [
    {
     "name": "stdout",
     "output_type": "stream",
     "text": [
      "5.0\n",
      "4.5\n",
      "3.3333333333333335\n",
      "10.0\n"
     ]
    }
   ],
   "source": [
    "# Gyldige operasjoner\n",
    "print(10 / 2)  # 5.0 (int / int gir float)\n",
    "print(9.0 / 2.0)  # 4.5\n",
    "print(10 / 3)     # 3.3333333333333335\n",
    "print(10 / True)   # 10.0 (10 / 1)"
   ]
  },
  {
   "cell_type": "code",
   "execution_count": 36,
   "id": "88001d54",
   "metadata": {},
   "outputs": [
    {
     "ename": "ZeroDivisionError",
     "evalue": "float division by zero",
     "output_type": "error",
     "traceback": [
      "\u001b[0;31m---------------------------------------------------------------------------\u001b[0m",
      "\u001b[0;31mZeroDivisionError\u001b[0m                         Traceback (most recent call last)",
      "Cell \u001b[0;32mIn[36], line 2\u001b[0m\n\u001b[1;32m      1\u001b[0m \u001b[38;5;66;03m# Ugyldige operasjoner\u001b[39;00m\n\u001b[0;32m----> 2\u001b[0m \u001b[38;5;28mprint\u001b[39m(\u001b[38;5;241m5.0\u001b[39m \u001b[38;5;241m/\u001b[39m \u001b[38;5;28;01mFalse\u001b[39;00m)\n",
      "\u001b[0;31mZeroDivisionError\u001b[0m: float division by zero"
     ]
    }
   ],
   "source": [
    "# Ugyldige operasjoner\n",
    "print(5.0 / False) # ❌ Feil: Division by zero!"
   ]
  },
  {
   "cell_type": "code",
   "execution_count": 37,
   "id": "4d58ab52",
   "metadata": {},
   "outputs": [
    {
     "ename": "TypeError",
     "evalue": "unsupported operand type(s) for /: 'str' and 'int'",
     "output_type": "error",
     "traceback": [
      "\u001b[0;31m---------------------------------------------------------------------------\u001b[0m",
      "\u001b[0;31mTypeError\u001b[0m                                 Traceback (most recent call last)",
      "Cell \u001b[0;32mIn[37], line 1\u001b[0m\n\u001b[0;32m----> 1\u001b[0m \u001b[38;5;28mprint\u001b[39m(\u001b[38;5;124m\"\u001b[39m\u001b[38;5;124mHei\u001b[39m\u001b[38;5;124m\"\u001b[39m \u001b[38;5;241m/\u001b[39m \u001b[38;5;241m2\u001b[39m)\n",
      "\u001b[0;31mTypeError\u001b[0m: unsupported operand type(s) for /: 'str' and 'int'"
     ]
    }
   ],
   "source": [
    "print(\"Hei\" / 2)"
   ]
  },
  {
   "cell_type": "code",
   "execution_count": 38,
   "id": "cd54c86d",
   "metadata": {},
   "outputs": [
    {
     "ename": "ZeroDivisionError",
     "evalue": "division by zero",
     "output_type": "error",
     "traceback": [
      "\u001b[0;31m---------------------------------------------------------------------------\u001b[0m",
      "\u001b[0;31mZeroDivisionError\u001b[0m                         Traceback (most recent call last)",
      "Cell \u001b[0;32mIn[38], line 1\u001b[0m\n\u001b[0;32m----> 1\u001b[0m \u001b[38;5;28mprint\u001b[39m(\u001b[38;5;241m10\u001b[39m \u001b[38;5;241m/\u001b[39m \u001b[38;5;241m0\u001b[39m)\n",
      "\u001b[0;31mZeroDivisionError\u001b[0m: division by zero"
     ]
    }
   ],
   "source": [
    "print(10 / 0)  # ❌ Feil"
   ]
  },
  {
   "cell_type": "markdown",
   "id": "b12b28bb",
   "metadata": {},
   "source": [
    "d) Hvilke variabler kan brukes sammen med subtraksjonsoperatoren `-`?"
   ]
  },
  {
   "cell_type": "code",
   "execution_count": 40,
   "id": "58f685c5",
   "metadata": {},
   "outputs": [
    {
     "name": "stdout",
     "output_type": "stream",
     "text": [
      "5\n",
      "5.3\n",
      "9\n",
      "5.5\n",
      "-10\n",
      "5\n"
     ]
    }
   ],
   "source": [
    "# Gyldige operasjoner\n",
    "\n",
    "# Vanlig subtraksjon\n",
    "print(10 - 5)  # 5\n",
    "print(7.5 - 2.2)  # 5.3\n",
    "\n",
    "# Husk at True = 1 og False = 0\n",
    "print(10 - True)   # 9 (10 - 1)\n",
    "print(5.5 - False) # 5.5 (5.5 - 0)\n",
    "\n",
    "# Kan gjøre om negative tall til positive, og omvendt\n",
    "print(-10)   # -10\n",
    "print(-(-5)) # 5"
   ]
  },
  {
   "cell_type": "code",
   "execution_count": 39,
   "id": "05b76408",
   "metadata": {},
   "outputs": [
    {
     "ename": "TypeError",
     "evalue": "unsupported operand type(s) for -: 'str' and 'str'",
     "output_type": "error",
     "traceback": [
      "\u001b[0;31m---------------------------------------------------------------------------\u001b[0m",
      "\u001b[0;31mTypeError\u001b[0m                                 Traceback (most recent call last)",
      "Cell \u001b[0;32mIn[39], line 2\u001b[0m\n\u001b[1;32m      1\u001b[0m \u001b[38;5;66;03m# Ugyldig\u001b[39;00m\n\u001b[0;32m----> 2\u001b[0m \u001b[38;5;28mprint\u001b[39m(\u001b[38;5;124m\"\u001b[39m\u001b[38;5;124mHei\u001b[39m\u001b[38;5;124m\"\u001b[39m \u001b[38;5;241m-\u001b[39m \u001b[38;5;124m\"\u001b[39m\u001b[38;5;124mH\u001b[39m\u001b[38;5;124m\"\u001b[39m)\n",
      "\u001b[0;31mTypeError\u001b[0m: unsupported operand type(s) for -: 'str' and 'str'"
     ]
    }
   ],
   "source": [
    "# Ugyldig\n",
    "print(\"Hei\" - \"H\")  "
   ]
  },
  {
   "cell_type": "markdown",
   "id": "4fdb7c0e",
   "metadata": {},
   "source": [
    "#### Oppgave 4\n",
    "\n",
    "a) Forsøk med prøving og feiling å finne det størst mulige `float`-tallet som ikke blir `inf`"
   ]
  },
  {
   "cell_type": "code",
   "execution_count": 41,
   "id": "1e1ce49b",
   "metadata": {},
   "outputs": [
    {
     "name": "stdout",
     "output_type": "stream",
     "text": [
      "8.98846567431158e+307\n"
     ]
    }
   ],
   "source": [
    "# Dette er ved hjelp av en løkke, for å se største verdi ved å doble tallet 1, doble det igjen, og igjen og igjen så langt det går før det blir inf (\"uendelig\" for PC/MAC-en).\n",
    "\n",
    "x = 1.0\n",
    "while x * 2 != float(\"inf\"):  # Så lenge det ikke blir \"inf\", fortsett å doble\n",
    "    x *= 2\n",
    "\n",
    "print(x)  # Siste gyldige verdi før \"inf\""
   ]
  },
  {
   "cell_type": "code",
   "execution_count": 42,
   "id": "521aa314",
   "metadata": {},
   "outputs": [
    {
     "name": "stdout",
     "output_type": "stream",
     "text": [
      "1.7976931348623157e+308\n"
     ]
    }
   ],
   "source": [
    "# Kjører dere denne kodeblokken ser dere den høyeste verdien vi kan ha i python.\n",
    "import sys\n",
    "print(sys.float_info.max)  "
   ]
  },
  {
   "cell_type": "markdown",
   "id": "f296f304",
   "metadata": {},
   "source": [
    "🚀 Konklusjon:\n",
    "Det største `float`-tallet i Python er omtrent $1.7976931348623157 × 10^{308}$.\n",
    "Alt større enn dette blir `inf`."
   ]
  },
  {
   "cell_type": "markdown",
   "id": "43bc49d4",
   "metadata": {},
   "source": [
    "b) Forsøk med prøving og feiling å finne `float`-tallet nærmest null som ikke blir `0.0`\n"
   ]
  },
  {
   "cell_type": "code",
   "execution_count": 43,
   "id": "14ddcb0b",
   "metadata": {},
   "outputs": [
    {
     "name": "stdout",
     "output_type": "stream",
     "text": [
      "5e-324\n"
     ]
    }
   ],
   "source": [
    "x = 1.0  \n",
    "while x / 2 > 0:  # Så lenge verdien ikke blir 0.0, fortsett å halvere\n",
    "    x /= 2  \n",
    "\n",
    "print(x)  # Siste gyldige verdi før den blir 0.0"
   ]
  },
  {
   "cell_type": "markdown",
   "id": "35e30317",
   "metadata": {},
   "source": [
    "#### Oppgave 5\n",
    "\n",
    "1. Hva er hensikten med en boolsk variabel?\n",
    "\n",
    "Svar: En boolsk variabel brukes til å lagre en sannhetsverdi: enten `True` eller `False`. Det er nyttige i programmering for å si noe om man skal gjøre ditt eller datt, betingelser, løkker og andre logiske operasjoner. Dette vil vi bruke mye senere i kurset.\n",
    "\n",
    "2. Hvordan kan du konvertere:\n",
    "    * en boolsk verdi til en heltall verdi i Python? \\n\n",
    "    * et heltall til en streng i Python?\n",
    "    * et flyttall til et heltall i Python?"
   ]
  },
  {
   "cell_type": "code",
   "execution_count": 46,
   "id": "dfaf9885",
   "metadata": {},
   "outputs": [
    {
     "data": {
      "text/plain": [
       "1"
      ]
     },
     "execution_count": 46,
     "metadata": {},
     "output_type": "execute_result"
    }
   ],
   "source": [
    "# Konvertere boolsk verdi til heltall\n",
    "bool_verdi = True\n",
    "heltall = int(bool_verdi)  # Dette gir 1\n",
    "heltall"
   ]
  },
  {
   "cell_type": "code",
   "execution_count": 47,
   "id": "1db3c008",
   "metadata": {},
   "outputs": [
    {
     "data": {
      "text/plain": [
       "'42'"
      ]
     },
     "execution_count": 47,
     "metadata": {},
     "output_type": "execute_result"
    }
   ],
   "source": [
    "heltall = 42\n",
    "streng = str(heltall)  # Dette gir '42'\n",
    "streng"
   ]
  },
  {
   "cell_type": "code",
   "execution_count": 48,
   "id": "d2bb0782",
   "metadata": {},
   "outputs": [],
   "source": [
    "flyttall = 3.14\n",
    "heltall = int(flyttall)  # Dette gir 3"
   ]
  },
  {
   "cell_type": "markdown",
   "id": "3284471c",
   "metadata": {},
   "source": [
    "3. Hvorfor bruker vi f-strings i Python, og hvordan bruker du dem for å kombinere tekst og variabler?\n",
    "f-strings er nyttige fordi det gjør det svært enkelt å kombinere ulike variabeltyper med tekst, på en pen og oversiktlig måte, uten å trenge å konvertere variablene først."
   ]
  },
  {
   "cell_type": "markdown",
   "id": "59121ab8",
   "metadata": {},
   "source": [
    "**Hvorfor bruke f-strings?** \n",
    "\n",
    "* **Lesbarhet**: F-strings gjør koden mer lesbar og enklere å forstå, fordi de lar deg inkludere variabler direkte i strengene.\n",
    "* **Effektivitet**: F-strings er raskere enn andre metoder for strengformatering som `str.format()` og `%`-operatoren.\n",
    "* **Enkelhet**: De tillater at du kan inkludere variabler og uttrykk direkte i strengen uten å måtte gjøre ekstra konverteringer eller bruke spesielle syntaksmetoder.\n",
    "\n",
    "For å bruke en f-string, setter du et \"f\" foran en streng og bruker krøllparenteser `{}` for å plassere variablene eller uttrykkene du ønsker å inkludere i strengen."
   ]
  },
  {
   "cell_type": "code",
   "execution_count": 49,
   "id": "50f5e399",
   "metadata": {},
   "outputs": [
    {
     "name": "stdout",
     "output_type": "stream",
     "text": [
      "Hei, jeg heter Alice og jeg er 25 år gammel.\n"
     ]
    }
   ],
   "source": [
    "# Eksempel\n",
    "navn = \"Alice\"\n",
    "alder = 25\n",
    "melding = f\"Hei, jeg heter {navn} og jeg er {alder} år gammel.\"\n",
    "print(melding)\n",
    "# Output: Hei, jeg heter Alice og jeg er 25 år gammel."
   ]
  },
  {
   "cell_type": "markdown",
   "id": "ee111ca5",
   "metadata": {},
   "source": [
    "4. Hvordan representerer du desimaltall i Python, og hva er spesielt med hvordan de lagres i minnet?\n",
    "\n",
    "Desimaltall i Python er flyttall, som er en tallrekke med 16 tall og et desimaltegn (\".\") etterfulgt av \"1e-xxx\"/\"1e+xxx\", som bestemmer hva tallet skal multipliseres med. xxx angir hvor mange ganger 10 skal opphøyes, så 1e-2 er for eksempel 0.01 og 2e+2 er 200."
   ]
  },
  {
   "cell_type": "markdown",
   "id": "4a4bb713",
   "metadata": {},
   "source": [
    "I Python representeres desimaltall som **flyttall** (eller **floats**), som er tall med en desimaldel. Disse er i utgangspunktet lagret ved hjelp av **standard flyttallsformatet IEEE 754** som brukes til å representere desimaltall på en binær måte."
   ]
  },
  {
   "cell_type": "code",
   "execution_count": 54,
   "id": "9c941dd2",
   "metadata": {},
   "outputs": [],
   "source": [
    "x = 3.14  # 3.14\n",
    "y = 0.1   # 0.1"
   ]
  },
  {
   "cell_type": "code",
   "execution_count": null,
   "id": "4d7c55a7",
   "metadata": {},
   "outputs": [],
   "source": [
    "a = 1e-2  # 1 * 10^-2, som er 0.01\n",
    "b = 2e+2  # 2 * 10^2, som er 200"
   ]
  },
  {
   "cell_type": "markdown",
   "id": "28242922",
   "metadata": {},
   "source": [
    "### **Spesielt med hvordan desimaltall lagres i minnet**\n",
    "1. **Flyttallsrepresentasjon (IEEE 754)**:\n",
    "\n",
    "* Flyttall i Python lagres i henhold til **IEEE 754-standard**. Dette betyr at de består av tre deler:\n",
    "    * **Signifikant (mantissa)**: Den faktiske verdien som skal lagres.\n",
    "    * **Eksponent**: Hvor mange ganger tallet skal multipliseres med 10.\n",
    "    * **Fortegn**: Om tallet er positivt eller negativt.\n",
    "Denne representasjonen tillater lagring av både veldig store og veldig små tall, men den har også noen **begrensninger**.\n",
    "\n",
    "2. **Presisjonsproblemer**:\n",
    "\n",
    "Flyttall kan ikke alltid representere desimaltall nøyaktig i binær form. Dette kan føre til små avrundingsfeil i beregningene. For eksempel er verdien `0.1` ikke representert eksakt i binær form, så når du jobber med flyttall kan du oppleve små unøyaktigheter.\n"
   ]
  },
  {
   "cell_type": "code",
   "execution_count": 55,
   "id": "89e6bfe7",
   "metadata": {},
   "outputs": [
    {
     "name": "stdout",
     "output_type": "stream",
     "text": [
      "0.30000000000000004\n"
     ]
    }
   ],
   "source": [
    "print(0.1 + 0.2)\n",
    "\n",
    "# Se på output av denne kodeblokken!"
   ]
  },
  {
   "cell_type": "code",
   "execution_count": 60,
   "id": "44717f57",
   "metadata": {},
   "outputs": [
    {
     "name": "stdout",
     "output_type": "stream",
     "text": [
      "0.3\n"
     ]
    }
   ],
   "source": [
    "print(round(0.1 + 0.2, 2)) # Runder av til 0.3"
   ]
  },
  {
   "cell_type": "markdown",
   "id": "e62e3cbc",
   "metadata": {},
   "source": [
    "5. Hva betyr det å heve et tall til en potens, og hvordan utfører du denne operasjonen i Python?\n",
    "\n",
    "Å heve et tall i en potens betyr å gange tallet med seg selv et angit antall ganger. Til dette brukes `**`. For eksempel er `10**2=10*10` og `100**0.5 = 10`."
   ]
  },
  {
   "cell_type": "code",
   "execution_count": 61,
   "id": "dc381579",
   "metadata": {},
   "outputs": [
    {
     "name": "stdout",
     "output_type": "stream",
     "text": [
      "100\n"
     ]
    }
   ],
   "source": [
    "resultat = 10 ** 2\n",
    "print(resultat)  # Output: 100"
   ]
  },
  {
   "cell_type": "code",
   "execution_count": 64,
   "id": "4a3ecac5",
   "metadata": {},
   "outputs": [
    {
     "name": "stdout",
     "output_type": "stream",
     "text": [
      "0.01\n"
     ]
    }
   ],
   "source": [
    "resultat = 10 ** -2\n",
    "print(resultat)"
   ]
  },
  {
   "cell_type": "code",
   "execution_count": 65,
   "id": "11fc165c",
   "metadata": {},
   "outputs": [
    {
     "name": "stdout",
     "output_type": "stream",
     "text": [
      "1000.0\n"
     ]
    }
   ],
   "source": [
    "resultat = 10e+2 # Det samme som 10 x 10^2\n",
    "print(resultat)"
   ]
  },
  {
   "cell_type": "markdown",
   "id": "d6179af0",
   "metadata": {},
   "source": [
    "#### Oppgave 6\n",
    "\n",
    "1. Skriv en Python-kode som definerer variablene: name, age, og city med dine egne detaljer. Bruk deretter en f-string for å skrive en setning som kombinerer disse detaljene."
   ]
  },
  {
   "cell_type": "code",
   "execution_count": 66,
   "id": "816fa962",
   "metadata": {},
   "outputs": [
    {
     "name": "stdout",
     "output_type": "stream",
     "text": [
      "Hei, jeg heter John, jeg er 30 år gammel, og jeg bor i Oslo.\n"
     ]
    }
   ],
   "source": [
    "# Definerer variablene med egne detaljer\n",
    "name = \"John\"\n",
    "age = 30\n",
    "city = \"Oslo\"\n",
    "\n",
    "# Bruker en f-string for å kombinere detaljene\n",
    "setning = f\"Hei, jeg heter {name}, jeg er {age} år gammel, og jeg bor i {city}.\"\n",
    "\n",
    "# Skriver ut setningen\n",
    "print(setning)"
   ]
  },
  {
   "cell_type": "markdown",
   "id": "7d5486c5",
   "metadata": {},
   "source": [
    "2. Lag en kalkulator ved å definere to variabler `x` og `y`først. Koden skal viser summen, differansen, produktet, forholdet og `x` i potens av `y`."
   ]
  },
  {
   "cell_type": "code",
   "execution_count": 67,
   "id": "6027c260",
   "metadata": {},
   "outputs": [
    {
     "name": "stdout",
     "output_type": "stream",
     "text": [
      "Summen av 10 og 2 er: 12\n",
      "Differansen mellom 10 og 2 er: 8\n",
      "Produktet av 10 og 2 er: 20\n",
      "Forholdet av 10 og 2 er: 5.0\n",
      "10 hevet til 2 er: 100\n"
     ]
    }
   ],
   "source": [
    "# Definerer variablene\n",
    "x = 10\n",
    "y = 2\n",
    "\n",
    "# Beregner operasjonene\n",
    "sum_resultat = x + y\n",
    "differanse_resultat = x - y\n",
    "produkt_resultat = x * y\n",
    "forhold_resultat = x / y\n",
    "potens_resultat = x ** y\n",
    "\n",
    "# Skriver ut resultatene\n",
    "print(f\"Summen av {x} og {y} er: {sum_resultat}\")\n",
    "print(f\"Differansen mellom {x} og {y} er: {differanse_resultat}\")\n",
    "print(f\"Produktet av {x} og {y} er: {produkt_resultat}\")\n",
    "print(f\"Forholdet av {x} og {y} er: {forhold_resultat}\")\n",
    "print(f\"{x} hevet til {y} er: {potens_resultat}\")"
   ]
  },
  {
   "cell_type": "markdown",
   "id": "046605e7",
   "metadata": {},
   "source": [
    "3. Bruk boolske verdier for å avgjøre om et tall er oddetall eller partall, og skriv ut resultatet for tallet 15."
   ]
  },
  {
   "cell_type": "code",
   "execution_count": 68,
   "id": "323c9551",
   "metadata": {},
   "outputs": [
    {
     "name": "stdout",
     "output_type": "stream",
     "text": [
      "15 er et oddetall.\n"
     ]
    }
   ],
   "source": [
    "# Definerer tallet\n",
    "tall = 15\n",
    "\n",
    "# Sjekker om tallet er partall eller oddetall ved hjelp av modulo\n",
    "# modulo (%) sjekker om det er delelig på to (altså partall) eller ikke (altså oddetall)\n",
    "er_partall = (tall % 2 == 0)\n",
    "er_oddetall = (tall % 2 != 0)\n",
    "\n",
    "# Skriver ut resultatene\n",
    "if er_partall:\n",
    "    print(f\"{tall} er et partall.\")\n",
    "elif er_oddetall:\n",
    "    print(f\"{tall} er et oddetall.\")"
   ]
  },
  {
   "cell_type": "markdown",
   "id": "ac72cc48",
   "metadata": {},
   "source": [
    "5. Skriv en kode som definerer to variabler `var_type` og `x`. Du skal sette `var_type` til en datatype og `x` til en verdi, for eksempel slik som under. Koden skal konvertere `x` til datatypen angitt av `var_type`, og printe ut type og verdi før og etter konverering. Forsøkt så med ulike verdier for `x` og ulike datatyper i `var_type`."
   ]
  },
  {
   "cell_type": "code",
   "execution_count": 70,
   "id": "dc5a8f03",
   "metadata": {},
   "outputs": [],
   "source": [
    "# Definerer variablene\n",
    "var_type = float  # Eksempel: ønsket datatype er float\n",
    "x = \"123.45\"  # Eksempel: verdien er en streng"
   ]
  },
  {
   "cell_type": "code",
   "execution_count": 71,
   "id": "cddd8169",
   "metadata": {},
   "outputs": [
    {
     "name": "stdout",
     "output_type": "stream",
     "text": [
      "Før konvertering: type(x) = <class 'str'>, verdi(x) = 123.45\n",
      "Etter konvertering: type(x) = <class 'float'>, verdi(x) = 123.45\n"
     ]
    }
   ],
   "source": [
    "# Skriv ut type og verdi før konvertering\n",
    "print(f\"Før konvertering: type(x) = {type(x)}, verdi(x) = {x}\")\n",
    "\n",
    "# Konverterer x til den angitte datatypen\n",
    "x = var_type(x)\n",
    "\n",
    "# Skriv ut type og verdi etter konvertering\n",
    "print(f\"Etter konvertering: type(x) = {type(x)}, verdi(x) = {x}\")"
   ]
  },
  {
   "cell_type": "markdown",
   "id": "f8542985",
   "metadata": {},
   "source": [
    "## Hipphipp du er ferdig med disse oppgavene :D"
   ]
  },
  {
   "cell_type": "markdown",
   "id": "5e09253e",
   "metadata": {},
   "source": [
    "##### [Forrige \\>](1%20-%20Introduksjon.ipynb)  |     [Neste \\>](3%20-%20Funksjoner.ipynb)"
   ]
  }
 ],
 "metadata": {
  "kernelspec": {
   "display_name": "Python (myenv)",
   "language": "python",
   "name": "myenv"
  },
  "language_info": {
   "codemirror_mode": {
    "name": "ipython",
    "version": 3
   },
   "file_extension": ".py",
   "mimetype": "text/x-python",
   "name": "python",
   "nbconvert_exporter": "python",
   "pygments_lexer": "ipython3",
   "version": "3.11.7"
  }
 },
 "nbformat": 4,
 "nbformat_minor": 5
}
