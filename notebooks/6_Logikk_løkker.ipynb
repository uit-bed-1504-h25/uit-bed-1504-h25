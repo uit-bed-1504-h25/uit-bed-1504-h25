{
 "cells": [
  {
   "cell_type": "markdown",
   "id": "a94965cd",
   "metadata": {},
   "source": [
    "##### [< Forrige](5%20-%20Pandas_og_databehandling.ipynb)     |     [Neste >](7.1%20-%20matplotlib.ipynb)"
   ]
  },
  {
   "cell_type": "markdown",
   "id": "3b799010-59c6-47e5-84b5-758348032385",
   "metadata": {
    "jp-MarkdownHeadingCollapsed": true,
    "tags": []
   },
   "source": [
    "<span style=\"color:#9bb1d4;font-size:30px;font-weight:900\"> 6 - Logikk (if/else/for/while) </span>  "
   ]
  },
  {
   "cell_type": "markdown",
   "id": "6185fa04",
   "metadata": {},
   "source": [
    "# Logikk og betingelser"
   ]
  },
  {
   "cell_type": "markdown",
   "id": "a68a2fb5",
   "metadata": {},
   "source": [
    "Noe av det vi gjør oftest når vi programmerer er å teste om en betingelse er sann eller usann. Når testen er utført, kan programmet velge riktig vei å gå i fortsettelsen. Slik testing kalles \"logikk\". Vi har allerede i innledningen vært inne på variabeltypen som avgjør om en test er sann eller usann, typen `bool`. \n",
    "\n",
    "Sann eller usann (`True` og `False`) brukes som oftest sammen med en `if`-betingelse, slik som dette:\n",
    "\n",
    "#### Eksempel 1:"
   ]
  },
  {
   "cell_type": "code",
   "execution_count": 3,
   "id": "79193e95",
   "metadata": {},
   "outputs": [
    {
     "name": "stdout",
     "output_type": "stream",
     "text": [
      "Hei\n"
     ]
    }
   ],
   "source": [
    "a = False\n",
    "\n",
    "if a == False:\n",
    "    print(\"Hei\")\n",
    "else:\n",
    "    print(\"Hå\")"
   ]
  },
  {
   "cell_type": "markdown",
   "id": "1ecda1ec",
   "metadata": {},
   "source": [
    "Eksempelet over ser vi at hvis ```a = False```, så printes teksten 'Hei'. Hvis vi setter ```a = True``` så printes teksten 'Hå'.  \n",
    "\n",
    "## If/else Statements i Python\n",
    "```if/else```-setninger i Python brukes til å utføre betinget logikk i programmet. De lar oss ta beslutninger i koden basert på spesifikke betingelser. Dette betyr at programmet kan kjøre ulike blokker med kode avhengig av om en betingelse er sann (```True```) eller usann (```False```).\n",
    "\n",
    "### Grunnleggende Struktur\n",
    "Strukturen for en enkel if/else-setning ser slik ut:\n",
    "\n",
    "```python\n",
    "        if betingelse:\n",
    "            # Kode som kjøres hvis betingelsen er sann\n",
    "        else:\n",
    "            # Kode som kjøres hvis betingelsen er usann\n",
    "```\n",
    "\n",
    "Hvor det er viktig at det brukes kolon (:) og inntrykk!\n",
    "\n",
    "Vanligvis vil `if`-setningen inneholde en test som ikke er helt åpenbar, og som avhenger av input i en funksjon eller en variabel som er definert et annet sted i koden. Her er et eksempel på det første:\n",
    "\n",
    "#### Eskempel 2:"
   ]
  },
  {
   "cell_type": "code",
   "execution_count": 5,
   "id": "375d9cb8",
   "metadata": {},
   "outputs": [
    {
     "name": "stdout",
     "output_type": "stream",
     "text": [
      "Bought for: 100\n",
      "Worth today: 101\n",
      "You won!\n"
     ]
    }
   ],
   "source": [
    "import numpy as np\n",
    "\n",
    "def did_I_win(s0,s1):\n",
    "    if s1>s0:\n",
    "        return \"won!\"\n",
    "    else:\n",
    "        return \"lost\" \n",
    "\n",
    "PricePaid = 100\n",
    "StockPriceToday = int(np.random.rand()*200)\n",
    "print(\n",
    "    f\"Bought for: {PricePaid}\\n\"\n",
    "    f\"Worth today: {StockPriceToday}\\n\"\n",
    "    f\"You {did_I_win(PricePaid,StockPriceToday)}\"\n",
    ")"
   ]
  },
  {
   "cell_type": "markdown",
   "id": "70bdf51b",
   "metadata": {},
   "source": [
    "## elif-statements\n",
    "I tillegg kan vi bruke ```elif``` (else if) for å sjekke flere betingelser:\n",
    "\n",
    "```python\n",
    "    if betingelse1:\n",
    "        # Kode som kjøres hvis betingelse1 er sann\n",
    "    elif betingelse2:\n",
    "        # Kode som kjøres hvis betingelse2 er sann\n",
    "    else:\n",
    "        # Kode som kjøres hvis ingen av betingelsene er sanne\n",
    "```\n",
    "Her kan vi legge til \"så mange vi vil\" av ```elif```-statements. Men bare én ```if``` og én ```else```.\n"
   ]
  },
  {
   "cell_type": "markdown",
   "id": "8827c8fc",
   "metadata": {},
   "source": [
    "## Betingelser\n",
    "Betingelsene i ```if```-setninger kan involvere sammenligninger (som ```==```, ```!=```, ```>```, ```<```, ```>=```, ```<=```) og logiske operatorer (```and```, ```or```, ```not```)."
   ]
  },
  {
   "cell_type": "markdown",
   "id": "23a0ee61",
   "metadata": {},
   "source": [
    "## **Eksempel med elif og betingelser**\n",
    "La oss se for deg at du har en variabel 'alder', og gir den en verdi. Så kan vi bruke ```if/elif/else``` for å si noe om denne alderen."
   ]
  },
  {
   "cell_type": "code",
   "execution_count": 9,
   "id": "e535c0a7",
   "metadata": {},
   "outputs": [
    {
     "name": "stdout",
     "output_type": "stream",
     "text": [
      "Du er en voksen.\n"
     ]
    }
   ],
   "source": [
    "# Eksempelalder\n",
    "alder = 18\n",
    "\n",
    "if alder < 18:\n",
    "    print(\"Du er et barn.\")\n",
    "elif alder < 65:\n",
    "    print(\"Du er en voksen.\")\n",
    "else:\n",
    "    print(\"Du er en senior.\")\n",
    "\n",
    "### Det vi egentlig har skrevet over her, gjør er:\n",
    "# Hvis alder er mindre enn 18 --> print(\"Du er et barn.\")\n",
    "# Hvis ikke den over, hvis alder er mindre enn 65 --> print(\"Du er en voksen.\")\n",
    "# Hvis ingen av de over --> print(\"Du er en senior.\")"
   ]
  },
  {
   "cell_type": "markdown",
   "id": "c8a339eb",
   "metadata": {},
   "source": [
    "## En liten oversikt av If/Else Statements i Python\n",
    "\n",
    "| Komponent       | Beskrivelse                                           | Eksempel                        |\n",
    "|------------------|-----------------------------------------------------|---------------------------------|\n",
    "| **if**           | Sjekker en betingelse; hvis sann, kjør koden under  | `if x > 10:`                    |\n",
    "| **else**         | Kjør koden under hvis if-betingelsen er usann     | `else:`                         |\n",
    "| **elif**        | Sjekker en annen betingelse hvis `if` er usann     | `elif x > 5:`                   |\n",
    "| **betingelse**   | Uttrykk som evalueres til `True` eller `False`     | `x == 10`, `y < 5`, `z != 0`   |\n",
    "| **blokk**        | Koden som kjøres hvis betingelsen er oppfylt       | `print(\"Hello\")`               |\n",
    "\n",
    "```if/else```-setninger er essensielle for å implementere beslutningstaking i programmer. De gir programmene evnen til å håndtere forskjellige situasjoner og tilpasse seg forskjellige innganger. Ved å bruke disse setningene kan vi lage dynamiske og responsive programmer som reagerer på brukerens input eller andre forhold."
   ]
  },
  {
   "cell_type": "markdown",
   "id": "92ec3e41",
   "metadata": {},
   "source": [
    "### Ofte vil vi teste andre ting!\n",
    "\n",
    "Ofte vil du ønske å sammenligne ulike datasett, for eksempel to numpy-rekker. Dersom du skal ha en `if`-betingelse, må du imidlertid huske på at for å få ett svar på en sammenligning mellom to numpy-rekker, så må du angi på hvilken måte de skal sammenlignes. I utgangspunktet vil en slik sammenligning bare gi resultatet fra en sammenligning av hvert element i de to rekkene. Resultatet av sammenligningen er altså ikke en bolsk verdi (`bool`) men en ny rekke. En slik sammenligning vil derfor føre til en feil:\n",
    "\n",
    "#### Eksempel 2:"
   ]
  },
  {
   "cell_type": "code",
   "execution_count": 10,
   "id": "b01219bf",
   "metadata": {},
   "outputs": [
    {
     "name": "stdout",
     "output_type": "stream",
     "text": [
      "[False False  True]\n"
     ]
    },
    {
     "ename": "ValueError",
     "evalue": "The truth value of an array with more than one element is ambiguous. Use a.any() or a.all()",
     "output_type": "error",
     "traceback": [
      "\u001b[0;31m---------------------------------------------------------------------------\u001b[0m",
      "\u001b[0;31mValueError\u001b[0m                                Traceback (most recent call last)",
      "Cell \u001b[0;32mIn[10], line 4\u001b[0m\n\u001b[1;32m      2\u001b[0m b\u001b[38;5;241m=\u001b[39mnp\u001b[38;5;241m.\u001b[39marray([\u001b[38;5;241m3\u001b[39m,\u001b[38;5;241m2\u001b[39m,\u001b[38;5;241m1\u001b[39m])\n\u001b[1;32m      3\u001b[0m \u001b[38;5;28mprint\u001b[39m(a\u001b[38;5;241m>\u001b[39mb)\n\u001b[0;32m----> 4\u001b[0m \u001b[38;5;28;01mif\u001b[39;00m a\u001b[38;5;241m>\u001b[39mb:\n\u001b[1;32m      5\u001b[0m     \u001b[38;5;28mprint\u001b[39m(\u001b[38;5;124m'\u001b[39m\u001b[38;5;124ma was bigger than b\u001b[39m\u001b[38;5;124m'\u001b[39m)\n",
      "\u001b[0;31mValueError\u001b[0m: The truth value of an array with more than one element is ambiguous. Use a.any() or a.all()"
     ]
    }
   ],
   "source": [
    "a = np.array([1,2,3])\n",
    "b = np.array([3,2,1])\n",
    "\n",
    "print(a>b)\n",
    "if a>b:\n",
    "    print('a was bigger than b')"
   ]
  },
  {
   "cell_type": "markdown",
   "id": "a3bfcf50",
   "metadata": {},
   "source": [
    "I stedet må vi angi hvordan den elementvise sammenligningen skal sammenfattes i et sant/usant-resultat. Vi kan da velge mellom å kreve at alle elementene er sanne med numpyfunksjonen `all()`, eller at minst ett av elementene er sanne med`any()`.\n",
    "\n",
    "#### Eksempel 3:\n"
   ]
  },
  {
   "cell_type": "code",
   "execution_count": 11,
   "id": "8b8ccb8d",
   "metadata": {},
   "outputs": [
    {
     "name": "stdout",
     "output_type": "stream",
     "text": [
      "There were elements in a where the corresponding element in b was smaller\n",
      "All elements in a was bigger than the corresponding element in b\n"
     ]
    }
   ],
   "source": [
    "if np.any(a>b):\n",
    "    print('There were elements in a where the corresponding element in b was smaller')\n",
    "    \n",
    "    \n",
    "a = np.array([101,102,103])\n",
    "if np.all(a>b):\n",
    "    print('All elements in a was bigger than the corresponding element in b')\n"
   ]
  },
  {
   "cell_type": "markdown",
   "id": "1be0bf26",
   "metadata": {},
   "source": [
    "## If/else setninger og lister\n",
    "Ofte vil du ha bruk for å bruke flere vilkår for testen, der du enten krever at alle må være sanne, eller at det holder at én er sann, eller en kombinasjon. Det oppnår vi med `and` og `or`. \n",
    "\n",
    "Et annet nyttig nøkkelord for logiske tester er `in`. Dette brukes på alt fra å finne ut om et objekt er i en liste eller annen datastruktur, til om en delstreng er i en streng. Her er et eksempel som bruker alle disse nøkkelordene i `if` og `elif`-setninger:\n",
    "\n",
    "#### Eksempel 4:"
   ]
  },
  {
   "cell_type": "code",
   "execution_count": 10,
   "id": "e9ea6acd",
   "metadata": {},
   "outputs": [
    {
     "name": "stdout",
     "output_type": "stream",
     "text": [
      "lion is a cat and a mammal\n"
     ]
    }
   ],
   "source": [
    "animal='lion'\n",
    "\n",
    "cats=['lion','tiger','puma','lynx']\n",
    "mammals=['human','bear','cat','whale','mouse']+cats\n",
    "\n",
    "if (animal in cats) and (animal in mammals):\n",
    "    print(f\"{animal} is a cat and a mammal\")\n",
    "elif (not animal in cats) and (animal in mammals):\n",
    "    print(f\"{animal} is not a cat, but it is a mammal\")\n",
    "elif (animal in cats) and (not animal in mammals):\n",
    "    print(f\"{animal} is a cat, but not a mammal\")   \n",
    "else:\n",
    "    print(f\"{animal} is neither a cat nor a mammal\")"
   ]
  },
  {
   "cell_type": "markdown",
   "id": "c7f8933b",
   "metadata": {},
   "source": [
    "Legg merke til `elif` over. De er `if`-setninger som er knyttet til `if`-setningen over. Koden til en `elif`-setning kjøres dersom hverken `if`-setningen eller noen `elif`-setninger over har blitt tilfredsstilt. "
   ]
  },
  {
   "cell_type": "markdown",
   "id": "90b05a38",
   "metadata": {},
   "source": [
    "# For-løkker i Python\n",
    "\n",
    "For-løkker er en viktig del av programmering som lar deg iterere over en sekvens (for eksempel en liste eller et intervall). I økonomi kan for-løkker være nyttige for å beregne totalverdier, avgifter, eller for å analysere datasett.\n",
    "\n",
    "## Syntaks\n",
    "\n",
    "```python\n",
    "for element in sekvens:\n",
    "    # Kodeblokk som kjøres for hvert element\n",
    "```\n",
    "\n",
    "En for-løkke består altså av følgende;\n",
    "\n",
    "| Komponent    | Beskrivelse                                                     | Eksempel                       |\n",
    "|--------------|---------------------------------------------------------------|-------------------------------|\n",
    "| **for**      | Starten av løkken.                                            | `for i in range(10):`        |\n",
    "| **Element**  | Variabelen som tar verdien til hvert element i sekvensen.    | `i`                           |\n",
    "| **Sekvens**  | Listen, området, eller annen itererbar datatype.              | `range(10)`, `list`          |\n",
    "| **Kodeblokk**    | Koden som utføres for hvert element i sekvensen.              | `print(i)`                   |"
   ]
  },
  {
   "cell_type": "markdown",
   "id": "633245cc",
   "metadata": {},
   "source": [
    "#### Eksempel 5:"
   ]
  },
  {
   "cell_type": "code",
   "execution_count": 15,
   "id": "6c483a44",
   "metadata": {},
   "outputs": [
    {
     "name": "stdout",
     "output_type": "stream",
     "text": [
      "0\n",
      "1\n",
      "2\n",
      "3\n",
      "4\n",
      "5\n",
      "6\n",
      "7\n",
      "8\n",
      "9\n"
     ]
    }
   ],
   "source": [
    "# Eksempel 5\n",
    "for i in range(10):\n",
    "    print(i)"
   ]
  },
  {
   "cell_type": "markdown",
   "id": "2556a744",
   "metadata": {},
   "source": [
    "#### Eksempel 6:"
   ]
  },
  {
   "cell_type": "code",
   "execution_count": 16,
   "id": "39ea36c7",
   "metadata": {},
   "outputs": [
    {
     "name": "stdout",
     "output_type": "stream",
     "text": [
      "1\n",
      "2\n",
      "4\n",
      "8\n",
      "100\n"
     ]
    }
   ],
   "source": [
    "# Eksempel 6\n",
    "liste = [1, 2, 4, 8, 100]\n",
    "\n",
    "for i in liste:\n",
    "    print(i)"
   ]
  },
  {
   "cell_type": "markdown",
   "id": "05610e24",
   "metadata": {},
   "source": [
    "### Litt mer avanserte eksempler\n",
    "\n",
    "#### Eksempel 6 - Beregning av total inntekt\n",
    "Anta at vi har en liste over månedlig inntekt og vi ønsker å finne den totale inntekten for året."
   ]
  },
  {
   "cell_type": "code",
   "execution_count": 17,
   "id": "bec82e04",
   "metadata": {},
   "outputs": [
    {
     "name": "stdout",
     "output_type": "stream",
     "text": [
      "Total inntekt for året: 39500\n"
     ]
    }
   ],
   "source": [
    "monthly_income = [3000, 3200, 3500, 2800, 3000, 3100, 3300, 3400, 3600, 3700, 3500, 3400]\n",
    "total_income = 0\n",
    "\n",
    "for income in monthly_income:\n",
    "    total_income += income\n",
    "\n",
    "print(\"Total inntekt for året:\", total_income)\n"
   ]
  },
  {
   "cell_type": "markdown",
   "id": "91f83fd3",
   "metadata": {},
   "source": [
    "### Bruk av `+=` i Python\n",
    "I Python er `+=` en operator som gjør det lettere å oppdatere verdien av en variabel ved å legge til en annen verdi til den. Dette er en praktisk og effektiv måte å akkumulerer verdier på uten å måtte skrive hele uttrykket.\n"
   ]
  },
  {
   "cell_type": "markdown",
   "id": "553016f5",
   "metadata": {},
   "source": [
    "#### Eksempel 7 - Beregning av gjennomsnittlig inntekt\n",
    "Du kan også bruke en for-løkke til å beregne gjennomsnittlig inntekt."
   ]
  },
  {
   "cell_type": "code",
   "execution_count": 19,
   "id": "5b5bbf32",
   "metadata": {},
   "outputs": [
    {
     "name": "stdout",
     "output_type": "stream",
     "text": [
      "Gjennomsnittlig månedlig inntekt: 3291.67\n"
     ]
    }
   ],
   "source": [
    "total_income = 0\n",
    "\n",
    "for income in monthly_income:\n",
    "    total_income += income\n",
    "\n",
    "average_income = total_income / len(monthly_income)\n",
    "print(\"Gjennomsnittlig månedlig inntekt:\", round(average_income,2 ))\n"
   ]
  },
  {
   "cell_type": "markdown",
   "id": "bebe55bd",
   "metadata": {},
   "source": [
    "#### Eksempel 7 - Beregning av rente på en investering\n",
    "La oss si at du har en investering som vokser med en fast rente over en periode. Du kan bruke en for-løkke for å beregne verdien av investeringen over tid."
   ]
  },
  {
   "cell_type": "code",
   "execution_count": 20,
   "id": "e8e580ce",
   "metadata": {},
   "outputs": [
    {
     "name": "stdout",
     "output_type": "stream",
     "text": [
      "Verdi av investeringen etter år: [10500.0, 11025.0, 11576.250000000002, 12155.062500000002, 12762.815625000003, 13400.956406250005, 14071.004226562505, 14774.55443789063, 15513.282159785162, 16288.94626777442]\n"
     ]
    }
   ],
   "source": [
    "initial_investment = 10000  # Startkapital\n",
    "interest_rate = 0.05        # 5% rente\n",
    "years = 10                  # Antall år\n",
    "values = []\n",
    "\n",
    "for year in range(1, years + 1):\n",
    "    value = initial_investment * (1 + interest_rate) ** year\n",
    "    values.append(value)\n",
    "\n",
    "print(\"Verdi av investeringen etter år:\", values)\n"
   ]
  },
  {
   "cell_type": "markdown",
   "id": "bedcac5e",
   "metadata": {},
   "source": [
    "#### Eksempel 8 - Beregning av skatt på inntekt\n",
    "Anta at vi har en skattesats, og vi ønsker å beregne skatten for hver måned."
   ]
  },
  {
   "cell_type": "code",
   "execution_count": 23,
   "id": "6527539f",
   "metadata": {},
   "outputs": [
    {
     "name": "stdout",
     "output_type": "stream",
     "text": [
      "Skatt for inntekt på 45000 kr i måneden: 15750 kr\n",
      "Skatt for inntekt på 47000 kr i måneden: 16450 kr\n",
      "Skatt for inntekt på 50000 kr i måneden: 17500 kr\n",
      "Skatt for inntekt på 60000 kr i måneden: 21000 kr\n",
      "Skatt for inntekt på 80000 kr i måneden: 28000 kr\n",
      "Skatt for inntekt på 90000 kr i måneden: 31500 kr\n"
     ]
    }
   ],
   "source": [
    "tax_rate = 0.35  # 25% skatt\n",
    "monthly_income = [45000, 47000, 50000, 60000, 80000, 90000]\n",
    "\n",
    "for income in monthly_income:\n",
    "    tax = round(income * tax_rate)\n",
    "    print(f\"Skatt for inntekt på {income} kr i måneden: {tax} kr\")"
   ]
  },
  {
   "cell_type": "markdown",
   "id": "3f093524",
   "metadata": {},
   "source": [
    "## Et nyttig tilfelle av for-løkke i databehandling.\n",
    "La oss ta for oss et datasett, f.eks. det under."
   ]
  },
  {
   "cell_type": "code",
   "execution_count": 51,
   "id": "66de4ca9",
   "metadata": {},
   "outputs": [
    {
     "data": {
      "text/html": [
       "<div>\n",
       "<style scoped>\n",
       "    .dataframe tbody tr th:only-of-type {\n",
       "        vertical-align: middle;\n",
       "    }\n",
       "\n",
       "    .dataframe tbody tr th {\n",
       "        vertical-align: top;\n",
       "    }\n",
       "\n",
       "    .dataframe thead th {\n",
       "        text-align: right;\n",
       "    }\n",
       "</style>\n",
       "<table border=\"1\" class=\"dataframe\">\n",
       "  <thead>\n",
       "    <tr style=\"text-align: right;\">\n",
       "      <th></th>\n",
       "      <th>Frukter</th>\n",
       "      <th>Kalorier</th>\n",
       "      <th>Vekt (gram)</th>\n",
       "    </tr>\n",
       "  </thead>\n",
       "  <tbody>\n",
       "    <tr>\n",
       "      <th>0</th>\n",
       "      <td>Eple</td>\n",
       "      <td>52</td>\n",
       "      <td>182</td>\n",
       "    </tr>\n",
       "    <tr>\n",
       "      <th>1</th>\n",
       "      <td>Banan</td>\n",
       "      <td>89</td>\n",
       "      <td>118</td>\n",
       "    </tr>\n",
       "    <tr>\n",
       "      <th>2</th>\n",
       "      <td>Appelsin</td>\n",
       "      <td>47</td>\n",
       "      <td>131</td>\n",
       "    </tr>\n",
       "    <tr>\n",
       "      <th>3</th>\n",
       "      <td>Druer</td>\n",
       "      <td>69</td>\n",
       "      <td>100</td>\n",
       "    </tr>\n",
       "  </tbody>\n",
       "</table>\n",
       "</div>"
      ],
      "text/plain": [
       "    Frukter  Kalorier  Vekt (gram)\n",
       "0      Eple        52          182\n",
       "1     Banan        89          118\n",
       "2  Appelsin        47          131\n",
       "3     Druer        69          100"
      ]
     },
     "execution_count": 51,
     "metadata": {},
     "output_type": "execute_result"
    }
   ],
   "source": [
    "import pandas as pd\n",
    "\n",
    "# Opprettelse av en eksempel DataFrame med frukter\n",
    "data = {\n",
    "    'Frukter': ['Eple', 'Banan', 'Appelsin', 'Druer'],\n",
    "    'Kalorier': [52, 89, 47, 69],\n",
    "    'Vekt (gram)': [182, 118, 131, 100]\n",
    "}\n",
    "\n",
    "df = pd.DataFrame(data)\n",
    "df"
   ]
  },
  {
   "cell_type": "markdown",
   "id": "3c185c58",
   "metadata": {},
   "source": [
    "## **Iterere over DataFrame**: \n",
    "Det er ofte vi kan ha bruk for å iterere over en dataframe. Da kan vi bruke `iterrows()` metoden for å iterere gjennom DataFrame. Denne metoden returnerer både indeksen og raden for hver iterasjon. Da må vi skrive\n",
    "\n",
    "```python\n",
    "    for index, row in df.iterrows():\n",
    "```\n",
    "\n",
    "### **Eksempel 9 - Tilgang til rader**: \n",
    "For hver `row`, får vi tilgang til spesifikke verdier ved å bruke kolonnenavn. I dette tilfellet skriver vi ut navnet på frukten og antall kalorier. Se hvordan i eksempelet under:\n"
   ]
  },
  {
   "cell_type": "code",
   "execution_count": 52,
   "id": "9216ee51",
   "metadata": {},
   "outputs": [
    {
     "name": "stdout",
     "output_type": "stream",
     "text": [
      "Frukt: Eple, Kalorier: 52\n",
      "Frukt: Banan, Kalorier: 89\n",
      "Frukt: Appelsin, Kalorier: 47\n",
      "Frukt: Druer, Kalorier: 69\n"
     ]
    }
   ],
   "source": [
    "# Iterer over DataFrame med index og row\n",
    "for index, row in df.iterrows():\n",
    "    # Skriv ut fruktnavn og kalorier\n",
    "    print(f\"Frukt: {row['Frukter']}, Kalorier: {row['Kalorier']}\")"
   ]
  },
  {
   "cell_type": "markdown",
   "id": "700211ac",
   "metadata": {},
   "source": [
    "### Oppsummering\n",
    "\n",
    "I eksempel 9 har vi demonstrert hvordan man bruker `index` og `row` til å iterere gjennom en DataFrame. `index` gir oss muligheten til å referere til hver rad, mens `row` gir oss tilgang til verdiene i den spesifikke raden. Dette er en effektiv måte å håndtere data på når man arbeider med Pandas i Python."
   ]
  },
  {
   "cell_type": "markdown",
   "id": "b105a857",
   "metadata": {},
   "source": [
    "# Bruk av `while`-løkker i Python\n",
    "\n",
    "`while`-løkker er en type løkke som fortsetter å kjøre så lenge en spesifisert betingelse er sann. De er nyttige når vi ikke vet på forhånd hvor mange ganger vi må gjenta en blokk med kode, men vi har en betingelse som styrer hvor lenge løkken skal kjøre.\n",
    "\n",
    "## Eksempel 10 - bruk av `while`-løkke\n",
    "\n",
    "La oss se på et enkelt eksempel som demonstrerer bruken av `while`-løkker. Anta at vi vil oppsummere inntektene våre månedlig inntil vi når en total inntekt som er større enn eller lik 30000."
   ]
  },
  {
   "cell_type": "code",
   "execution_count": 27,
   "id": "4fdc645a",
   "metadata": {},
   "outputs": [
    {
     "name": "stdout",
     "output_type": "stream",
     "text": [
      "Total inntekt nådd: 32600 er nådd etter 10 måneder.\n"
     ]
    }
   ],
   "source": [
    "monthly_income = [3000, 3200, 3500, 2800, 3000, 3100, 3300, 3400, 3600, 3700, 3500, 3400]\n",
    "total_income = 0\n",
    "index = 0\n",
    "\n",
    "while total_income < 30000 and index < len(monthly_income):\n",
    "    total_income += monthly_income[index]  # Legger til inntekten for den gjeldende måneden\n",
    "    index += 1                             # Går til neste måned\n",
    "\n",
    "print(f\"Total inntekt nådd: {total_income} er nådd etter {index} måneder.\")"
   ]
  },
  {
   "cell_type": "markdown",
   "id": "4fdafaa9",
   "metadata": {},
   "source": [
    "## Forklaring av eksempelet over\n",
    "\n",
    "### Definering av variabler:\n",
    "- **`monthly_income`**: En liste som inneholder månedlig inntekt for 12 måneder.\n",
    "- **`total_income`**: En variabel som starter på 0, som vil akkumulerer den totale inntekten.\n",
    "- **`index`**: En variabel som brukes for å spore hvilken måned vi er på i listen.\n",
    "\n",
    "### While-løkke:\n",
    "- **`while total_income < 30000 and index < len(monthly_income):`** Løkken fortsetter å kjøre så lenge `total_income` er mindre enn 30000 og `index` er mindre enn lengden på `monthly_income`-listen.\n",
    "\n",
    "### Inne i løkken:\n",
    "- **`total_income += monthly_income[index]`**: Legger til inntekten for den gjeldende måneden til `total_income`.\n",
    "- **`index += 1`**: Øker `index` med 1 for å gå videre til neste måned.\n",
    "\n",
    "### Utskrift:\n",
    "- Etter løkken skriver vi ut den totale inntekten som er nådd, og etter hvilken måned.\n",
    "\n",
    "## Fordeler med `while`-løkker\n",
    "- **Fleksibilitet**: Du kan styre hvor mange ganger løkken kjører med betingelser, noe som gir høy fleksibilitet.\n",
    "- **Ubestemt antall iterasjoner**: `while`-løkker er ideelle når antall iterasjoner ikke er kjent på forhånd.\n",
    "\n",
    "## Komponenter i `while`-løkker\n",
    "\n",
    "| Komponent   | Beskrivelse                                                  | Eksempel                             |\n",
    "|-------------|-------------------------------------------------------------|-------------------------------------|\n",
    "| `while`     | Starter løkken og definerer betingelsen for å fortsette.   | `while total_income < 30000:`      |\n",
    "| Betingelse  | Uttrykk som evalueres til True eller False.                | `total_income < 30000`             |\n",
    "| Løkkeblokk  | Koden som kjøres så lenge betingelsen er sann.             | `total_income += monthly_income[index]` |\n",
    "| `break`     | Avslutter løkken når det ikke er nødvendig å fortsette.     | `if total_income >= 30000: break`  |\n",
    "| `continue`  | Hopper over resten av løkkens kode for den nåværende iterasjonen. | `continue`                        |"
   ]
  },
  {
   "cell_type": "markdown",
   "id": "af16d51d",
   "metadata": {},
   "source": [
    "#### Eksempel 11 - Beregning av rente over tid\n",
    "I dette eksempelet vil vi beregne hvor mye penger vi har etter å ha investert en viss sum penger i en bank med en fast årlig rente over en periode."
   ]
  },
  {
   "cell_type": "code",
   "execution_count": 28,
   "id": "37fdfcbf",
   "metadata": {},
   "outputs": [
    {
     "name": "stdout",
     "output_type": "stream",
     "text": [
      "Totalbeløp etter 10 år: 1628.89 kr\n"
     ]
    }
   ],
   "source": [
    "# Definerer variablene våre\n",
    "\n",
    "initial_investment = 1000          # Startbeløp\n",
    "annual_interest_rate = 0.05        # Årlig rente (5%)\n",
    "years = 0                          # Antall år\n",
    "total_amount = initial_investment  # Totalbeløp\n",
    "\n",
    "# Beregn totalbeløp over tid med rente\n",
    "while years < 10:  # Beregn i 10 år\n",
    "    total_amount += total_amount * annual_interest_rate  # Legg til rente\n",
    "    years += 1  # Øk årstallet\n",
    "\n",
    "print(f\"Totalbeløp etter {years} år: {total_amount:.2f} kr\")\n"
   ]
  },
  {
   "cell_type": "markdown",
   "id": "747df414",
   "metadata": {},
   "source": [
    "#### Eksempel 12 - Beregn nedbetalingstid for lån\n",
    "Vi ønsker å lage en funksjon som tar inn tre argumenter: ```loan_amount```, ```annual_interest_rate``` og ```monthly_payment```. Altså, hvor mye du har lånt, hva er den årlige renta og hva du kan betale ned i måneden.\n",
    "\n",
    "Funksjonen skal beregne hvor mange måneder det vil ta å nedbetale lånet. "
   ]
  },
  {
   "cell_type": "code",
   "execution_count": 35,
   "id": "9d55ebb6",
   "metadata": {},
   "outputs": [
    {
     "name": "stdout",
     "output_type": "stream",
     "text": [
      "Det tar 277 måneder å nedbetale lånet.\n"
     ]
    }
   ],
   "source": [
    "def calculate_months_to_pay_off_loan(loan_amount, annual_interest_rate, monthly_payment):\n",
    "    # Konverterer årlig rente til månedlig rente\n",
    "    monthly_interest_rate = annual_interest_rate / 12\n",
    "    months = 0  # Antall måneder\n",
    "\n",
    "    # Beregn nedbetalingstid vha while-løkke\n",
    "    while loan_amount > 0:\n",
    "        # Reduser lånebeløpet med rente og månedlig betaling\n",
    "        loan_amount += loan_amount * monthly_interest_rate - monthly_payment\n",
    "        months += 1  # Øk månedstallet\n",
    "\n",
    "    return months  # Returnerer antall måneder\n",
    "\n",
    "\n",
    "# Eksempel på bruk\n",
    "loan = 3000000           # Lånebeløp\n",
    "interest_rate = 0.054    # Årlig rente (6%)\n",
    "monthly_payment = 19000  # Månedlig betalingskapasitet\n",
    "\n",
    "months_needed = calculate_months_to_pay_off_loan(loan, interest_rate, monthly_payment)\n",
    "print(f\"Det tar {months_needed} måneder å nedbetale lånet.\")"
   ]
  },
  {
   "cell_type": "markdown",
   "id": "16bc5339",
   "metadata": {},
   "source": [
    "# **Oppgaver**\n",
    "\n",
    "Under kommer flere oppgaver dere kan jobbe med som tar opp if/else/for/while. Dette er gode forberedelser til eksamen, med å forstå grunnleggende prinsipper i Python.\n",
    "\n",
    "## Oppgave 1\n",
    "Les inn csv.-filen, ```'schooling-gdp.csv'```, som en dataframe ved hjelp av Pandas."
   ]
  },
  {
   "cell_type": "code",
   "execution_count": null,
   "id": "5644325c",
   "metadata": {},
   "outputs": [],
   "source": []
  },
  {
   "cell_type": "markdown",
   "id": "c30840e2",
   "metadata": {},
   "source": [
    "## Oppgave 2 - Skriv ut bilmerker\n",
    "Lag en for-løkke som skriver ut alle bilmerkene i datasettet.\n",
    "\n",
    "Hint:\n",
    "* Du kan få bruk for: ```for index, row in df.iterrows():```"
   ]
  },
  {
   "cell_type": "code",
   "execution_count": null,
   "id": "8c48cbd7",
   "metadata": {},
   "outputs": [],
   "source": []
  },
  {
   "cell_type": "markdown",
   "id": "cd960f79",
   "metadata": {},
   "source": [
    "## Oppgave 3 - Total antall biler vraket\n",
    "Lag en for-løkke som beregner det totale antallet biler vraket mot pant for alle bilmerkene.\n",
    "\n",
    "Hint:\n",
    "* Du kan få bruk for: ```for index, row in df.iterrows():```"
   ]
  },
  {
   "cell_type": "code",
   "execution_count": null,
   "id": "4b7a58bc",
   "metadata": {},
   "outputs": [],
   "source": []
  },
  {
   "cell_type": "markdown",
   "id": "92ad3e30",
   "metadata": {},
   "source": [
    "## Oppgave 4 - Totalt antall biler under 4 år\n",
    "Lag en for-løkke som summerer antall biler som er under 4 år gamle."
   ]
  },
  {
   "cell_type": "code",
   "execution_count": null,
   "id": "daa46ec7",
   "metadata": {},
   "outputs": [],
   "source": []
  },
  {
   "cell_type": "markdown",
   "id": "0953264a",
   "metadata": {},
   "source": [
    "## Oppgave 5 - Populære bilmerker\n",
    "Lag en if-setning som skriver ut en melding hvis et bilmerke har mer enn 50,000 biler i kategorien \"12 - 15 år\".\n",
    "\n",
    "Hint:\n",
    "* Bruk både for og if."
   ]
  },
  {
   "cell_type": "code",
   "execution_count": null,
   "id": "c8ff4c15",
   "metadata": {},
   "outputs": [],
   "source": []
  },
  {
   "cell_type": "markdown",
   "id": "2181194d",
   "metadata": {},
   "source": [
    "## Oppgave 6 - Lånebeløp og rente\n",
    "Lag et program som tar inn et lånebeløp og en rente. Programmet skal skrive ut om lånet er \"Lav rente\", \"Moderat rente\" eller \"Høy rente\"."
   ]
  },
  {
   "cell_type": "code",
   "execution_count": null,
   "id": "22ab41a2",
   "metadata": {},
   "outputs": [],
   "source": []
  },
  {
   "cell_type": "markdown",
   "id": "d80ec3a6",
   "metadata": {},
   "source": [
    "## Oppgave 7 - Beskatning av inntekt\n",
    "Skriv et program som beregner beskatningen for en fast inntekt. \n",
    "\n",
    "Kriterier:\n",
    "* Hvis lønn er under 200.000 --> ingen skatt\n",
    "* Hvis lønna er mellom 200.000 og 300.000 ---> 20% skatt\n",
    "* Hvis lønna er mellom 300.000 og 550.000 ---> 30% skatt\n",
    "* Hvis annet, 40% skatt."
   ]
  },
  {
   "cell_type": "code",
   "execution_count": null,
   "id": "73ba8f95",
   "metadata": {},
   "outputs": [],
   "source": []
  },
  {
   "cell_type": "markdown",
   "id": "6c722bd7",
   "metadata": {},
   "source": [
    "## Oppgave 8 - Karakterberegning\n",
    "Lag en funksjon som tar inn en parameter ```score``` (et tall mellom $0$ og $100$), og gir en karakter etter følgende skala:\n",
    "\n",
    "* 90 - 100: \"Strålende!\"\n",
    "* 75 - 90: \"Bra jobba!\"\n",
    "* 50 - 75: \"Godkjent.\"\n",
    "* Under 50: \"Ikke bestått.\""
   ]
  },
  {
   "cell_type": "code",
   "execution_count": null,
   "id": "6659b0b4",
   "metadata": {},
   "outputs": [],
   "source": []
  },
  {
   "cell_type": "markdown",
   "id": "285beccb",
   "metadata": {},
   "source": [
    "## Oppgave 9 - ```while``` og lån\n",
    "Skriv en funksjon nedbetal_loan som tar inn tre parametere:\n",
    "\n",
    "* ```loan_amount``` (lånebeløp)\n",
    "* ```interest_rate``` (årlig rente i prosent)\n",
    "* ```monthly_payment``` (månedlig beløp som nedbetales).\n",
    "\n",
    "Funksjonen skal returnere hvor mange måneder det tar å nedbetale lånet, gitt at lånet har en fast månedlig rente som legges til saldoen før hver betaling."
   ]
  },
  {
   "cell_type": "code",
   "execution_count": null,
   "id": "cb31b067",
   "metadata": {},
   "outputs": [],
   "source": []
  },
  {
   "cell_type": "markdown",
   "id": "03f6ebff",
   "metadata": {},
   "source": [
    "##### [< Forrige](5%20-%20Pandas_og_databehandling.ipynb)     |     [Neste >](7.1%20-%20matplotlib.ipynb)"
   ]
  }
 ],
 "metadata": {
  "kernelspec": {
   "display_name": "Python 3",
   "language": "python",
   "name": "python3"
  },
  "language_info": {
   "codemirror_mode": {
    "name": "ipython",
    "version": 3
   },
   "file_extension": ".py",
   "mimetype": "text/x-python",
   "name": "python",
   "nbconvert_exporter": "python",
   "pygments_lexer": "ipython3",
   "version": "3.12.2"
  }
 },
 "nbformat": 4,
 "nbformat_minor": 5
}
