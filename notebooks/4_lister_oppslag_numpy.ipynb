{
 "cells": [
  {
   "cell_type": "markdown",
   "id": "a78e7dd9",
   "metadata": {},
   "source": [
    "##### [< Forrige](3%20-%20Funksjoner.ipynb)     |     [Neste >](5%20-%20Pandas_og_databehandling.ipynb)"
   ]
  },
  {
   "cell_type": "markdown",
   "id": "bfb33581-97ab-4480-b1ff-c07ae2f5f17b",
   "metadata": {
    "jp-MarkdownHeadingCollapsed": true,
    "tags": []
   },
   "source": [
    "<span style=\"color:#9bb1d4;font-size:30px;font-weight:900\"> 4 - lister, oppslag og numpy </span>  "
   ]
  },
  {
   "cell_type": "markdown",
   "id": "5e7ddec7",
   "metadata": {},
   "source": [
    "En liste er en *datastruktur*, som igjen er en organisering av *objekter*. Slike datastrukturer er helt sentralt i alle programmeringsspråk, og alle språk har ulike typer strukturer til ulike formål. I noen datastrukturer kan du putte alle typer objekter sammen, slik som tekst, funksjoner og tall og nye datastrukturer. \n",
    "\n",
    "I andre datastrukturer kan du kun putte tall. Slike datastrukturer er vanligvis det vi i matematikken kaller *vektorer* og *matriser*. Disse kommer vi tilbake til når vi skal snakke om Numpy. \n",
    "\n",
    "Det vi skal se på først er de innebygde datastrukturene til Python. Alle de innebygde strukturene kan inneholde alle typer objekter, men de har noen viktige egenskaper som skiller dem:\n",
    "* `list` (liste): Hvert element har en bestemt plassering i listen, Tilgang fås ved å referere til plasseringen (indeksen) i form av et heltall `int`. \n",
    "* `tuple`: Lik lister, men kan ikke forandres når den er skapt. Hovedsakelig til bruk i forbindelse med funksjoner.\n",
    "* `dict`(dictionary, oppslag): Elementene har ikke en bestemt plassering. Tilgang fås ved å referere til en nøkkel (vanligvis en streng `str`)\n",
    "\n",
    "Vi starter med å se på **lister**."
   ]
  },
  {
   "cell_type": "markdown",
   "id": "f12f7266",
   "metadata": {},
   "source": [
    "# Lister\n",
    "\n",
    "Lister lages med klammeparenteser. Her er noen lister med navn, forkortelse (Ticker), aksjekurs, markedsverdi, PE og gjeldsgrad for noen aksjer på Oslo Børs. Tallene er fra 27. november 2020 (kilde https://titlon.uit.no). \n",
    "\n",
    "PE er \"Price/Earnings\", som er forholdet mellom selskapenes inntjening og prisen. Gjeldsgrad er hvor stor andel av total kapital som er gjeld. Det som ikke er gjeld er egenkapital. \n",
    "\n",
    "#### Eksempel 1:"
   ]
  },
  {
   "cell_type": "code",
   "execution_count": 1,
   "id": "30c3ab6e",
   "metadata": {},
   "outputs": [],
   "source": [
    "equinor=['Statoil', 'EQNR', 167.554919090282, 376883380048.5, 6.14609823076753, 0.617893838660362]\n",
    "dnb=['DNB', 'DNB', 164, 259169427140, 11.1121822724349, 0.914999939276725]\n",
    "telenor=['Telenor', 'TEL', 148.737572948101, 227115017138.4, 13.0211568133471, 0.715300723576896]\n",
    "marine_harvest=['Marine Harvest', 'MHG', 225.589705235372, 118004750966.2, 21.6878893009616, 0.440427599611273]\n",
    "aker_bp=['Aker BP', 'AKERBP', 272.499264741749, 103712690592, 26.7636558040214, 0.722568840028356]\n",
    "yara_international=['Yara International', 'YAR', 333.328922090651, 99481443032.4, 86.741957363663, 0.465057636887608]\n",
    "gjensidige_forsikring=['Gjensidige Forsikring', 'GJF', 172.830508474576, 92125000000, 24.9404407385348, 0.847890127134592]"
   ]
  },
  {
   "cell_type": "markdown",
   "id": "4adfe1d2",
   "metadata": {},
   "source": [
    "Vi kan nå få tilgang til listene ved å referere til plasseringen med klammeparentes. Om vi vil referere navnet til equinor, som ligger på plass 0, kan vi for eksempel skrive `equinor[0]` (første element er alltid på plass 0 i Python):"
   ]
  },
  {
   "cell_type": "code",
   "execution_count": 2,
   "id": "b4e3cee7",
   "metadata": {},
   "outputs": [
    {
     "data": {
      "text/plain": [
       "'Statoil'"
      ]
     },
     "execution_count": 2,
     "metadata": {},
     "output_type": "execute_result"
    }
   ],
   "source": [
    "equinor[0]"
   ]
  },
  {
   "cell_type": "code",
   "execution_count": 3,
   "id": "18aac901",
   "metadata": {},
   "outputs": [
    {
     "data": {
      "text/plain": [
       "str"
      ]
     },
     "execution_count": 3,
     "metadata": {},
     "output_type": "execute_result"
    }
   ],
   "source": [
    "type(equinor[0])"
   ]
  },
  {
   "cell_type": "code",
   "execution_count": 4,
   "id": "def5457c",
   "metadata": {},
   "outputs": [
    {
     "data": {
      "text/plain": [
       "'EQNR'"
      ]
     },
     "execution_count": 4,
     "metadata": {},
     "output_type": "execute_result"
    }
   ],
   "source": [
    "equinor[1]"
   ]
  },
  {
   "cell_type": "code",
   "execution_count": 5,
   "id": "852eda89",
   "metadata": {},
   "outputs": [
    {
     "data": {
      "text/plain": [
       "6"
      ]
     },
     "execution_count": 5,
     "metadata": {},
     "output_type": "execute_result"
    }
   ],
   "source": [
    "len(equinor)"
   ]
  },
  {
   "cell_type": "code",
   "execution_count": 6,
   "id": "642a2acf",
   "metadata": {},
   "outputs": [
    {
     "data": {
      "text/plain": [
       "6.14609823076753"
      ]
     },
     "execution_count": 6,
     "metadata": {},
     "output_type": "execute_result"
    }
   ],
   "source": [
    "equinor[-2]"
   ]
  },
  {
   "cell_type": "markdown",
   "id": "0492d2c3",
   "metadata": {},
   "source": [
    "Vi ser at navnet er feil, dette er det gamle navnet til Equinor. Dette kan vi enkelt endre ved å sette element 0 i `equinor`-listen lik `'Equinor'`:\n",
    "\n",
    "#### Eksempel 2:"
   ]
  },
  {
   "cell_type": "code",
   "execution_count": 7,
   "id": "6b78f5ea",
   "metadata": {},
   "outputs": [
    {
     "name": "stdout",
     "output_type": "stream",
     "text": [
      "['Statoil', 'EQNR', 167.554919090282, 376883380048.5, 6.14609823076753, 0.617893838660362]\n",
      "['Equinor', 'EQNR', 167.554919090282, 376883380048.5, 6.14609823076753, 0.617893838660362]\n"
     ]
    }
   ],
   "source": [
    "print(equinor)\n",
    "equinor[0]='Equinor'\n",
    "print(equinor)"
   ]
  },
  {
   "cell_type": "markdown",
   "id": "db51314b",
   "metadata": {},
   "source": [
    "Men vi kan legge hvilke som helst objekter inn i en liste, så vi kan også lage en liste av listene over.\n",
    "\n",
    "#### Eksempel 3:"
   ]
  },
  {
   "cell_type": "code",
   "execution_count": 8,
   "id": "c89b4076",
   "metadata": {},
   "outputs": [
    {
     "data": {
      "text/plain": [
       "[['Equinor',\n",
       "  'EQNR',\n",
       "  167.554919090282,\n",
       "  376883380048.5,\n",
       "  6.14609823076753,\n",
       "  0.617893838660362],\n",
       " ['DNB', 'DNB', 164, 259169427140, 11.1121822724349, 0.914999939276725],\n",
       " ['Telenor',\n",
       "  'TEL',\n",
       "  148.737572948101,\n",
       "  227115017138.4,\n",
       "  13.0211568133471,\n",
       "  0.715300723576896],\n",
       " ['Marine Harvest',\n",
       "  'MHG',\n",
       "  225.589705235372,\n",
       "  118004750966.2,\n",
       "  21.6878893009616,\n",
       "  0.440427599611273],\n",
       " ['Aker BP',\n",
       "  'AKERBP',\n",
       "  272.499264741749,\n",
       "  103712690592,\n",
       "  26.7636558040214,\n",
       "  0.722568840028356],\n",
       " ['Yara International',\n",
       "  'YAR',\n",
       "  333.328922090651,\n",
       "  99481443032.4,\n",
       "  86.741957363663,\n",
       "  0.465057636887608],\n",
       " ['Gjensidige Forsikring',\n",
       "  'GJF',\n",
       "  172.830508474576,\n",
       "  92125000000,\n",
       "  24.9404407385348,\n",
       "  0.847890127134592]]"
      ]
     },
     "execution_count": 8,
     "metadata": {},
     "output_type": "execute_result"
    }
   ],
   "source": [
    "stocks=[equinor,dnb,telenor,marine_harvest,aker_bp,yara_international,gjensidige_forsikring]\n",
    "stocks"
   ]
  },
  {
   "cell_type": "code",
   "execution_count": 11,
   "id": "7e488e0c",
   "metadata": {},
   "outputs": [
    {
     "data": {
      "text/plain": [
       "'Aker BP'"
      ]
     },
     "execution_count": 11,
     "metadata": {},
     "output_type": "execute_result"
    }
   ],
   "source": [
    "stocks[4][0]"
   ]
  },
  {
   "cell_type": "markdown",
   "id": "c9fe8139",
   "metadata": {},
   "source": [
    "Aker BP-askjen er element nummer fem i denne listen. Om vi nå skal referere til den, så bruker vi indeks 4, siden vi starter på null. \n",
    "\n",
    "#### Eksempel 4:"
   ]
  },
  {
   "cell_type": "code",
   "execution_count": 47,
   "id": "66c16a31",
   "metadata": {},
   "outputs": [
    {
     "data": {
      "text/plain": [
       "['Aker BP',\n",
       " 'AKERBP',\n",
       " 272.499264741749,\n",
       " 103712690592,\n",
       " 26.7636558040214,\n",
       " 0.722568840028356]"
      ]
     },
     "execution_count": 47,
     "metadata": {},
     "output_type": "execute_result"
    }
   ],
   "source": [
    "stocks[4]"
   ]
  },
  {
   "cell_type": "markdown",
   "id": "9107c1dc",
   "metadata": {},
   "source": [
    "Om du vil referere til siste element, bruker du indeks -1. Vil du referere til nest siste, bruker du indeks -2, og så videre:\n",
    "\n",
    "#### Eksempel 5:"
   ]
  },
  {
   "cell_type": "code",
   "execution_count": 48,
   "id": "b1ad526e",
   "metadata": {
    "scrolled": true
   },
   "outputs": [
    {
     "name": "stdout",
     "output_type": "stream",
     "text": [
      "['Gjensidige Forsikring', 'GJF', 172.830508474576, 92125000000, 24.9404407385348, 0.847890127134592]\n",
      "['Yara International', 'YAR', 333.328922090651, 99481443032.4, 86.741957363663, 0.465057636887608]\n"
     ]
    }
   ],
   "source": [
    "print(stocks[-1])\n",
    "print(stocks[-2])"
   ]
  },
  {
   "cell_type": "markdown",
   "id": "aa7b645e",
   "metadata": {},
   "source": [
    "Du kan også referere til flere elementer som står ved siden av hverandre med en såkalt `slice`, eller skjære som vi kan kalle det på norsk:\n",
    "\n",
    "#### Eksempel 6:"
   ]
  },
  {
   "cell_type": "code",
   "execution_count": 12,
   "id": "8d5071ce",
   "metadata": {},
   "outputs": [
    {
     "data": {
      "text/plain": [
       "[['Equinor',\n",
       "  'EQNR',\n",
       "  167.554919090282,\n",
       "  376883380048.5,\n",
       "  6.14609823076753,\n",
       "  0.617893838660362],\n",
       " ['DNB', 'DNB', 164, 259169427140, 11.1121822724349, 0.914999939276725],\n",
       " ['Telenor',\n",
       "  'TEL',\n",
       "  148.737572948101,\n",
       "  227115017138.4,\n",
       "  13.0211568133471,\n",
       "  0.715300723576896],\n",
       " ['Marine Harvest',\n",
       "  'MHG',\n",
       "  225.589705235372,\n",
       "  118004750966.2,\n",
       "  21.6878893009616,\n",
       "  0.440427599611273],\n",
       " ['Aker BP',\n",
       "  'AKERBP',\n",
       "  272.499264741749,\n",
       "  103712690592,\n",
       "  26.7636558040214,\n",
       "  0.722568840028356],\n",
       " ['Yara International',\n",
       "  'YAR',\n",
       "  333.328922090651,\n",
       "  99481443032.4,\n",
       "  86.741957363663,\n",
       "  0.465057636887608],\n",
       " ['Gjensidige Forsikring',\n",
       "  'GJF',\n",
       "  172.830508474576,\n",
       "  92125000000,\n",
       "  24.9404407385348,\n",
       "  0.847890127134592]]"
      ]
     },
     "execution_count": 12,
     "metadata": {},
     "output_type": "execute_result"
    }
   ],
   "source": [
    "stocks"
   ]
  },
  {
   "cell_type": "code",
   "execution_count": 13,
   "id": "e8ab1505",
   "metadata": {},
   "outputs": [
    {
     "data": {
      "text/plain": [
       "[['Telenor',\n",
       "  'TEL',\n",
       "  148.737572948101,\n",
       "  227115017138.4,\n",
       "  13.0211568133471,\n",
       "  0.715300723576896],\n",
       " ['Marine Harvest',\n",
       "  'MHG',\n",
       "  225.589705235372,\n",
       "  118004750966.2,\n",
       "  21.6878893009616,\n",
       "  0.440427599611273]]"
      ]
     },
     "execution_count": 13,
     "metadata": {},
     "output_type": "execute_result"
    }
   ],
   "source": [
    "# Fra element to til og med tre:\n",
    "stocks[2:4]"
   ]
  },
  {
   "cell_type": "code",
   "execution_count": 14,
   "id": "cf72dd68",
   "metadata": {},
   "outputs": [
    {
     "data": {
      "text/plain": [
       "[['Yara International',\n",
       "  'YAR',\n",
       "  333.328922090651,\n",
       "  99481443032.4,\n",
       "  86.741957363663,\n",
       "  0.465057636887608],\n",
       " ['Gjensidige Forsikring',\n",
       "  'GJF',\n",
       "  172.830508474576,\n",
       "  92125000000,\n",
       "  24.9404407385348,\n",
       "  0.847890127134592]]"
      ]
     },
     "execution_count": 14,
     "metadata": {},
     "output_type": "execute_result"
    }
   ],
   "source": [
    "# Fra og med nest siste element:\n",
    "stocks[-2:]"
   ]
  },
  {
   "cell_type": "code",
   "execution_count": 15,
   "id": "bce6ae26",
   "metadata": {},
   "outputs": [
    {
     "data": {
      "text/plain": [
       "['Yara International',\n",
       " 'YAR',\n",
       " 333.328922090651,\n",
       " 99481443032.4,\n",
       " 86.741957363663,\n",
       " 0.465057636887608]"
      ]
     },
     "execution_count": 15,
     "metadata": {},
     "output_type": "execute_result"
    }
   ],
   "source": [
    "stocks[-2]"
   ]
  },
  {
   "cell_type": "code",
   "execution_count": 16,
   "id": "d1e3cd89",
   "metadata": {},
   "outputs": [
    {
     "data": {
      "text/plain": [
       "[['Equinor',\n",
       "  'EQNR',\n",
       "  167.554919090282,\n",
       "  376883380048.5,\n",
       "  6.14609823076753,\n",
       "  0.617893838660362],\n",
       " ['DNB', 'DNB', 164, 259169427140, 11.1121822724349, 0.914999939276725],\n",
       " ['Telenor',\n",
       "  'TEL',\n",
       "  148.737572948101,\n",
       "  227115017138.4,\n",
       "  13.0211568133471,\n",
       "  0.715300723576896],\n",
       " ['Marine Harvest',\n",
       "  'MHG',\n",
       "  225.589705235372,\n",
       "  118004750966.2,\n",
       "  21.6878893009616,\n",
       "  0.440427599611273],\n",
       " ['Aker BP',\n",
       "  'AKERBP',\n",
       "  272.499264741749,\n",
       "  103712690592,\n",
       "  26.7636558040214,\n",
       "  0.722568840028356],\n",
       " ['Yara International',\n",
       "  'YAR',\n",
       "  333.328922090651,\n",
       "  99481443032.4,\n",
       "  86.741957363663,\n",
       "  0.465057636887608]]"
      ]
     },
     "execution_count": 16,
     "metadata": {},
     "output_type": "execute_result"
    }
   ],
   "source": [
    "# Til og med nest siste element:\n",
    "stocks[:-1]"
   ]
  },
  {
   "cell_type": "markdown",
   "id": "f3ed0de4",
   "metadata": {},
   "source": [
    "Og vi kan referere til en liste inne i en liste:\n",
    "\n",
    "#### Eksempel 7:"
   ]
  },
  {
   "cell_type": "code",
   "execution_count": 54,
   "id": "83dd1305",
   "metadata": {},
   "outputs": [
    {
     "name": "stdout",
     "output_type": "stream",
     "text": [
      "Det tredje selskapet er Telenor\n"
     ]
    }
   ],
   "source": [
    "print(f\"Det tredje selskapet er {stocks[2][0]}\")"
   ]
  },
  {
   "cell_type": "markdown",
   "id": "f97c5bf9",
   "metadata": {},
   "source": [
    "Det tredje selskapet, altså Telenor, har indeks to, siden Python starter indekseringen på 0. \n",
    "\n",
    "Det er enkelt å utvide lister, vi bruker bare `+`. Om vi for eksempel vil legge til selskapet `['Tomra Systems', 'TOM', 276.409619134278, 41208789715.2, 52.8996016883184, 0.454299114121939] `, kan vi gjøre det slik:\n",
    "\n",
    "#### Eksempel 8:"
   ]
  },
  {
   "cell_type": "code",
   "execution_count": 17,
   "id": "beecdf78",
   "metadata": {},
   "outputs": [
    {
     "data": {
      "text/plain": [
       "[['Equinor',\n",
       "  'EQNR',\n",
       "  167.554919090282,\n",
       "  376883380048.5,\n",
       "  6.14609823076753,\n",
       "  0.617893838660362],\n",
       " ['DNB', 'DNB', 164, 259169427140, 11.1121822724349, 0.914999939276725],\n",
       " ['Telenor',\n",
       "  'TEL',\n",
       "  148.737572948101,\n",
       "  227115017138.4,\n",
       "  13.0211568133471,\n",
       "  0.715300723576896],\n",
       " ['Marine Harvest',\n",
       "  'MHG',\n",
       "  225.589705235372,\n",
       "  118004750966.2,\n",
       "  21.6878893009616,\n",
       "  0.440427599611273],\n",
       " ['Aker BP',\n",
       "  'AKERBP',\n",
       "  272.499264741749,\n",
       "  103712690592,\n",
       "  26.7636558040214,\n",
       "  0.722568840028356],\n",
       " ['Yara International',\n",
       "  'YAR',\n",
       "  333.328922090651,\n",
       "  99481443032.4,\n",
       "  86.741957363663,\n",
       "  0.465057636887608],\n",
       " ['Gjensidige Forsikring',\n",
       "  'GJF',\n",
       "  172.830508474576,\n",
       "  92125000000,\n",
       "  24.9404407385348,\n",
       "  0.847890127134592],\n",
       " ['Tomra Systems',\n",
       "  'TOM',\n",
       "  276.409619134278,\n",
       "  41208789715.2,\n",
       "  52.8996016883184,\n",
       "  0.454299114121939]]"
      ]
     },
     "execution_count": 17,
     "metadata": {},
     "output_type": "execute_result"
    }
   ],
   "source": [
    "tomra_systems=['Tomra Systems', 'TOM', 276.409619134278, 41208789715.2, 52.8996016883184, 0.454299114121939]\n",
    "\n",
    "stocks = stocks + [tomra_systems]\n",
    "stocks"
   ]
  },
  {
   "cell_type": "code",
   "execution_count": 18,
   "id": "6c900f21",
   "metadata": {},
   "outputs": [
    {
     "data": {
      "text/plain": [
       "8"
      ]
     },
     "execution_count": 18,
     "metadata": {},
     "output_type": "execute_result"
    }
   ],
   "source": [
    "# Nå kan vi se hva lengen av lista vår 'stocks' har blitt til\n",
    "len(stocks)"
   ]
  },
  {
   "cell_type": "markdown",
   "id": "8b172e05",
   "metadata": {},
   "source": [
    "# Unngå uønsket endring av objekter\n",
    "\n",
    "En veldig vanlig nybegynnerfeil i Python er å glemme at selv om et objekt, slik som en liste, har fått nytt navn, så er det fortsatt det samme objektet. Dette er spesielt lett å glemme når du objektet er et argument i en funksjon. Her er for eksempel en funksjon som opererer på argumentet:\n",
    "\n",
    "#### Eksempel 9:"
   ]
  },
  {
   "cell_type": "code",
   "execution_count": 58,
   "id": "e76826d9",
   "metadata": {},
   "outputs": [
    {
     "name": "stdout",
     "output_type": "stream",
     "text": [
      "['DNB', 'DNB', 164, 259169427140, 11.1121822724349, 0.914999939276725]\n"
     ]
    },
    {
     "data": {
      "text/plain": [
       "[['Equinor',\n",
       "  'EQNR',\n",
       "  167.554919090282,\n",
       "  376883380048.5,\n",
       "  6.14609823076753,\n",
       "  0.617893838660362],\n",
       " ['Telenor',\n",
       "  'TEL',\n",
       "  148.737572948101,\n",
       "  227115017138.4,\n",
       "  13.0211568133471,\n",
       "  0.715300723576896],\n",
       " ['Marine Harvest',\n",
       "  'MHG',\n",
       "  225.589705235372,\n",
       "  118004750966.2,\n",
       "  21.6878893009616,\n",
       "  0.440427599611273],\n",
       " ['Aker BP',\n",
       "  'AKERBP',\n",
       "  272.499264741749,\n",
       "  103712690592,\n",
       "  26.7636558040214,\n",
       "  0.722568840028356],\n",
       " ['Yara International',\n",
       "  'YAR',\n",
       "  333.328922090651,\n",
       "  99481443032.4,\n",
       "  86.741957363663,\n",
       "  0.465057636887608],\n",
       " ['Gjensidige Forsikring',\n",
       "  'GJF',\n",
       "  172.830508474576,\n",
       "  92125000000,\n",
       "  24.9404407385348,\n",
       "  0.847890127134592]]"
      ]
     },
     "execution_count": 58,
     "metadata": {},
     "output_type": "execute_result"
    }
   ],
   "source": [
    "# Denne funksjonen kvitter seg med element i i en liste \n",
    "def pop_and_print(liste, i):\n",
    "    last_element = liste.pop(i)\n",
    "    print(last_element)\n",
    "    \n",
    "pop_and_print(stocks, 1)\n",
    "stocks"
   ]
  },
  {
   "cell_type": "markdown",
   "id": "991137d2",
   "metadata": {},
   "source": [
    "Over brukes `pop`-metoden til listeobjektet. En \"metode\" er en funksjon som kan henges på et bestemt objekt. Liste-objektet har altså en metode `pop`, som vi kan henge på listeobjektet med et punktum. `pop`-metoden fjerner elementet angitt av argumentet (siste element `-1` i eksemplet under), og returnerer det fjernede elementet. \n",
    "\n",
    "Kjører du koden over mange nok ganger, vil du se at alle elementene til slutt er borte og du får feilmelding. \n",
    "\n",
    "Av og til vil du at funksjonen skal operere på argumentet, men om det ikke er meningen at argumentet skal være endret når funksjonen er ferdigkjørt, så kan du ta en kopi inne i funksjonen. Det gjøres enklest ved å bruke *typen* til objektet som funksjon. Du danner da et nytt objekt av samme type. For eksempel for en liste som `stocks`bruker du `list`som funksjon\n",
    "\n",
    "#### Eksempel 10:"
   ]
  },
  {
   "cell_type": "code",
   "execution_count": null,
   "id": "9b943830",
   "metadata": {},
   "outputs": [],
   "source": [
    "# Denne funksjonen kvitter seg med element i\n",
    "def pop_and_print(a,i):\n",
    "    # Lag en kopi av liste 'a'\n",
    "    a=list(a)\n",
    "    \n",
    "    # Kvitter oss med element i, og viser hva det er\n",
    "    last_element=a.pop(-1)\n",
    "    print(last_element)\n",
    "    \n",
    "pop_and_print(stocks,-1)\n",
    "stocks"
   ]
  },
  {
   "cell_type": "markdown",
   "id": "4d6fa67a",
   "metadata": {},
   "source": [
    "Denne koden kan kjøres så mange ganger du vil, uten at stocks endres"
   ]
  },
  {
   "cell_type": "markdown",
   "id": "99d151cb",
   "metadata": {},
   "source": [
    "# Tuple"
   ]
  },
  {
   "cell_type": "markdown",
   "id": "e120eb30",
   "metadata": {},
   "source": [
    "En `tuple` fungerer ganske likt som en liste når du skal hente noe fra den. Men i motsetning til en liste, så går det ikke an å endre på en `tuple` etter at den er skapt. Du kan lage en tuple enten ved å bruke den innebygde funksjonen  `tuple()` eller ved å lage en liste med en vanlig parentes:\n",
    "\n",
    "#### Eksempel 11:"
   ]
  },
  {
   "cell_type": "code",
   "execution_count": 60,
   "id": "05001f5d",
   "metadata": {},
   "outputs": [
    {
     "name": "stdout",
     "output_type": "stream",
     "text": [
      "<class 'tuple'>\n",
      "<class 'tuple'>\n"
     ]
    }
   ],
   "source": [
    "a = tuple(equinor)\n",
    "b = ('Equinor', 'EQNR', 146.85, 315357973561)\n",
    "\n",
    "print(type(a))\n",
    "print(type(b))"
   ]
  },
  {
   "cell_type": "code",
   "execution_count": 63,
   "id": "92ac9382",
   "metadata": {},
   "outputs": [
    {
     "name": "stdout",
     "output_type": "stream",
     "text": [
      "['DNB', 'DNB', 164, 259169427140, 11.1121822724349, 0.914999939276725]\n",
      "<class 'list'>\n"
     ]
    }
   ],
   "source": [
    "print(dnb)\n",
    "print(type(dnb))"
   ]
  },
  {
   "cell_type": "code",
   "execution_count": 64,
   "id": "1cb99809",
   "metadata": {},
   "outputs": [
    {
     "name": "stdout",
     "output_type": "stream",
     "text": [
      "('DNB', 'DNB', 164, 259169427140, 11.1121822724349, 0.914999939276725)\n",
      "<class 'tuple'>\n"
     ]
    }
   ],
   "source": [
    "DNB_tuple = tuple(dnb)\n",
    "print(DNB_tuple)\n",
    "print(type(DNB_tuple))"
   ]
  },
  {
   "cell_type": "markdown",
   "id": "6ef98482",
   "metadata": {},
   "source": [
    "Vi kan *få tak i* innholdet, men det går ikke an å *endre* på innholdet i en `tuple`etter at den er skapt:\n",
    "\n",
    "#### Eksempel 12:"
   ]
  },
  {
   "cell_type": "code",
   "execution_count": 53,
   "id": "97a81aeb",
   "metadata": {
    "scrolled": true
   },
   "outputs": [
    {
     "ename": "KeyError",
     "evalue": "0",
     "output_type": "error",
     "traceback": [
      "\u001b[0;31m---------------------------------------------------------------------------\u001b[0m",
      "\u001b[0;31mKeyError\u001b[0m                                  Traceback (most recent call last)",
      "Cell \u001b[0;32mIn[53], line 1\u001b[0m\n\u001b[0;32m----> 1\u001b[0m \u001b[38;5;28mprint\u001b[39m(a[\u001b[38;5;241m0\u001b[39m])\n\u001b[1;32m      2\u001b[0m a[\u001b[38;5;241m0\u001b[39m]\u001b[38;5;241m=\u001b[39m\u001b[38;5;124m'\u001b[39m\u001b[38;5;124mStatoil\u001b[39m\u001b[38;5;124m'\u001b[39m\n",
      "\u001b[0;31mKeyError\u001b[0m: 0"
     ]
    }
   ],
   "source": [
    "print(a[0])\n",
    "a[0]='Statoil'"
   ]
  },
  {
   "cell_type": "markdown",
   "id": "41bb7161",
   "metadata": {},
   "source": [
    "Tuple er mest brukt i forbindelse med funksjoner, og er ikke noe vi kommer til å bruke mye tid på i dette kurset. En annen fordel med 'tuples' er at de er mer effektive ved svært store datasett."
   ]
  },
  {
   "cell_type": "markdown",
   "id": "7720e0d4",
   "metadata": {},
   "source": [
    "# Numpy"
   ]
  },
  {
   "cell_type": "markdown",
   "id": "c93f3296",
   "metadata": {},
   "source": [
    "Numpy er en pakke som kan gjøre matematiske beregninger på store datasett, , på en svært effektiv måte. Vi starter med å importere pakken, og konvertere listen vi har brukt til en numpy-matrise kalt `ndarray`. En *matrise* er en liste der alle rader har like mange elementer, og det er jo tilfelle med vår `stocks`-liste.\n",
    "\n",
    "Vi starter med å definere en liste av liste med informasjon om aksjene:\n",
    "\n",
    "#### Eksempel 13:"
   ]
  },
  {
   "cell_type": "code",
   "execution_count": 19,
   "id": "72c499ee",
   "metadata": {},
   "outputs": [],
   "source": [
    "import numpy as np"
   ]
  },
  {
   "cell_type": "code",
   "execution_count": 20,
   "id": "0135a901",
   "metadata": {},
   "outputs": [],
   "source": [
    "stocks=[\n",
    "['Equinor', 'EQNR', 167.554919090282, 376883380048.5, 6.14609823076753, 0.617893838660362] , \n",
    "['DNB', 'DNB', 164, 259169427140, 11.1121822724349, 0.914999939276725] , \n",
    "['Telenor', 'TEL', 148.737572948101, 227115017138.4, 13.0211568133471, 0.715300723576896] , \n",
    "['Marine Harvest', 'MHG', 225.589705235372, 118004750966.2, 21.6878893009616, 0.440427599611273] , \n",
    "['Aker BP', 'AKERBP', 272.499264741749, 103712690592, 26.7636558040214, 0.722568840028356] , \n",
    "['Yara International', 'YAR', 333.328922090651, 99481443032.4, 86.741957363663, 0.465057636887608] , \n",
    "['Gjensidige Forsikring', 'GJF', 172.830508474576, 92125000000, 24.9404407385348, 0.847890127134592] , \n",
    "['Orkla', 'ORK', 86.5857852597003, 89087299091.2, 26.5615083754323, 0.350968405416214] , \n",
    "['Norsk Hydro', 'NHY', 31.4389402413895, 67532103728.64, 15.6215830970715, 0.439195576287418] , \n",
    "['SalMar', 'SALM', 449.3, 50905689550.7, 14.222545257898, 0.396134627028104] , \n",
    "['Tomra Systems', 'TOM', 276.409619134278, 41208789715.2, 52.8996016883184, 0.454299114121939] , \n",
    "['Aker', 'AKER', 514.200494811093, 40393931997, 43.4343354806452, 0.548092886866901] , \n",
    "]"
   ]
  },
  {
   "cell_type": "code",
   "execution_count": 21,
   "id": "bc46bfad",
   "metadata": {},
   "outputs": [
    {
     "data": {
      "text/plain": [
       "['DNB', 'DNB', 164, 259169427140, 11.1121822724349, 0.914999939276725]"
      ]
     },
     "execution_count": 21,
     "metadata": {},
     "output_type": "execute_result"
    }
   ],
   "source": [
    "stocks[1]"
   ]
  },
  {
   "cell_type": "markdown",
   "id": "7910241d",
   "metadata": {},
   "source": [
    "Som du ser, så består listen av tolv rader og seks kolonner. Dette er altså en 12x6-matrise. Den kan enkelt konverteres til en numpy-matrise med funksjonen `np.array()` slik som her:\n",
    "\n",
    "#### Eksempel 14:"
   ]
  },
  {
   "cell_type": "code",
   "execution_count": 22,
   "id": "33102422",
   "metadata": {
    "scrolled": true
   },
   "outputs": [],
   "source": [
    "stocks_np = np.array(stocks)"
   ]
  },
  {
   "cell_type": "code",
   "execution_count": 23,
   "id": "4ebd0443",
   "metadata": {},
   "outputs": [
    {
     "data": {
      "text/plain": [
       "numpy.ndarray"
      ]
     },
     "execution_count": 23,
     "metadata": {},
     "output_type": "execute_result"
    }
   ],
   "source": [
    "type(stocks_np)"
   ]
  },
  {
   "cell_type": "markdown",
   "id": "2fe782b3",
   "metadata": {},
   "source": [
    "Her ser vi at datatypen er `numpy.ndarray`, som vi nevnte over."
   ]
  },
  {
   "cell_type": "code",
   "execution_count": 24,
   "id": "656865d8",
   "metadata": {},
   "outputs": [
    {
     "data": {
      "text/plain": [
       "array([['Equinor', 'EQNR', '167.554919090282', '376883380048.5',\n",
       "        '6.14609823076753', '0.617893838660362'],\n",
       "       ['DNB', 'DNB', '164', '259169427140', '11.1121822724349',\n",
       "        '0.914999939276725'],\n",
       "       ['Telenor', 'TEL', '148.737572948101', '227115017138.4',\n",
       "        '13.0211568133471', '0.715300723576896'],\n",
       "       ['Marine Harvest', 'MHG', '225.589705235372', '118004750966.2',\n",
       "        '21.6878893009616', '0.440427599611273'],\n",
       "       ['Aker BP', 'AKERBP', '272.499264741749', '103712690592',\n",
       "        '26.7636558040214', '0.722568840028356'],\n",
       "       ['Yara International', 'YAR', '333.328922090651', '99481443032.4',\n",
       "        '86.741957363663', '0.465057636887608'],\n",
       "       ['Gjensidige Forsikring', 'GJF', '172.830508474576',\n",
       "        '92125000000', '24.9404407385348', '0.847890127134592'],\n",
       "       ['Orkla', 'ORK', '86.5857852597003', '89087299091.2',\n",
       "        '26.5615083754323', '0.350968405416214'],\n",
       "       ['Norsk Hydro', 'NHY', '31.4389402413895', '67532103728.64',\n",
       "        '15.6215830970715', '0.439195576287418'],\n",
       "       ['SalMar', 'SALM', '449.3', '50905689550.7', '14.222545257898',\n",
       "        '0.396134627028104'],\n",
       "       ['Tomra Systems', 'TOM', '276.409619134278', '41208789715.2',\n",
       "        '52.8996016883184', '0.454299114121939'],\n",
       "       ['Aker', 'AKER', '514.200494811093', '40393931997',\n",
       "        '43.4343354806452', '0.548092886866901']], dtype='<U32')"
      ]
     },
     "execution_count": 24,
     "metadata": {},
     "output_type": "execute_result"
    }
   ],
   "source": [
    "stocks_np"
   ]
  },
  {
   "cell_type": "markdown",
   "id": "aca1f892",
   "metadata": {},
   "source": [
    "Listen er nå lagret som en numpy 12x6-matrise i objektet `stocks_np`. Vi kan imidlertid ikke utføre noen matematiske beregninger slik denne matrisen står, fordi alle tall er i tekstformat. Som vi har sett tidligere går det bare an å regne med `float`, `int` og `bool`. At det er tekst ser vi ved at det er enkle anførselstegn `'` rundt alle elementene. \n",
    "\n",
    "Heldigvis er det veldig enkelt å hente ut informasjon fra numpy-matriser, fordi mulighetene til å skjære utsnitt er langt større enn for vanlige lister. Numpy-lister kan nemlig skjæres i flere dimensjoner. \n",
    "\n",
    "I motsetning til vanlige lister, kan vi for eksempel velge ut kolonner. I en liste av lister velger du, som vi har sett, rad 2 og kolonne 0 med `stocks[2][0]`. Med numpy-matriser separerer du de to indeksene med et komma, `stocks[2,0]`.\n",
    "\n",
    "Men enda viktigere, du kan velge alle elementer ved å sette inn kolon `:` i stedet for tall. Dermed kan du velge hele kolonne 0 med `stocks_np[:,0]`.\n",
    "\n",
    "Her er vi mest interessert i de to siste kolonnene. Det er disse som inneholder tall. For å plukke ut disse velger vi alle radene (`:`) og alle kolonnene fra og med kolonne 2 (`2:`). Da får vi\n",
    "\n",
    "#### Eksempel 15:"
   ]
  },
  {
   "cell_type": "code",
   "execution_count": 25,
   "id": "3eabf6c5",
   "metadata": {},
   "outputs": [
    {
     "data": {
      "text/plain": [
       "array([['167.554919090282', '376883380048.5', '6.14609823076753',\n",
       "        '0.617893838660362'],\n",
       "       ['164', '259169427140', '11.1121822724349', '0.914999939276725'],\n",
       "       ['148.737572948101', '227115017138.4', '13.0211568133471',\n",
       "        '0.715300723576896'],\n",
       "       ['225.589705235372', '118004750966.2', '21.6878893009616',\n",
       "        '0.440427599611273'],\n",
       "       ['272.499264741749', '103712690592', '26.7636558040214',\n",
       "        '0.722568840028356'],\n",
       "       ['333.328922090651', '99481443032.4', '86.741957363663',\n",
       "        '0.465057636887608'],\n",
       "       ['172.830508474576', '92125000000', '24.9404407385348',\n",
       "        '0.847890127134592'],\n",
       "       ['86.5857852597003', '89087299091.2', '26.5615083754323',\n",
       "        '0.350968405416214'],\n",
       "       ['31.4389402413895', '67532103728.64', '15.6215830970715',\n",
       "        '0.439195576287418'],\n",
       "       ['449.3', '50905689550.7', '14.222545257898', '0.396134627028104'],\n",
       "       ['276.409619134278', '41208789715.2', '52.8996016883184',\n",
       "        '0.454299114121939'],\n",
       "       ['514.200494811093', '40393931997', '43.4343354806452',\n",
       "        '0.548092886866901']], dtype='<U32')"
      ]
     },
     "execution_count": 25,
     "metadata": {},
     "output_type": "execute_result"
    }
   ],
   "source": [
    "stocks_np[:,2:]"
   ]
  },
  {
   "cell_type": "markdown",
   "id": "4e538d99",
   "metadata": {},
   "source": [
    "Sist i matrisen over, står det `dtype='<U32'`. Det betyr at dette er tekstrenger på 32 eller færre tegn. Vi må imidlertid ha dette over i tallformat for å kunne jobbe med det. Det gjør vi slik:\n",
    "\n",
    "#### Eksempel 16:"
   ]
  },
  {
   "cell_type": "code",
   "execution_count": 27,
   "id": "0aaeaaac",
   "metadata": {},
   "outputs": [
    {
     "data": {
      "text/plain": [
       "array([[1.67554919e+02, 3.76883380e+11, 6.14609823e+00, 6.17893839e-01],\n",
       "       [1.64000000e+02, 2.59169427e+11, 1.11121823e+01, 9.14999939e-01],\n",
       "       [1.48737573e+02, 2.27115017e+11, 1.30211568e+01, 7.15300724e-01],\n",
       "       [2.25589705e+02, 1.18004751e+11, 2.16878893e+01, 4.40427600e-01],\n",
       "       [2.72499265e+02, 1.03712691e+11, 2.67636558e+01, 7.22568840e-01],\n",
       "       [3.33328922e+02, 9.94814430e+10, 8.67419574e+01, 4.65057637e-01],\n",
       "       [1.72830508e+02, 9.21250000e+10, 2.49404407e+01, 8.47890127e-01],\n",
       "       [8.65857853e+01, 8.90872991e+10, 2.65615084e+01, 3.50968405e-01],\n",
       "       [3.14389402e+01, 6.75321037e+10, 1.56215831e+01, 4.39195576e-01],\n",
       "       [4.49300000e+02, 5.09056896e+10, 1.42225453e+01, 3.96134627e-01],\n",
       "       [2.76409619e+02, 4.12087897e+10, 5.28996017e+01, 4.54299114e-01],\n",
       "       [5.14200495e+02, 4.03939320e+10, 4.34343355e+01, 5.48092887e-01]])"
      ]
     },
     "execution_count": 27,
     "metadata": {},
     "output_type": "execute_result"
    }
   ],
   "source": [
    "stocks_numbers = np.array(stocks_np[:,2:], dtype = float)\n",
    "stocks_numbers"
   ]
  },
  {
   "cell_type": "markdown",
   "id": "8e7f9817",
   "metadata": {},
   "source": [
    "Når vi konverterte listen til en `ndarray`, så brukte vi altså funksjonen `np.array()`, slik som i Eksempel 14. Men denne gangen legger vi til det valgfrie argument `dtype=float` for å eksplisitt gi beskjed om at vi ønsker strengene konvertert til flyttall. \n",
    "\n",
    "Nå kan vi begynne å bruke tallene. For eksempel kan vi se grafisk om det er en sammenheng mellom gjeldsgrad og pris-inntjeningstraten (PE). Dette er de to siste kolonnene i datamatrisen:\n",
    "\n",
    "#### Eksempel 17:"
   ]
  },
  {
   "cell_type": "code",
   "execution_count": 29,
   "id": "dec61f6f",
   "metadata": {},
   "outputs": [
    {
     "data": {
      "image/png": "[encoded data removed]",
      "text/plain": [
       "<Figure size 640x480 with 1 Axes>"
      ]
     },
     "metadata": {},
     "output_type": "display_data"
    }
   ],
   "source": [
    "from matplotlib import pyplot as plt\n",
    "\n",
    "fig,ax = plt.subplots()\n",
    "ax.set_ylabel('PE')\n",
    "ax.set_xlabel('gjeldsrate')\n",
    "ax.scatter(stocks_numbers[:,-1], stocks_numbers[:,-2])\n",
    "plt.grid(True)\n",
    "\n",
    "plt.show()"
   ]
  },
  {
   "cell_type": "markdown",
   "id": "fb6ce639",
   "metadata": {},
   "source": [
    "Ser du en sammenheng?\n",
    "\n",
    "Det er også enkelt å regne med Numpy. Vi kan bruke alle de vanlige regneartene med numpy-matriser:"
   ]
  },
  {
   "cell_type": "code",
   "execution_count": 30,
   "id": "7f475a8a",
   "metadata": {},
   "outputs": [
    {
     "name": "stdout",
     "output_type": "stream",
     "text": [
      "[24 20  8 13]\n",
      "[-22 -10   4  -7]\n",
      "[23 75 12 30]\n",
      "[0.04347826 0.33333333 3.         0.3       ]\n",
      "[  1 125 216  27]\n",
      "[1.         2.23606798 2.44948974 1.73205081]\n"
     ]
    }
   ],
   "source": [
    "a = np.array([1,5,6,3])\n",
    "b = np.array([23,15,2,10])\n",
    "\n",
    "print(a+b)\n",
    "print(a-b)\n",
    "print(a*b)\n",
    "print(a/b)\n",
    "print(a**3)\n",
    "print(a**0.5) #Kvadratroten"
   ]
  },
  {
   "cell_type": "markdown",
   "id": "41726940",
   "metadata": {},
   "source": [
    "# Oppslag\n",
    "\n",
    "Et oppslag, eller *dictionary* har symbol `dict` i Python. Dette er en datastruktur der hvert element ikke identifiseres med hvor det er plassert, men med et nøkkelord (`key`). Å bruke oppslag i stedet for lister gjør ofte koden mer lesbar. Det finnes to måter å lage oppslag på; enten ved å bruke funksjonen `dict()`:\n",
    "\n",
    "#### Eksempel 18:"
   ]
  },
  {
   "cell_type": "code",
   "execution_count": 31,
   "id": "803aa348",
   "metadata": {},
   "outputs": [
    {
     "name": "stdout",
     "output_type": "stream",
     "text": [
      "{'gjeldsrate': array([0.61789384, 0.91499994, 0.71530072, 0.4404276 , 0.72256884,\n",
      "       0.46505764, 0.84789013, 0.35096841, 0.43919558, 0.39613463,\n",
      "       0.45429911, 0.54809289]), 'PE': array([ 6.14609823, 11.11218227, 13.02115681, 21.6878893 , 26.7636558 ,\n",
      "       86.74195736, 24.94044074, 26.56150838, 15.6215831 , 14.22254526,\n",
      "       52.89960169, 43.43433548])}\n",
      "<class 'dict'>\n"
     ]
    }
   ],
   "source": [
    "# Definere en tom dictionary kalt a\n",
    "a = dict()\n",
    "\n",
    "# Gjeldsrate er i siste kolonne av stocks_numbers ndarray, altså indeks '-1'\n",
    "a['gjeldsrate'] = stocks_numbers[:,-1]\n",
    "\n",
    "# PE er i nest siste kolonne av stocks_numbers ndarray, altså indeks '-2'\n",
    "a['PE'] = stocks_numbers[:,-2]\n",
    "\n",
    "print(a)\n",
    "print(type(a))"
   ]
  },
  {
   "cell_type": "code",
   "execution_count": 32,
   "id": "db9ef8a9",
   "metadata": {},
   "outputs": [
    {
     "data": {
      "text/plain": [
       "array([0.61789384, 0.91499994, 0.71530072, 0.4404276 , 0.72256884,\n",
       "       0.46505764, 0.84789013, 0.35096841, 0.43919558, 0.39613463,\n",
       "       0.45429911, 0.54809289])"
      ]
     },
     "execution_count": 32,
     "metadata": {},
     "output_type": "execute_result"
    }
   ],
   "source": [
    "a['gjeldsrate']"
   ]
  },
  {
   "cell_type": "markdown",
   "id": "cb84358b",
   "metadata": {},
   "source": [
    "Som vi ser, blir dette et objekt av type `dict`. Alternativt kan vi definere elementer inne i en krølleparentes på formen `{nøkkel: objekt}`, slik som dette:"
   ]
  },
  {
   "cell_type": "code",
   "execution_count": 33,
   "id": "8d06fa92",
   "metadata": {},
   "outputs": [
    {
     "name": "stdout",
     "output_type": "stream",
     "text": [
      "<class 'dict'>\n"
     ]
    }
   ],
   "source": [
    "b={\n",
    "    'gjeldsrate':stocks_numbers[:,-1],\n",
    "    'PE':stocks_numbers[:,-2], \n",
    "  }\n",
    "\n",
    "print(type(b))"
   ]
  },
  {
   "cell_type": "markdown",
   "id": "f728a1d9",
   "metadata": {},
   "source": [
    "Her er det altså to elementer med nøkler `'gjeldsrate'` og `'PE'`, og tilhørende objekter fra `stocks_numbers`. \n",
    "\n",
    "Vi legger merke til at dette også er en objekt av type `dict`. Med oppslag blir det enklere å bruke variablene, siden vi kan referere til dem med navn i stedet for indeks. Her er plottet i Eksempel 17 gjort med oppslag:\n",
    "\n",
    "#### Eksempel 19:"
   ]
  },
  {
   "cell_type": "code",
   "execution_count": 34,
   "id": "82832646",
   "metadata": {
    "scrolled": true
   },
   "outputs": [
    {
     "data": {
      "text/plain": [
       "<matplotlib.collections.PathCollection at 0x1170dc090>"
      ]
     },
     "execution_count": 34,
     "metadata": {},
     "output_type": "execute_result"
    },
    {
     "data": {
      "image/png": "[encoded data removed]",
      "text/plain": [
       "<Figure size 640x480 with 1 Axes>"
      ]
     },
     "metadata": {},
     "output_type": "display_data"
    }
   ],
   "source": [
    "plt.ylabel('PE')\n",
    "plt.xlabel('gjeldsrate')\n",
    "plt.scatter(a['gjeldsrate'], a['PE'])"
   ]
  },
  {
   "cell_type": "markdown",
   "id": "a09f188d",
   "metadata": {},
   "source": [
    "Når du først har laget en dict, er det enkelt å legge til nye elementer. Det gjør du enkelt ved å bruke en nøkkel som ikke finnes, for eksempel `'Pris'`, og dette elementet lik ønsket objekt:\n",
    "\n",
    "#### Eksempel 20:"
   ]
  },
  {
   "cell_type": "code",
   "execution_count": 35,
   "id": "4cd9d2d0",
   "metadata": {},
   "outputs": [
    {
     "data": {
      "text/plain": [
       "<matplotlib.collections.PathCollection at 0x11720ff90>"
      ]
     },
     "execution_count": 35,
     "metadata": {},
     "output_type": "execute_result"
    },
    {
     "data": {
      "image/png": "[encoded data removed]",
      "text/plain": [
       "<Figure size 640x480 with 1 Axes>"
      ]
     },
     "metadata": {},
     "output_type": "display_data"
    }
   ],
   "source": [
    "a['Pris']=stocks_numbers[:,0]\n",
    "plt.ylabel('Pris')\n",
    "plt.xlabel('gjeldsrate')\n",
    "plt.scatter(a['gjeldsrate'], a['Pris'])"
   ]
  },
  {
   "cell_type": "markdown",
   "id": "40d13dd4",
   "metadata": {},
   "source": [
    "`dict`-objektet er helt sentralt i selve byggeklossene til Python. Alle variabler du lager er faktisk elementer i to `dict` som du kan få frem med funksjonene `locals()` og `globals()`, som kaller de lokalt og globalt definerte variablene i miljøet du befinner deg. Dette eksemplet viser at objektet `stocks` som vi har definert i Eksempel 13, er identisk med elementet `'stocks'` i `locals()`.\n",
    "\n",
    "#### Eksempel 21:"
   ]
  },
  {
   "cell_type": "code",
   "execution_count": 36,
   "id": "24e47c0a",
   "metadata": {},
   "outputs": [
    {
     "data": {
      "text/plain": [
       "True"
      ]
     },
     "execution_count": 36,
     "metadata": {},
     "output_type": "execute_result"
    }
   ],
   "source": [
    "locals()['stocks']==stocks"
   ]
  },
  {
   "cell_type": "markdown",
   "id": "aa6149dd",
   "metadata": {},
   "source": [
    "Vi ser at disse objektene egentlig er det samme, ved at den logiske testen om disse er like, returnerer sann (`True`)."
   ]
  },
  {
   "cell_type": "markdown",
   "id": "3043c3bf",
   "metadata": {},
   "source": [
    "# Oppgaver"
   ]
  },
  {
   "cell_type": "markdown",
   "id": "bc33b0cb",
   "metadata": {},
   "source": [
    "Det er enkelt å konvertere en pandas dataramme til numpy. Vi skal bruke et datasett som heter 'schooling-gdp.csv', som er en Excel-fil. Vi henter inn dataene og konverterer dem til numpy slik:"
   ]
  },
  {
   "cell_type": "code",
   "execution_count": 38,
   "id": "a924049f",
   "metadata": {},
   "outputs": [],
   "source": [
    "import pandas as pd"
   ]
  },
  {
   "cell_type": "code",
   "execution_count": 40,
   "id": "d003ed1b",
   "metadata": {},
   "outputs": [
    {
     "data": {
      "text/plain": [
       "array([['Norway', ' NOR', 73262.68, 11.65, 4886000],\n",
       "       ['Kuwait', ' KWT', 67029.523, 6.39, 2992000],\n",
       "       ['Luxembourg', ' LUX', 57882.809, 11.33, 508000],\n",
       "       ['Switzerland', ' CHE', 55688.02, 12.92, 7809000],\n",
       "       ['United States', ' USA', 49500.629, 13.24, 309011008],\n",
       "       ['Ireland', ' IRL', 47823.504, 12.45, 4554000],\n",
       "       ['Australia', ' AUS', 44854.902, 11.69, 22155000],\n",
       "       ['Netherlands', ' NLD', 44004.145, 11.71, 16683000],\n",
       "       ['Denmark', ' DNK', 43416.223, 11.97, 5555000],\n",
       "       ['Hong Kong', ' HKG', 41687.949, 12.2, 6966000],\n",
       "       ['Germany', ' DEU', 40627.23, 12.58, 80827000],\n",
       "       ['Austria', ' AUT', 40489.809, 10.13, 8410000],\n",
       "       ['Sweden', ' SWE', 40421.906, 11.95, 9390000],\n",
       "       ['Canada', ' CAN', 40269.031, 12.74, 34148000],\n",
       "       ['Finland', ' FIN', 38394.059, 10.71, 5366000],\n",
       "       ['Belgium', ' BEL', 38177.945, 11.29, 10939000],\n",
       "       ['Iceland', ' ISL', 37729.016, 11.48, 320000],\n",
       "       ['Taiwan', ' TWN', 37188.895, 11.96, 23188000],\n",
       "       ['Japan', ' JPN', 36595.633, 12.44, 128542000],\n",
       "       ['France', ' FRA', 35786.16, 11.34, 62880000],\n",
       "       ['United Kingdom', ' GBR', 34810.281, 12.46, 63460000],\n",
       "       ['Italy', ' ITA', 34727.676, 10.71, 59325000],\n",
       "       ['Spain', ' ESP', 31610.98, 10.75, 46931000],\n",
       "       ['South Korea', ' KOR', 31589.705, 12.96, 49546000],\n",
       "       ['New Zealand', ' NZL', 30867.053, 11.12, 4370000],\n",
       "       ['Cyprus', ' CYP', 28046.375, 11.76, 1113000],\n",
       "       ['Trinidad and Tobago', ' TTO', 27510.236, 10.96, 1328000],\n",
       "       ['Czechia', ' CZE', 26129.568, 12.8, 10537000],\n",
       "       ['Greece', ' GRC', 25815.799, 11.36, 10888000],\n",
       "       ['Portugal', ' PRT', 25788.273, 8.71, 10596000],\n",
       "       ['Malta', ' MLT', 22983.451, 11.06, 414000],\n",
       "       ['Russia', ' RUS', 21754.066, 12.02, 143479008],\n",
       "       ['Poland', ' POL', 21006.027, 11.62, 38330000],\n",
       "       ['Hungary', ' HUN', 20477.799, 11.98, 9927000],\n",
       "       ['Chile', ' CHL', 18092.941, 10.35, 17063000],\n",
       "       ['Turkey', ' TUR', 17930.68, 7.44, 72327000],\n",
       "       ['Malaysia', ' MYS', 17913.164, 10.89, 28208000],\n",
       "       ['Iran', ' IRN', 17328.459, 9.15, 73763000],\n",
       "       ['Romania', ' ROU', 16775.609, 11.08, 20472000],\n",
       "       ['Venezuela', ' VEN', 16357.737, 8.78, 28440000],\n",
       "       ['Argentina', ' ARG', 15841.659, 9.71, 40896000],\n",
       "       ['Uruguay', ' URY', 15783.405, 8.61, 3359000],\n",
       "       ['Mauritius', ' MUS', 15178.326, 9.44, 1248000],\n",
       "       ['Panama', ' PAN', 15055.237, 9.72, 3643000],\n",
       "       ['Bulgaria', ' BGR', 14906.785, 11.07, 7425000],\n",
       "       ['Mexico', ' MEX', 14507.013, 9.18, 114093000],\n",
       "       ['Barbados', ' BRB', 13995.613, 9.57, 282000],\n",
       "       ['Brazil', ' BRA', 13541.462, 8.17, 195714000],\n",
       "       ['Algeria', ' DZA', 12590.226, 7.0, 35977000],\n",
       "       ['Thailand', ' THA', 12496.244, 8.47, 67195000],\n",
       "       ['Serbia', ' SRB', 12453.482, 11.52, 8991000],\n",
       "       ['Costa Rica', ' CRI', 12106.992, 8.43, 4577000],\n",
       "       ['Dominican Republic', ' DOM', 11500.132, 8.12, 9695000],\n",
       "       ['South Africa', ' ZAF', 11388.641, 9.89, 51217000],\n",
       "       ['Tunisia', ' TUN', 10647.835, 8.0, 10635000],\n",
       "       ['Colombia', ' COL', 10636.5, 9.35, 45223000],\n",
       "       ['Albania', ' ALB', 9544.7402, 10.44, 2948000],\n",
       "       ['Jordan', ' JOR', 9351.3877, 10.0, 7262000],\n",
       "       ['Iraq', ' IRQ', 9344.5439, 7.43, 29742000],\n",
       "       ['China', ' CHN', 9337.29, 8.25, 1368811008],\n",
       "       ['Peru', ' PER', 9262.1641, 9.28, 29028000],\n",
       "       ['Egypt', ' EGY', 9148.8398, 7.44, 82761000],\n",
       "       ['Ecuador', ' ECU', 9129.1367, 8.02, 15011000],\n",
       "       ['Sri Lanka', ' LKA', 8390.4297, 10.67, 20262000],\n",
       "       ['Indonesia', ' IDN', 7365.4385, 8.02, 241834000],\n",
       "       ['Belize', ' BLZ', 7145.9521, 9.63, 322000],\n",
       "       ['Eswatini', ' SWZ', 7042.5239, 5.33, 1065000],\n",
       "       ['Fiji', ' FJI', 6902.0688, 10.35, 860000],\n",
       "       ['Paraguay', ' PRY', 6825.2051, 7.99, 6248000],\n",
       "       ['Jamaica', ' JAM', 6675.1768, 10.33, 2810000],\n",
       "       ['Morocco', ' MAR', 6421.9375, 5.27, 32343000],\n",
       "       ['Guatemala', ' GTM', 6359.2627, 5.21, 14630000],\n",
       "       ['El Salvador', ' SLV', 6096.9585, 8.06, 6184000],\n",
       "       ['Syria', ' SYR', 5700.3291, 7.07, 21363000],\n",
       "       ['Philippines', ' PHL', 5391.2339, 8.65, 93967000],\n",
       "       ['Bolivia', ' BOL', 4806.6094, 8.57, 10049000],\n",
       "       ['Yemen', ' YEM', 4553.5571, 3.84, 23155000],\n",
       "       ['India', ' IND', 4357.0596, 6.59, 1234280960],\n",
       "       ['Pakistan', ' PAK', 4171.4165, 5.19, 179424992],\n",
       "       ['Nicaragua', ' NIC', 3992.762, 6.82, 5824000],\n",
       "       ['Ghana', ' GHA', 3931.2917, 7.66, 24780000],\n",
       "       ['Honduras', ' HND', 3789.9104, 6.6, 8317000],\n",
       "       ['Sudan', ' SDN', 3608.7856, 3.49, 34545000],\n",
       "       ['Myanmar', ' MMR', 3422.2415, 5.11, 50601000],\n",
       "       ['Zambia', ' ZMB', 2870.8872, 7.4, 13606000],\n",
       "       ['Senegal', ' SEN', 2741.1213, 3.11, 12678000],\n",
       "       ['Cameroon', ' CMR', 2684.9727, 6.41, 20341000],\n",
       "       ['Gambia', ' GMB', 2681.8586, 3.92, 1793000],\n",
       "       ['Kenya', ' KEN', 2484.0349, 6.47, 42031000],\n",
       "       [\"Cote d'Ivoire\", ' CIV', 2452.6096, 4.93, 20533000],\n",
       "       ['Lesotho', ' LSO', 2432.7976, 6.08, 1996000],\n",
       "       ['Bangladesh', ' BGD', 2411.1021, 6.22, 147575008],\n",
       "       ['Cambodia', ' KHM', 2330.1272, 4.94, 14312000],\n",
       "       ['Nepal', ' NPL', 1996.1962, 4.44, 27013000],\n",
       "       ['Benin', ' BEN', 1919.9968, 4.57, 9199000],\n",
       "       ['Mali', ' MLI', 1873.281, 2.14, 15049000],\n",
       "       ['Uganda', ' UGA', 1723.5942, 5.87, 32428000],\n",
       "       ['Haiti', ' HTI', 1650.2697, 5.17, 9949000],\n",
       "       ['Zimbabwe', ' ZWE', 1479.0305, 7.86, 12698000],\n",
       "       ['Togo', ' TGO', 1222.8151, 6.09, 6422000],\n",
       "       ['Sierra Leone', ' SLE', 1161.8798, 4.28, 6416000],\n",
       "       ['Malawi', ' MWI', 972.04572, 5.01, 14540000],\n",
       "       ['Mozambique', ' MOZ', 969.23077, 2.03, 23532000],\n",
       "       ['Niger', ' NER', 845.86932, 1.95, 16464000],\n",
       "       ['Liberia', ' LBR', 786.67023, 4.35, 3891000],\n",
       "       ['Democratic Republic of Congo', ' COD', 634.97137, 3.79,\n",
       "        64564000]], dtype=object)"
      ]
     },
     "execution_count": 40,
     "metadata": {},
     "output_type": "execute_result"
    }
   ],
   "source": [
    "# Dette kan dere kjøre som det er, vi skal se mer på pandas i neste forelesning!\n",
    "df = pd.read_csv('/Users/maaas6121/Library/CloudStorage/OneDrive-UiTOffice365/Skrivebord/Bachelor_Emner/SOK-1003/H25_NyttKurs/data/schooling-gdp.csv')\n",
    "\n",
    "# Gjør om en pandas dataframe til numpy\n",
    "numpy_data = df.to_numpy()\n",
    "\n",
    "# Dette er dataene vi skal jobbe med i oppgaver. Mer om Pandas og databehandling i neste forelesning\n",
    "numpy_data"
   ]
  },
  {
   "cell_type": "markdown",
   "id": "a6f29fe3",
   "metadata": {},
   "source": [
    "1. Bytt ut navnet til \"Ireland\" med \"Republic of Ireland\" og \"United States\" med \"United States of America\""
   ]
  },
  {
   "cell_type": "code",
   "execution_count": null,
   "id": "26e16e07",
   "metadata": {},
   "outputs": [],
   "source": []
  },
  {
   "cell_type": "markdown",
   "id": "ec284a19",
   "metadata": {},
   "source": [
    "2. Print data for \"Luxembourg\""
   ]
  },
  {
   "cell_type": "code",
   "execution_count": null,
   "id": "91225db3",
   "metadata": {},
   "outputs": [],
   "source": []
  },
  {
   "cell_type": "markdown",
   "id": "90edfc44",
   "metadata": {},
   "source": [
    "3. Print data for \"Liberia\" ved å referere til nest siste element. "
   ]
  },
  {
   "cell_type": "code",
   "execution_count": null,
   "id": "c38be755",
   "metadata": {},
   "outputs": [],
   "source": []
  },
  {
   "cell_type": "markdown",
   "id": "179f0aec",
   "metadata": {},
   "source": [
    "4. Print BNP per capita for de tre siste elementene i `schooling` (ligger i kolonne med indeks 2)"
   ]
  },
  {
   "cell_type": "code",
   "execution_count": null,
   "id": "198dc97c",
   "metadata": {},
   "outputs": [],
   "source": []
  },
  {
   "cell_type": "markdown",
   "id": "3bc57ed3",
   "metadata": {},
   "source": [
    "5. Print BNP per capita for de tre siste elementene i `schooling` men hent kolonnen ved å refere til tredje siste kolonne. "
   ]
  },
  {
   "cell_type": "code",
   "execution_count": null,
   "id": "89984340",
   "metadata": {},
   "outputs": [],
   "source": []
  },
  {
   "cell_type": "markdown",
   "id": "168be0c9",
   "metadata": {},
   "source": [
    "6. Plukk ut de tre siste kolonnene i `schooling`, som representerer BNP per capita, skolegang og befolkning, og konverter dem til datatype `float`. "
   ]
  },
  {
   "cell_type": "code",
   "execution_count": null,
   "id": "c437603b",
   "metadata": {},
   "outputs": [],
   "source": []
  },
  {
   "cell_type": "code",
   "execution_count": null,
   "id": "a796885f",
   "metadata": {},
   "outputs": [],
   "source": []
  },
  {
   "cell_type": "markdown",
   "id": "05e64194",
   "metadata": {},
   "source": [
    "7. Lag et oppslag (dictionary) med de tre siste kolonnene og passende navn som nøkler. Kall det `schooling_dict`. "
   ]
  },
  {
   "cell_type": "code",
   "execution_count": null,
   "id": "e1d4f504",
   "metadata": {},
   "outputs": [],
   "source": []
  },
  {
   "cell_type": "markdown",
   "id": "0cd60002",
   "metadata": {},
   "source": [
    "8. Lag en ny variabel i oppslaget med navn \"Total schooling\" som er produktet av skolegang og befolkning."
   ]
  },
  {
   "cell_type": "code",
   "execution_count": null,
   "id": "c1088ea0",
   "metadata": {},
   "outputs": [],
   "source": []
  },
  {
   "cell_type": "markdown",
   "id": "bc1dc23a",
   "metadata": {},
   "source": [
    "9. Lag en ny variabel \"Total GDP\" som er produktet av BNP per capita og befolkning. "
   ]
  },
  {
   "cell_type": "code",
   "execution_count": null,
   "id": "9cea6dc6",
   "metadata": {},
   "outputs": [],
   "source": []
  },
  {
   "cell_type": "markdown",
   "id": "341357ec",
   "metadata": {},
   "source": [
    "10. Lag et scatterplot med de to variablene du nettopp lagde. "
   ]
  },
  {
   "cell_type": "code",
   "execution_count": null,
   "id": "784a2c7f",
   "metadata": {},
   "outputs": [],
   "source": []
  },
  {
   "cell_type": "markdown",
   "id": "09a58a7d",
   "metadata": {},
   "source": [
    "11. Lag plottet over, men konverter variablene med np.log()"
   ]
  },
  {
   "cell_type": "code",
   "execution_count": null,
   "id": "76f741e7",
   "metadata": {},
   "outputs": [],
   "source": []
  },
  {
   "cell_type": "markdown",
   "id": "edc21ad2",
   "metadata": {},
   "source": [
    "12. Lag en ny variabel \"GDP per schooling\" som er BNP per capita delt på skolegang."
   ]
  },
  {
   "cell_type": "code",
   "execution_count": null,
   "id": "8fdefcea",
   "metadata": {},
   "outputs": [],
   "source": []
  },
  {
   "cell_type": "markdown",
   "id": "9be336c0",
   "metadata": {},
   "source": [
    "13. Lag et liggende stolpediagram med navn på land og \"GDP per schooling\". Du bruker da funksjonen `plt.barh` på denne måten:\n",
    "```\n",
    "plt.barh(names,values)\n",
    "```\n",
    "Hvor `names` er en liste med navnene og `values` er de tilhørende verdiene. "
   ]
  },
  {
   "cell_type": "code",
   "execution_count": null,
   "id": "d896de15",
   "metadata": {},
   "outputs": [],
   "source": []
  },
  {
   "cell_type": "markdown",
   "id": "11dcc4b8",
   "metadata": {},
   "source": [
    "\n",
    "14. Dette blir ikke pent. Velg kun de 20 første landene, og forsøk på nytt. "
   ]
  },
  {
   "cell_type": "code",
   "execution_count": null,
   "id": "ff633f20",
   "metadata": {},
   "outputs": [],
   "source": []
  },
  {
   "cell_type": "markdown",
   "id": "8d959ec8",
   "metadata": {},
   "source": [
    "15. med argsort får du rangeringen til etter en sortering. Her er rangeringen for \"GDP per schooling\""
   ]
  },
  {
   "cell_type": "code",
   "execution_count": null,
   "id": "4abdd00d",
   "metadata": {},
   "outputs": [],
   "source": []
  },
  {
   "cell_type": "markdown",
   "id": "3087490e",
   "metadata": {},
   "source": [
    "`[::-1]` til slutt sørger for å reversere sorteringen. Legg referansen til soreringen inn i variabelen `sorted`, og lag diagrammet på nytt med sorterte verdier. Om du har en numpy-liste a, kan du velge de sorterte verdiene med `a[sorted]`"
   ]
  },
  {
   "cell_type": "markdown",
   "id": "2cde2659",
   "metadata": {},
   "source": [
    "Lag\n",
    "\n",
    "a) et nytt diagram med alle landene og\n",
    "\n",
    "b) et diagram med de 20 øverste.\n",
    "\n",
    "c) et diagram med de 20 nederste"
   ]
  },
  {
   "cell_type": "code",
   "execution_count": null,
   "id": "9b794216",
   "metadata": {},
   "outputs": [],
   "source": []
  },
  {
   "cell_type": "code",
   "execution_count": null,
   "id": "53b4245f",
   "metadata": {},
   "outputs": [],
   "source": []
  },
  {
   "cell_type": "code",
   "execution_count": null,
   "id": "b3b1d50e",
   "metadata": {},
   "outputs": [],
   "source": []
  },
  {
   "cell_type": "markdown",
   "id": "5a71bcd5",
   "metadata": {},
   "source": [
    "##### [< Forrige](3%20-%20Funksjoner.ipynb)     |     [Neste >](5%20-%20Pandas_og_databehandling.ipynb)"
   ]
  }
 ],
 "metadata": {
  "kernelspec": {
   "display_name": "Python (myenv)",
   "language": "python",
   "name": "myenv"
  },
  "language_info": {
   "codemirror_mode": {
    "name": "ipython",
    "version": 3
   },
   "file_extension": ".py",
   "mimetype": "text/x-python",
   "name": "python",
   "nbconvert_exporter": "python",
   "pygments_lexer": "ipython3",
   "version": "3.11.7"
  }
 },
 "nbformat": 4,
 "nbformat_minor": 5
}
