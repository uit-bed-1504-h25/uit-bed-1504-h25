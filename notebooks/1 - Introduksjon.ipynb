{
 "cells": [
  {
   "cell_type": "markdown",
   "metadata": {},
   "source": [
    "##### <span style=\"color:lightgrey\">\\<Forrige </span> | [Neste >](2%20-%20Python_Basics.ipynb)"
   ]
  },
  {
   "cell_type": "markdown",
   "metadata": {
    "jp-MarkdownHeadingCollapsed": true,
    "tags": []
   },
   "source": [
    "<span style=\"color:#9bb1d4;font-size:30px;font-weight:900\"> 1 - Introduksjon til kurset</span>  "
   ]
  },
  {
   "cell_type": "markdown",
   "metadata": {
    "tags": []
   },
   "source": [
    "# **Om kurset**\n",
    "Python-lab (BED-1504) er et kurs som omhandler grunnleggende programmeringsferdigheter i Python. Samtidig vil det være forankret mot økonomiske problemstillinger, særlig mot studenter som studerer samfunnsøkonomi, økonomi og adminstrasjon og lignende. Det vil være en fordel om du har jobbet med programmering før, hvis ikke - så skal dette gå helt fint. I løpet av dette kurset skal dere få grunnleggende ferdigheter i programmering i Python, og hvordan dere kan behandle data til noe meningsfylt.\n",
    "\n",
    "Dette blir artig!\n",
    "\n",
    "*\"Data is the new oil!\"* - Clive Humby (2006)\n",
    "\n",
    "## **Hva lærer du**\n",
    "Studenten lærer å sette opp, løse og visualisere matematiske modeller ved hjelp av Python-kode. Studenter lærer også grunnleggende teknikker inne informasjonsteknologi, som datastrukturer, typer av data, visualisering og anvende dette mot økonomiske problemstillinger. Kurset går parallelt med matematikk undervisning, og tar opp noen av de samme temaene. Det er derfor fordelaktig å ta disse emnene i samme semester. \n",
    "\n",
    "For mer informasjon om kurset, se UiT sin læringsutbyttebeskrivelse (**Legg inn link!**)\n",
    "\n",
    "### **Pensumbok**\n",
    "I dette kurset har vi ikke pensumbok. Det er først og fremst fordi det ikke er skrevet noen **norsk** bok om Python og økonomi. Det lagd spesifikke Jupyter Notebooks for kurset, som ligger på GitHub-siden til faget. (**PS:** Vi vil lære hva Jupyter Notebook og GitHub er seinere!)\n",
    "\n",
    "All informasjon om arbeidskrav, forelesninger og eksamen finner du enkelt på [GitHub-siden](lenke til kurset) til faget.\n",
    "\n",
    "### **Undervisning**\n",
    "*Det være fokus på koding og problemløsning i forelesning, da vi vil i stor grad benytte *omvendt undervisning*, altså at det er lagd video-forelesninger som skal sees før de fysiske øktene. Dette gir studentene mulighet/fleksibilitet til å se ting i eget tempo. Likevel, er videoene ikke en erstatning av fysisk forelesning, da det vil gås igjennom mer pensum i de fysiske forelesningene.\n",
    "\n",
    "### **Seminar**\n",
    "I tillegg til forelesninger, arrangeres det flere seminarer gjennom semesteret. Disse er tiltenkt for å jobbe med seminaroppgaver, eksamensøving og samarbeid. Husk at læring er en tung, krevende prosess - men å lære sammen med andre, er en fornøyelig prosess.\n",
    "\n",
    "### **Eksamen**\n",
    "Det er en skriftlig, digital skole eksamen som teller 100% på slutten av året. Karakter A-E (F er stryk).\n",
    "\n",
    "I løpet av semesteret vil dere få utdelt 50 oppgaver, hvor 10 av disse kommer på eksamen. (OBS: endre tall her)\n",
    "\n",
    "Ingen kontinuasjonseksamen."
   ]
  },
  {
   "cell_type": "markdown",
   "metadata": {},
   "source": [
    "## Introduksjon til faget - *Hvorfor python?*"
   ]
  },
  {
   "cell_type": "markdown",
   "metadata": {},
   "source": [
    "R og python er to av de ledende programmeringsspråkene i dag. Begge har sine fordeler og ulemper, når det gjelder anvendelser innen økonomi-faget.\n",
    "\n",
    "I motsetning til R, er Python et \"ordentlig\" programmeringsspråk i den forstand at du kan skape objekter og klasser. R er et enklere språk med mindre muligheter når det gjelder programmering, men har til gjengjeld et langt større utvalg pakker innenfor statistikk og økonometri. For statistisk analyse er derfor R ofte foretrukket, men dersom du skal gjøre noe litt annet enn det som tilbys i R-pakker, er det en fordel med et mer avansert programmeringsspråk som Python. \n",
    "\n",
    "En annen fordel med Python, er at det tar større og større plass i arbeidsmarkedet og er svært godt dokumentert på internett. Python har også mange andre fordeler. De viktigste er at det er:\n",
    "\n",
    "* Enkelt, intuitivt og lett og forstå\n",
    "* Det er svært effektvit om en bruker de rette pakkene (numpy, pandas, matplotlib, ...)\n",
    "* Det er et \"ekte\" programmeringsspråk der man kan skape objekter og klasser (dette er ikke noe vi lærer om i dette kurset)\n",
    "* stort utvalg av pakker (dog betydelig færre enn R innenfor statistikk og økonometri)"
   ]
  },
  {
   "cell_type": "markdown",
   "metadata": {},
   "source": [
    "## Programmeringsspråk"
   ]
  },
  {
   "cell_type": "markdown",
   "metadata": {},
   "source": [
    "Da de første datamaskinene kom på 40-tallet, måtte brukerne gi maskinene instruksjoner i form av maskinkode. Datamaskiner er binære og forstår kun to tegn; 1 og 0, det vil si \"av\" og \"på\". Brukeren måtte derfor forklare maskinen hva den skulle gjøre ved å skrive ned problemet som en lang rekke enere og nuller. Det ble raskt klart at dette var en ekstremt krevende oppgave. Programmeringsspråk ble derfor funnet opp for at mennesker skulle kunne gi instruksjoner til datamaskiner på en forståelig måte.\n",
    "\n",
    "Stort sett alle programmeringsspråk henter syntaksen fra engelsk. Koden oversettes så til maskinspråk, noe som kalles å \"kompilere\" (\"compile\" på engelsk). Datamaskinen kan så behandle den kompilerte maskinkoden. \n",
    "\n",
    "## Lav- og høynivåspråk\n",
    "\n",
    "Programmeringsspråk deles inn i høynivå- og lavnivåspråk. Forskjellen på høy- og lavnivå er hvor mye støtte språket gir til brukeren. Slik støtte gjør det enklere å programmere, men er kostbart fordi det gir en mindre effektiv kode. "
   ]
  },
  {
   "cell_type": "markdown",
   "metadata": {},
   "source": [
    "Lavnivåspråk er gir svært effektiv og rask kode, men er mer krevende og mindre intuitive å programmere. C++ er et lavnivåspråk. Eksemplet under skriver ut tallene 0 til og med 4:\n",
    "\n",
    "#### Eksempel 1:"
   ]
  },
  {
   "cell_type": "markdown",
   "metadata": {},
   "source": [
    "        for (int i = 0; i < 5; i++) {\n",
    "          std::cout << i << \"\\n\";\n",
    "        }\n",
    "\n",
    "Vi kan sammenligne dette med tilsvarende kode i Python, som er et høynivåspråk:\n",
    "\n",
    "#### Eksempel 2:"
   ]
  },
  {
   "cell_type": "code",
   "execution_count": 5,
   "metadata": {
    "tags": []
   },
   "outputs": [
    {
     "name": "stdout",
     "output_type": "stream",
     "text": [
      "1\n",
      "2\n",
      "3\n",
      "4\n"
     ]
    }
   ],
   "source": [
    "for i in range(1, 5):\n",
    "    print(i)"
   ]
  },
  {
   "cell_type": "markdown",
   "metadata": {},
   "source": [
    "Om du har åpnet denne filen i Jupyter notebook (se under for instruksjoner), kan du kjøre Pythonkoden (de 'cellene' hvor det står Python nede i høyre hjørne) ved å trykke SHIFT+ENTER. \n",
    "\n",
    "Vi ser at Python-koden er langt enklere, og har en syntaks som ligner mer på vanlig engelsk. Generelt er Python et svært intuitivt språk som er enkelt å programmere i. Språket ble funnet opp av Guido van Rossum i 1989 og er i dag verdens mest populære programmeringsspråk rangert ut fra googlesøk. \n",
    "\n",
    "Selv om Python er er et høynivåspråk, er det svært effektivt på grunn av et stort antall bibliotek hvor mye er skrevet direkte i C eller C++. Ett slik bibliotek heter \"Numpy\", og har svært effektive metoder for matriseoperasjoner. \"Pandas\" er et svært effektivt bibliotek for databehandling, og \"Statsmodels\" er et kraftfullt verktøy for dataanalyse. Alt dette - ser vi mer på senere i kurset.\n",
    "\n",
    "\n",
    "## Innrykk og linjeskift\n",
    "\n",
    "Én ting som gjør det enklere å programmere i Python enn andre språk kan du allerede se av det lille eksemplet over. De fleste språk bruker ulike typer parenteser for å markere at noe tilhører en bestemt operasjon. Operasjonen over er en *løkke*, og vi ser fra Eksempel 1 at C++ bruker {} for å markere hva som er en del av løkken. I Python markeres tilhørighet til løkken med innrykk. Vi ser i Eksempel 1 at `print(i)` tilhører løkken fordi denne setningen er rykket ett hakk inn. \n",
    "\n",
    "Det har etterhvert etablert seg som god skikk og bruk innen programmering å ha et innrykk for kode som tilhører en operasjon. Vi ser det av Eksempel 1, der innholdet i løkken også er rykket inn. Forskjellen mellom C og Python er imidlertid at i C har hverken linjeskift eller innrykk noen som helst betydning for hvordan koden fungerer. Eksempel 1 kunne like gjerne vært skrevet på en linje som `for (int i = 0; i < 5; i++) {std::cout << i << \"\\n\";}`, og det ville fungert like bra. \n",
    "\n",
    "I Python markeres imidlertid linjeskift et skille mellom setninger, og innrykk markere hva som tilhører hva. Det gir en kode som er enklere å lese og mer intuitiv. \n",
    "\n",
    " \n"
   ]
  },
  {
   "cell_type": "markdown",
   "metadata": {},
   "source": [
    "## **Nedlastning av Python og Visual Studio Code**\n",
    "\n",
    "## 1. Installere Python \n",
    "\n",
    "**Windows:**\n",
    "\n",
    "På noen systemer er det tilstrekkelig at du skriver `python` kommandovinduet. Om ikke det fungerer, gjør slik:\n",
    "\n",
    "1. Gå til [installasjonssiden](https://www.python.org/downloads/) og last ned\n",
    "4. Installer for alle brukere (krever elevering/admin login) og **hak av for å legge til \"PATH\"**. \n",
    "\n",
    "**Mac:**\n",
    "\n",
    "Gå til [https://www.python.org/downloads/](https://www.python.org/downloads/)\n",
    "\n",
    "### Tips:\n",
    "Last ned nyeste versjon av Python til PC/Mac'en deres.\n",
    "\n",
    "## 2. Installere Visual Studio Code\n",
    "I dette kurset skal vi jobbe med Jupyter Notebooks, og da er [Visual Studio Code](https://code.visualstudio.com/) et glimrende verktøy.\n",
    "\n",
    "Dere finner nedlastning for både Mac og Windows på nettsiden [her](https://code.visualstudio.com/)!\n",
    "\n",
    "## 3. Åpne Visual Studio Code\n",
    "Visual Studio Code, forkortes ofte bare til VSCode.\n",
    "\n",
    "Når dere har lastet ned programmet, gjør følgende:\n",
    "- Åpne programmet og finn **Extensions** på venstresiden av applikasjonen.\n",
    "- Her skal dere finne **Jupyter** og trykk \"*Install*\". \n",
    "- Deretter finner dere **Python** (også i **Extensions**) og trykker \"*Install*\". "
   ]
  },
  {
   "cell_type": "markdown",
   "metadata": {},
   "source": [
    "# Hva er Jupyter Notebook? \n",
    "Jupyter Notebook er et interaktivt verktøy for å skrive og kjøre kode, spesielt populært innen dataanalyse, maskinlæring og vitenskapelig databehandling. Det kombinerer kode, tekst, visualiseringer og resultater i én enkelt fil, noe som gjør det enklere å dele og dokumentere prosjekter.\n",
    "\n",
    "I Visual Studio Code (VSCode) er Jupyter Notebook spesielt nyttig for Python-brukere på grunn av flere integrerte funksjoner.\n",
    "\n",
    "Hvorfor bruke Jupyter Notebook i VSCode?\n",
    "* **Integrert kode og dokumentasjon**: Kombiner Python-kode med tekst, visualiseringer og ligninger i ett dokument.\n",
    "\n",
    "* **Sømløs Python-integrasjon**: Med VSCode's Python-utvidelse kan du enkelt kjøre, feilsøke og utvikle Python-kode i Jupyter Notebook-format.\n",
    "\n",
    "* **Kraftig interaktiv utvikling**: Kjør celler individuelt, slik at du kan teste deler av koden uten å kjøre hele programmet på nytt.\n",
    "\n",
    "* **Masse støtte for utvidelser**: VSCode støtter en rekke utvidelser som forbedrer Jupyter-opplevelsen med autfullføring, feilsøking, og Git-integrasjon.\n",
    "\n",
    "* **Samarbeid og deling** : Det er enkelt å dele Jupyter Notebook-filer på GitHub, slik at andre kan se koden, visualiseringene og resultatene dine i samme dokument.\n",
    "\n",
    "Jupyter Notebook i VSCode gjør det effektivt å utvikle og analysere data i et velkjent IDE-miljø med mange funksjoner for profesjonell utvikling.\n"
   ]
  },
  {
   "cell_type": "markdown",
   "metadata": {},
   "source": [
    "## ```pip``` - og hvorfor det er viktig!\n",
    "I dette kurset vil vi bruke kommandoen ```!pip install XXX``` hvor ```XXX``` er et bibliotek. Bibliotek brukes mye i Python, og kan sees på som pakker man henter ut, for å gjøre spesifikke kommandoer.\n",
    "\n",
    "For å kunne kjøre ```!pip install``` trenger dere å laste ned ```!pip``` på PC/Mac'en deres.\n",
    "\n",
    "Det kan dere gjøre - ved å *kjøre* de tre neste kodeblokkene under her. Det kan dere enkelt gjøre ved å trykke ```SHIFT``` + ```ENTER``` når dere har trykke på cellen!"
   ]
  },
  {
   "cell_type": "code",
   "execution_count": 1,
   "metadata": {},
   "outputs": [
    {
     "name": "stdout",
     "output_type": "stream",
     "text": [
      "  % Total    % Received % Xferd  Average Speed   Time    Time     Time  Current\n",
      "                                 Dload  Upload   Total   Spent    Left  Speed\n",
      "100 2246k  100 2246k    0     0  3406k      0 --:--:-- --:--:-- --:--:-- 3403k\n"
     ]
    }
   ],
   "source": [
    "!curl https://bootstrap.pypa.io/get-pip.py -o get-pip.py"
   ]
  },
  {
   "cell_type": "code",
   "execution_count": 2,
   "metadata": {},
   "outputs": [
    {
     "name": "stdout",
     "output_type": "stream",
     "text": [
      "Looking in links: /var/folders/7n/xtfbbk8n6g7_s7xnffjystdr0000gp/T/tmp3qnbu163\n",
      "Requirement already satisfied: pip in /opt/anaconda3/envs/myenv/lib/python3.12/site-packages (24.2)\n"
     ]
    }
   ],
   "source": [
    "!python -m ensurepip --upgrade"
   ]
  },
  {
   "cell_type": "code",
   "execution_count": 3,
   "metadata": {},
   "outputs": [
    {
     "name": "stdout",
     "output_type": "stream",
     "text": [
      "Requirement already satisfied: numpy in /opt/anaconda3/envs/myenv/lib/python3.12/site-packages (1.26.4)\n"
     ]
    }
   ],
   "source": [
    "!pip install numpy"
   ]
  },
  {
   "cell_type": "markdown",
   "metadata": {},
   "source": [
    "# Alternativ måte å laste ned pakker på\n",
    "1. Øverst i Jupyter NoteBook vil dere kunne se **Terminal** - finn **New Terminal** og trykk der.\n",
    "2. Da åpner det seg et vindu hvor det står noe som:\n",
    "```terminal\n",
    "(base) din_pc_eller_mac ~ % \n",
    "```\n",
    "Så skriver dere \n",
    "```\n",
    "(base) din_pc_eller_mac ~ % pip install numpy\n",
    "```\n",
    "men her uten \"!\", slik vi gjorde over. \n",
    "\n",
    "Dette er bare to ulike måter å laste inn pakker på. Gjør det du føler for!"
   ]
  },
  {
   "cell_type": "markdown",
   "metadata": {},
   "source": [
    "## Forelesningsnotatene - hvor er de?\n",
    "\n",
    "#### **Manuell nedlastning**\n",
    "Forelesningene vil dere finne her (Insert github-lenke til notebooks). \n",
    "De kan dere laste ned manuelt inne fra GitHub.\n",
    "\n",
    "For å gjøre dette:\n",
    "1. Gå til repositoriet hvor **.ipynb**-filene ligger,.\n",
    "2. Klipp på ønsket fil.\n",
    "3. Oppe til høyre trykk på **Download**.\n",
    "\n",
    "#### **Alternativ henting av forelesningsnotatene (NB: Valgfritt, ikke obligatorisk)**\n",
    "Dere kan også bruke et utviklerverktøy for å hente forelesningsnotatene, men dette er ikke et krav. Dere som går økonomi og administrasjon vil ikke bruke det like mye som dere på samfunnsøkonomi vil bruke ```git``` en del. Da kan dere følge denne oppskriften.\n",
    "\n",
    "### 1. Installere git\n",
    "**Windows:**\n",
    "\n",
    "1. Gå til [installasjonsiden for git](https://git-scm.com/downloads)\n",
    "2. Last ned versjonen for Windows.\n",
    "3. Installer Git og velg **insatller for alle brukere** (krever administratorrettigheter).\n",
    "\n",
    "**Mac:**\n",
    "1. Åpne **Terminal**.\n",
    "2. Skriv inn følgende kommando og trykk **Enter**:\n",
    "```\n",
    "git\n",
    "```\n",
    "\n",
    "3. Du blir spurt om du vil installere utviklerverktøy. Takk **ja**, og installer:-) \n",
    "* (*Hvis det ikke funker*: Last ned Git fra [installasjonsiden for git](https://git-scm.com/downloads) manuelt.)\n",
    "\n",
    "### 2. Hente kursmateriell fra Github\n",
    "1. Åpne **Kommandovindu (Windows) eller terminal (Mac)**.\n",
    "\n",
    "**Windows:** For å hente filene til Jupyter  åpner du kommanovinduet på nytt, men denne gangen UTEN Å HØYREKLIKKE, siden du nå skal arbeidet på ditt hjemmeområde.\n",
    "\n",
    "**Mac:** Trenger ikke gjør det Windows-brukere må gjøre her.\n",
    "2. Naviger til katalogen der du ønsker å lagre kursmateriellet.\n",
    "* For eksempel, hvis du vil lagre det på **Desktop**, skriv:\n",
    "```\n",
    "cd Desktop\n",
    "```\n",
    "Da har du *gått inn i mappa* hvor Desktop er.\n",
    "\n",
    "3. Opprett en **mappe** for kursmateriellet:\n",
    "```\n",
    "mkdir sok-1003\n",
    "```\n",
    "4. Gå inn i den **nye mappen** *sok-1003*:\n",
    "```\n",
    "cd sok-1003\n",
    "```\n",
    "5. **Last ned** kursnotatene ved å klone GitHub-repositoriet:\n",
    "```\n",
    "git clone https://github.com/uit-sok-1003-h24/notebooks/\n",
    "```\n",
    "\n",
    "Her finner dere notebooks'ene på GitHub:\n",
    "[https://github.com/uit-sok-1003-h24/notebooks/](https://github.com/uit-sok-1003-h24/notebooks/)\n",
    "\n",
    "(OBS: Steg 5 må oppdateres med nye lenker til H25 faget.)"
   ]
  },
  {
   "cell_type": "markdown",
   "metadata": {},
   "source": [
    "# Eksempelkode"
   ]
  },
  {
   "cell_type": "markdown",
   "metadata": {},
   "source": [
    "## 1. Print din første linje med kode 🖥️  \n",
    "Python bruker `print()` for å vise tekst. Prøv å skriv dette:\n",
    "\n",
    "```python\n",
    "    print(\"Hei, verden!\")\n",
    "```\n",
    "\n",
    "Dette vil skrive ut teksten:\n",
    "```python\n",
    "    Hei, verden!\n",
    "```\n",
    "Prøv selv i kodeblokken under:"
   ]
  },
  {
   "cell_type": "code",
   "execution_count": null,
   "metadata": {},
   "outputs": [],
   "source": [
    "# Prøv å print din egen setning\n"
   ]
  },
  {
   "cell_type": "markdown",
   "metadata": {},
   "source": [
    "## 2. Python som kalkulator 🐍\n",
    "\n",
    "Python kan brukes som en kalkulator! \n",
    "\n",
    "```python\n",
    "    print(2 + 3)\n",
    "```\n",
    "\n",
    "Vil skrive ut tallet:\n",
    "```python\n",
    "    5\n",
    "```\n",
    "Prøv selv i kodeblokken under:"
   ]
  },
  {
   "cell_type": "code",
   "execution_count": null,
   "metadata": {},
   "outputs": [],
   "source": [
    "# Prøv python som en kalkulator selv"
   ]
  },
  {
   "cell_type": "markdown",
   "metadata": {},
   "source": [
    "## 3. Lagre og bruke variabler 🔢\n",
    "Vi kan også be Python lagre, og huske variabler - som man kan benytte seg av senere. \n",
    "\n",
    "Prøv å skriv følgende kode:\n",
    "```python\n",
    "    x = 10\n",
    "    y = 4\n",
    "    resultat = x * y\n",
    "    print(\"Multiplikasjon av x og y gir:\", resultat)\n",
    "```\n",
    "\n",
    "Det vil da gi ut:\n",
    "```Python\n",
    "    Multiplikasjon av x og y gir: 40\n",
    "```\n"
   ]
  },
  {
   "cell_type": "code",
   "execution_count": null,
   "metadata": {},
   "outputs": [],
   "source": [
    "# Prøv å lag ditt eget eksempel selv\n"
   ]
  },
  {
   "cell_type": "markdown",
   "metadata": {},
   "source": [
    "## 4. Sjekk om et tall er partall eller oddetall 🔍\n",
    "Bruk modulus (`%`) for å sjekke om et tall er partall:\n",
    "\n",
    "```python\n",
    "    tall = 7\n",
    "\n",
    "    if tall % 2 == 0:\n",
    "        print(tall, \"er et partall.\")\n",
    "    else:\n",
    "        print(tall, \"er et oddetall.\")\n",
    "```\n",
    "Det vil da gi tilbake:\n",
    "```python\n",
    "    7 er et oddetall.\n",
    "```\n"
   ]
  },
  {
   "cell_type": "code",
   "execution_count": null,
   "metadata": {},
   "outputs": [],
   "source": [
    "# Prøv selv da vel! :D\n"
   ]
  },
  {
   "cell_type": "markdown",
   "metadata": {},
   "source": [
    "## 5. Gjenta noe flere ganger 🔄\n",
    "For-løkker kan brukes til å repetere handlinger:\n",
    "\n",
    "```python\n",
    "    for i in range(1, 5):\n",
    "        print(\"Dette er linje\", i)\n",
    "\n",
    "```\n",
    "Output:\n",
    "```python\n",
    "    Dette er linje 1  \n",
    "    Dette er linje 2  \n",
    "    Dette er linje 3  \n",
    "    Dette er linje 4  \n",
    "    Dette er linje 5\n",
    "```\n",
    "\n",
    "Her legger vi merke til at den teller fra $i=1$, $i=2$, $i=3$ og $i=4$ - men ikke $i=5$. Det er fordi for-løkker fungerer slik, at de tar *opp til, men ikke inkludert* det siste tallet i parantesen etter `range(x, x)`."
   ]
  },
  {
   "cell_type": "code",
   "execution_count": null,
   "metadata": {},
   "outputs": [],
   "source": [
    "# Prøv selv\n"
   ]
  },
  {
   "cell_type": "markdown",
   "metadata": {},
   "source": [
    "## 6. Lag en enkel funksjon ⚙️\n",
    "Funksjoner gjør koden gjenbrukbar:\n",
    "\n",
    "```python\n",
    "    def hils(navn):\n",
    "        print(\"Hei,\", navn, \"!\")\n",
    "\n",
    "    hils(\"Anna\")\n",
    "```\n",
    "Output:\n",
    "```python\n",
    "    Hei, Anna !\n",
    "```\n",
    "\n",
    "Legg merke til hvordan koden er skrevet, med *innrykk*, *tødler* og paranteser."
   ]
  },
  {
   "cell_type": "code",
   "execution_count": null,
   "metadata": {},
   "outputs": [],
   "source": [
    "# Prøv selv\n"
   ]
  },
  {
   "cell_type": "markdown",
   "metadata": {},
   "source": [
    "### Nå har vi sett noen enkle eksempler, samt fått lastet ned Python og fått Jupyter NoteBook oppe å gå! *Voila*!"
   ]
  },
  {
   "cell_type": "markdown",
   "metadata": {},
   "source": [
    "##### <span style=\"color:lightgrey\">\\<Forrige </span>   |     [Neste >](2%20-%20Python_Basics.ipynb)"
   ]
  }
 ],
 "metadata": {
  "kernelspec": {
   "display_name": "Python (myenv)",
   "language": "python",
   "name": "myenv"
  },
  "language_info": {
   "codemirror_mode": {
    "name": "ipython",
    "version": 3
   },
   "file_extension": ".py",
   "mimetype": "text/x-python",
   "name": "python",
   "nbconvert_exporter": "python",
   "pygments_lexer": "ipython3",
   "version": "3.11.7"
  }
 },
 "nbformat": 4,
 "nbformat_minor": 4
}
