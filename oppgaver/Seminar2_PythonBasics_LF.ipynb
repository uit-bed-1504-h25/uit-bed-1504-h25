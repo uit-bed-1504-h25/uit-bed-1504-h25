{
 "cells": [
  {
   "cell_type": "markdown",
   "metadata": {},
   "source": [
    "# **Seminar 2 - Python Basics**\n",
    "\n",
    "For å bygge en god grunnmur i Python, trenger vi å *Python Basics* på plass. Samtidig, vil kuntig intelligens for å hjelpe til med å skrive kode, ikke være like mye til hjelp uten basis-kunnskapene. \n",
    "Dette seminaret vil ha fokus på variabeltyper og det vi gikk igjennom i forelesning 2.\n",
    "\n",
    "Disse oppgavene er tiltenkt seminar - som trening på basiskunnskaper.. Dette er ikke arbeidskrav, men god trening til å forstå basic konsepter.\n",
    "\n",
    "Øv på å bruke Google, forelesningsnotater og pseudokode for å løse oppgaven.\n",
    "\n",
    "Disse oppgavene gir en kort introduksjon til noen helt grunnleggende Python-konsepter. Lykke til! 🚀"
   ]
  },
  {
   "cell_type": "markdown",
   "metadata": {},
   "source": [
    "## 📌 Oppgave 1: Variabeltyper og typekonvertering\n",
    "Opprett tre variabler:\n",
    "\n",
    "* `navn` (streng),\n",
    "* `alder` (heltall),\n",
    "* `høyde` (flyttall).\n",
    "\n",
    "Skriv ut verdiene og deres typer. Deretter konverter alder til en flyttall og høyde til en streng, og skriv ut de nye typene.\n",
    "Kommentarer gjør koden mer forståelig for deg selv og andre."
   ]
  },
  {
   "cell_type": "code",
   "execution_count": 1,
   "metadata": {},
   "outputs": [
    {
     "name": "stdout",
     "output_type": "stream",
     "text": [
      "Navn: Anna, type: <class 'str'>\n",
      "Alder: 25, type: <class 'int'>\n",
      "Høyde: 1.68, type: <class 'float'>\n"
     ]
    }
   ],
   "source": [
    "# Definer variabler ut i fra oppgaveteksten\n",
    "navn = \"Anna\"\n",
    "alder = 25\n",
    "høyde = 1.68\n",
    "\n",
    "# Skriv ut verdiene og typene\n",
    "print(f\"Navn: {navn}, type: {type(navn)}\")\n",
    "print(f\"Alder: {alder}, type: {type(alder)}\")\n",
    "print(f\"Høyde: {høyde}, type: {type(høyde)}\")"
   ]
  },
  {
   "cell_type": "markdown",
   "metadata": {},
   "source": [
    "## 📌 Oppgave 2: Bruk av f-strings\n",
    "Bruk en f-string til å skrive ut en setning der du kombinerer en streng (`navn`), et heltall (`alder`) og et flyttall (`høyde`).\n"
   ]
  },
  {
   "cell_type": "code",
   "execution_count": 2,
   "metadata": {},
   "outputs": [
    {
     "name": "stdout",
     "output_type": "stream",
     "text": [
      "Hei, jeg heter Lars, er 30 år gammel og 1.82 meter høy.\n"
     ]
    }
   ],
   "source": [
    "# Definer variabler\n",
    "navn = \"Lars\"\n",
    "alder = 30\n",
    "høyde = 1.82\n",
    "\n",
    "# Bruk f-string for å lage en setning\n",
    "setning = f\"Hei, jeg heter {navn}, er {alder} år gammel og {høyde} meter høy.\"\n",
    "print(setning)"
   ]
  },
  {
   "cell_type": "markdown",
   "metadata": {},
   "source": [
    "## 📌 Oppgave 3: En enkel kalkulator\n",
    "Lag to variabler, `x` og `y`, og utfør følgende operasjoner:\n",
    "\n",
    "* Summen av `x` og `y`\n",
    "* Differansen mellom `x` og `y`\n",
    "* Produktet av `x` og `y`\n",
    "* `x` delt på `y`\n",
    "\n",
    "Skriv ut resultatene på en ryddig måte."
   ]
  },
  {
   "cell_type": "code",
   "execution_count": 4,
   "metadata": {},
   "outputs": [
    {
     "name": "stdout",
     "output_type": "stream",
     "text": [
      "Summen av 12 og 4 er 16\n",
      "Differansen mellom 12 og 4 er 8\n",
      "Produktet av 12 og 4 er 48\n",
      "12 delt på 4 er 3.0\n"
     ]
    }
   ],
   "source": [
    "# Definerer variablene x og y\n",
    "x = 12\n",
    "y = 4\n",
    "\n",
    "# Utfør beregninger\n",
    "print(f\"Summen av {x} og {y} er {x + y}\")\n",
    "print(f\"Differansen mellom {x} og {y} er {x - y}\")\n",
    "print(f\"Produktet av {x} og {y} er {x * y}\")\n",
    "print(f\"{x} delt på {y} er {x / y}\")"
   ]
  },
  {
   "cell_type": "markdown",
   "metadata": {},
   "source": [
    "## 📌 Oppgave 4: Sjekk om et tall er oddetall eller partall\n",
    "Lag en variabel `tall`. Bruk en boolsk sjekk (vha `%`) for å avgjøre om `tall` er partall eller oddetall, og skriv ut et output."
   ]
  },
  {
   "cell_type": "code",
   "execution_count": 5,
   "metadata": {},
   "outputs": [
    {
     "name": "stdout",
     "output_type": "stream",
     "text": [
      "17 er et oddetall.\n"
     ]
    }
   ],
   "source": [
    "# Definer et tall - f.eks. 17 som vi vet er et oddetall\n",
    "tall = 17\n",
    "\n",
    "# Sjekk om tallet er partall eller oddetall\n",
    "if tall % 2 == 0:\n",
    "    print(f\"{tall} er et partall.\")\n",
    "else:\n",
    "    print(f\"{tall} er et oddetall.\")\n"
   ]
  },
  {
   "cell_type": "markdown",
   "metadata": {},
   "source": [
    "### Ekstra oppgave: Hvordan ville du lagd en kode som sjekka om tallet er et primtall eller ikke?"
   ]
  },
  {
   "cell_type": "markdown",
   "metadata": {},
   "source": [
    "## 📌 Oppgave 5: Konverter mellom datatyper\n",
    "Definer en variabel `x` som en streng med tall, for eksempel `\"42\"`.\n",
    "\n",
    "* Konverter `x` til et heltall (`int`) og legg til `10`.\n",
    "* Konverter `x` til et flyttall (`float`) og multipliser med `2.5`.\n",
    "\n",
    "Skriv ut resultatene og sjekk datatypene."
   ]
  },
  {
   "cell_type": "code",
   "execution_count": 6,
   "metadata": {},
   "outputs": [
    {
     "name": "stdout",
     "output_type": "stream",
     "text": [
      "42 som heltall + 10: 52, type: <class 'int'>\n",
      "42 som flyttall * 2.5: 105.0, type: <class 'float'>\n"
     ]
    }
   ],
   "source": [
    "# Definer en streng med tall\n",
    "x = \"42\"\n",
    "\n",
    "# Konverter til int og legg til 10\n",
    "x_int = int(x)\n",
    "print(f\"{x} som heltall + 10: {x_int + 10}, type: {type(x_int)}\")\n",
    "\n",
    "# Konverter til float og multipliser med 2.5\n",
    "x_float = float(x)\n",
    "print(f\"{x} som flyttall * 2.5: {x_float * 2.5}, type: {type(x_float)}\")"
   ]
  },
  {
   "cell_type": "markdown",
   "metadata": {},
   "source": [
    "## 📌 Oppgave 6: Bruk av eksponenter\n",
    "Lag en variabel `tall`, og bruk eksponentoperatoren (`**`) for å:\n",
    "\n",
    "* Heve `tall` i andre potens\n",
    "* Beregne kvadratroten av `tall`"
   ]
  },
  {
   "cell_type": "code",
   "execution_count": 7,
   "metadata": {},
   "outputs": [
    {
     "name": "stdout",
     "output_type": "stream",
     "text": [
      "9 i andre potens er 81\n",
      "Kvadratroten av 9 er 3.0\n"
     ]
    }
   ],
   "source": [
    "# Definer et tall - her velger vi 9 som eksempel\n",
    "tall = 9\n",
    "\n",
    "# Beregn potens og kvadratrot\n",
    "kvadrat = tall ** 2\n",
    "kvadratrot = tall ** 0.5\n",
    "\n",
    "# Skriv ut resultatene\n",
    "print(f\"{tall} i andre potens er {kvadrat}\")\n",
    "print(f\"Kvadratroten av {tall} er {kvadratrot}\")"
   ]
  },
  {
   "cell_type": "markdown",
   "metadata": {},
   "source": [
    "## 📌 Oppgave 7: Beregn merverdiavgift (MVA)\n",
    "Et produkt koster $800$ kr ekskl. MVA.\n",
    "MVA-satsen er $25$%.\n",
    "\n",
    "* Beregn hvor mye MVA utgjør.\n",
    "* Beregn totalprisen inkl. MVA."
   ]
  },
  {
   "cell_type": "code",
   "execution_count": 8,
   "metadata": {},
   "outputs": [
    {
     "name": "stdout",
     "output_type": "stream",
     "text": [
      "MVA utgjør: 200.0 kr\n",
      "Totalpris inkl. MVA: 1000.0 kr\n"
     ]
    }
   ],
   "source": [
    "# Definer pris og MVA-sats i henhold til oppgavebeskrivelsen\n",
    "pris_eks_mva = 800     # i norske kroner\n",
    "mva_sats = 0.25        # mva prosent\n",
    "\n",
    "# Beregn MVA og totalpris\n",
    "mva_beløp = pris_eks_mva * mva_sats\n",
    "totalpris = pris_eks_mva + mva_beløp\n",
    "\n",
    "# Skriv ut resultatene\n",
    "print(f\"MVA utgjør: {mva_beløp} kr\")\n",
    "print(f\"Totalpris inkl. MVA: {totalpris} kr\")"
   ]
  },
  {
   "cell_type": "markdown",
   "metadata": {},
   "source": [
    "## 📌 Oppgave 8: Valutakonvertering\n",
    "Du skal veksle $5000$ norske kroner (NOK) til euro (EUR).\n",
    "Kursen er $1$ EUR = $11.5$ NOK.\n",
    "\n",
    "* Hvor mange euro får du?"
   ]
  },
  {
   "cell_type": "code",
   "execution_count": 9,
   "metadata": {},
   "outputs": [
    {
     "name": "stdout",
     "output_type": "stream",
     "text": [
      "5000 NOK tilsvarer 434.78 EUR\n"
     ]
    }
   ],
   "source": [
    "# Definer beløp og valutakurs\n",
    "nok = 5000\n",
    "eur_kurs = 11.5\n",
    "\n",
    "# Konverter til euro\n",
    "eur = nok / eur_kurs\n",
    "\n",
    "# Skriv ut resultatet, og runder av svaret til å inneholde 2 desimaler\n",
    "print(f\"{nok} NOK tilsvarer {eur:.2f} EUR\")"
   ]
  },
  {
   "cell_type": "markdown",
   "metadata": {},
   "source": [
    "## 📌 Oppgave 9: Lønnsberegning med skatt\n",
    "En ansatt tjener $50\\;000$ kr per måned, men må betale $35$% i skatt.\n",
    "\n",
    "* Hvor mye sitter personen igjen med etter skatt?"
   ]
  },
  {
   "cell_type": "code",
   "execution_count": 10,
   "metadata": {},
   "outputs": [
    {
     "name": "stdout",
     "output_type": "stream",
     "text": [
      "Bruttolønn: 50000 kr\n",
      "Skatt: 17500.0 kr\n",
      "Nettolønn etter skatt: 32500.0 kr\n"
     ]
    }
   ],
   "source": [
    "# Definer lønn og skattesats i henhold til oppgaven\n",
    "brutto_lønn = 50000\n",
    "skatt_prosent = 35\n",
    "\n",
    "# Beregn skatt og nettolønn\n",
    "skatt = brutto_lønn * (skatt_prosent / 100)\n",
    "netto_lønn = brutto_lønn - skatt\n",
    "\n",
    "# Skriv ut resultatene\n",
    "print(f\"Bruttolønn: {brutto_lønn} kr\")\n",
    "print(f\"Skatt: {skatt} kr\")\n",
    "print(f\"Nettolønn etter skatt: {netto_lønn} kr\")"
   ]
  },
  {
   "cell_type": "markdown",
   "metadata": {},
   "source": [
    "## 📌 Oppgave 10: Renteinntekter på bankinnskudd\n",
    "Du setter $20\\;000$ kr i banken med en årlig rente på $3$%.\n",
    "\n",
    "* Hvor mye har du på kontoen etter $1$ år? \n",
    "\n",
    "Skriv et program som løser dette problemet."
   ]
  },
  {
   "cell_type": "code",
   "execution_count": 11,
   "metadata": {},
   "outputs": [
    {
     "name": "stdout",
     "output_type": "stream",
     "text": [
      "Saldo etter 1 år: 20600.00 kr\n"
     ]
    }
   ],
   "source": [
    "# Definer startbeløp og rente\n",
    "startbeløp = 20000\n",
    "rente_prosent = 3\n",
    "\n",
    "# Beregn saldo etter ett år\n",
    "saldo_etter_1_år = startbeløp * (1 + rente_prosent / 100)\n",
    "\n",
    "# Skriv ut resultatet\n",
    "print(f\"Saldo etter 1 år: {saldo_etter_1_år:.2f} kr\")"
   ]
  },
  {
   "cell_type": "markdown",
   "metadata": {},
   "source": [
    "## 📌 Oppgave 11: Nedbetaling av lån\n",
    "Du tar opp et lån på $300\\;000$ kr med en rente på $5$% per år.\n",
    "Du betaler $50\\;000$ kr per år.\n",
    "\n",
    "* Hvor mye gjeld har du igjen etter ett år?\n",
    "\n",
    "Skriv et program som tar inn disse verdien som variabler og løser oppgaven."
   ]
  },
  {
   "cell_type": "code",
   "execution_count": 12,
   "metadata": {},
   "outputs": [
    {
     "name": "stdout",
     "output_type": "stream",
     "text": [
      "Gjeld etter 1 år: 265000.00 kr\n"
     ]
    }
   ],
   "source": [
    "# Definer lån, rente og årlig nedbetaling\n",
    "gjeld = 300000\n",
    "rente_prosent = 5\n",
    "årlig_nedbetaling = 50000\n",
    "\n",
    "# Beregn gjeld etter ett år\n",
    "gjeld_etter_rente = gjeld * (1 + rente_prosent / 100)       # Lånet vokser med renter\n",
    "gjeld_etter_1_år = gjeld_etter_rente - årlig_nedbetaling    # Trekk fra nedbetaling\n",
    "\n",
    "# Skriv ut resultatet\n",
    "print(f\"Gjeld etter 1 år: {gjeld_etter_1_år:.2f} kr\")"
   ]
  },
  {
   "cell_type": "markdown",
   "metadata": {},
   "source": [
    "# You made it! 🚀🚀🚀"
   ]
  }
 ],
 "metadata": {
  "kernelspec": {
   "display_name": "Python (myenv)",
   "language": "python",
   "name": "myenv"
  },
  "language_info": {
   "codemirror_mode": {
    "name": "ipython",
    "version": 3
   },
   "file_extension": ".py",
   "mimetype": "text/x-python",
   "name": "python",
   "nbconvert_exporter": "python",
   "pygments_lexer": "ipython3",
   "version": "3.11.7"
  }
 },
 "nbformat": 4,
 "nbformat_minor": 2
}
