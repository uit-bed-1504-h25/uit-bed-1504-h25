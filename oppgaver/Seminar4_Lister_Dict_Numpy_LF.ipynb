{
 "cells": [
  {
   "cell_type": "markdown",
   "metadata": {},
   "source": [
    "# Seminar 4 - **Lister, oppslag og numpy** (Løsningsforslag)\n",
    "Til nå har vi sett på fundamentale prinsipper i Python, som variabler og funksjoner. I dette seminaret vil dere øve på bruk av biblioteket ```NumPy```, lister og dictionaries.\n",
    "\n",
    "Øv på å bruke Google, forelesningsnotater og pseudokode for å løse oppgaven."
   ]
  },
  {
   "cell_type": "markdown",
   "metadata": {},
   "source": [
    "## Oppgave 1: Arbeide med *lister* - **Analyse av Økonomiske Indikatorer**\n",
    "\n",
    "I denne oppgaven skal du lage en liste som inneholder de månedlige inntektene til en husholdning over et år. Du skal deretter utføre ulike analyser på listen.\n",
    "\n",
    "1. Lag en liste som inneholder inntektene for hver måned, for eksempel: [30000, 32000, 31000, 33000, 34000, 35000, 36000, 37000, 38000, 39000, 40000, 41000].\n",
    "2. Beregn den totale inntekten for året.\n",
    "3. Finn den gjennomsnittlige månedlige inntekten.\n",
    "4. Finn den høyeste og laveste inntekten."
   ]
  },
  {
   "cell_type": "code",
   "execution_count": 1,
   "metadata": {},
   "outputs": [
    {
     "name": "stdout",
     "output_type": "stream",
     "text": [
      "Total inntekt for året: 426000\n",
      "Gjennomsnittlig månedlig inntekt: 35500.0\n",
      "Høyeste inntekt: 41000\n",
      "Laveste inntekt: 30000\n"
     ]
    }
   ],
   "source": [
    "# Løsningsforslag oppgave 1\n",
    "\n",
    "# 1.1 Lag en liste med inntekter\n",
    "inntekter = [30000, 32000, 31000, 33000, 34000, 35000, 36000, 37000, 38000, 39000, 40000, 41000]\n",
    "\n",
    "# 1.2 Beregn total inntekt\n",
    "total_inntekt = sum(inntekter)\n",
    "print(\"Total inntekt for året:\", total_inntekt)\n",
    "\n",
    "# 1.3 Finn gjennomsnittlig inntekt\n",
    "gjennomsnitt_inntekt = total_inntekt / len(inntekter)\n",
    "print(\"Gjennomsnittlig månedlig inntekt:\", gjennomsnitt_inntekt)\n",
    "\n",
    "# 1.4 Finn høyeste og laveste inntekt\n",
    "hoyeste_inntekt = max(inntekter)\n",
    "laveste_inntekt = min(inntekter)\n",
    "print(\"Høyeste inntekt:\", hoyeste_inntekt)\n",
    "print(\"Laveste inntekt:\", laveste_inntekt)"
   ]
  },
  {
   "cell_type": "markdown",
   "metadata": {},
   "source": [
    "## Oppgave 2: Introduksjon til NumPy - **Statistisk Analyse av Data med NumPy**\n",
    "I denne oppgaven skal du bruke NumPy for å analysere en dataset som representerer månedlige utgifter til en husholdning.\n",
    "\n",
    "1. Importer NumPy.\n",
    "2. Lag en NumPy-array med månedlige utgifter, for eksempel: [20000, 21000, 22000, 23000, 24000, 25000, 26000, 27000, 28000, 29000, 30000, 31000].\n",
    "3. Beregn den totale utgiften.\n",
    "4. Finn gjennomsnittlige månedlige utgifter.\n",
    "5. Finn medianen av utgiftene."
   ]
  },
  {
   "cell_type": "code",
   "execution_count": 2,
   "metadata": {},
   "outputs": [
    {
     "name": "stdout",
     "output_type": "stream",
     "text": [
      "Total utgift for året: 306000\n",
      "Gjennomsnittlige månedlige utgifter: 25500.0\n",
      "Median av utgiftene: 25500.0\n"
     ]
    }
   ],
   "source": [
    "# 2.1\n",
    "import numpy as np\n",
    "\n",
    "# 2.2 Lag en NumPy-array med utgifter\n",
    "utgifter = np.array([20000, 21000, 22000, 23000, 24000, 25000, 26000, 27000, 28000, 29000, 30000, 31000])\n",
    "\n",
    "# 2.3 Beregn total utgift\n",
    "total_utgift = np.sum(utgifter)\n",
    "print(\"Total utgift for året:\", total_utgift)\n",
    "\n",
    "# 2.4 Finn gjennomsnittlige månedlige utgifter\n",
    "gjennomsnitt_utgift = np.mean(utgifter)\n",
    "print(\"Gjennomsnittlige månedlige utgifter:\", gjennomsnitt_utgift)\n",
    "\n",
    "# 2.5 Finn medianen av utgiftene\n",
    "median_utgift = np.median(utgifter)\n",
    "print(\"Median av utgiftene:\", median_utgift)"
   ]
  },
  {
   "cell_type": "markdown",
   "metadata": {},
   "source": [
    "## Oppgave 3: Bruke Dictionaries - **Økonomiske Data som Dictionaries**\n",
    "I denne oppgaven skal du bruke dictionaries for å lagre og analysere data om inntekter og utgifter for forskjellige husholdninger.\n",
    "\n",
    "1. Lag en dictionary som inneholder inntektene og utgiftene til tre husholdninger. For eksempel:\n",
    "```python\n",
    "        husholdninger = {\n",
    "            'Husholdning A': {'inntekt': 40000, 'utgift': 25000},\n",
    "            'Husholdning B': {'inntekt': 50000, 'utgift': 30000},\n",
    "            'Husholdning C': {'inntekt': 45000, 'utgift': 27000}\n",
    "        }\n",
    "\n",
    "```\n",
    "2. Beregn og skriv ut nettoinntekten (inntekt - utgift) for hver husholdning.\n",
    "3. Finn hvilken husholdning som har høyest nettoinntekt."
   ]
  },
  {
   "cell_type": "code",
   "execution_count": 4,
   "metadata": {},
   "outputs": [
    {
     "name": "stdout",
     "output_type": "stream",
     "text": [
      "Nettoinntekt til Husholdning A er 15000\n",
      "Husholdning med høyest nettoinntekt: Husholdning B\n"
     ]
    }
   ],
   "source": [
    "# 1. Lag en dictionary med husholdninger\n",
    "husholdninger = {\n",
    "    'Husholdning A': {'inntekt': 40000, 'utgift': 25000},\n",
    "    'Husholdning B': {'inntekt': 50000, 'utgift': 30000},\n",
    "    'Husholdning C': {'inntekt': 45000, 'utgift': 27000}\n",
    "}\n",
    "\n",
    "# 2. Beregn nettoinntekten for hver husholdning\n",
    "print(f'Nettoinntekt til Husholdning A er {husholdninger['Husholdning A']['inntekt'] - husholdninger['Husholdning A']['utgift']}')\n",
    "\n",
    "# 3. Finn husholdningen med høyest nettoinntekt\n",
    "hoyest_nettovinn = max(husholdninger.items(), key=lambda x: x[1]['inntekt'] - x[1]['utgift'])\n",
    "print(\"Husholdning med høyest nettoinntekt:\", hoyest_nettovinn[0])\n"
   ]
  },
  {
   "cell_type": "markdown",
   "metadata": {},
   "source": [
    "## Oppgave 4: Bruke **Dictionaries og Funksjoner**\n",
    "Kombiner det du lærte om funksjoner, tidligere i kurset, for å løse oppgave 3.2 og 3.3 ved hjelp av *én funksjon*.\n"
   ]
  },
  {
   "cell_type": "code",
   "execution_count": 5,
   "metadata": {},
   "outputs": [
    {
     "name": "stdout",
     "output_type": "stream",
     "text": [
      "Nettoinntekt til Husholdning A er 15000 kr\n",
      "Nettoinntekt til Husholdning B er 20000 kr\n",
      "Nettoinntekt til Husholdning C er 18000 kr\n",
      "Husholdningen med høyest nettoinntekt er Husholdning B med 20000 kr\n"
     ]
    }
   ],
   "source": [
    "# Definer en funksjon for å beregne nettoinntekt og finne høyeste nettoinntekt\n",
    "def analyser_husholdninger(husholdninger):\n",
    "    nettoinntekter = {}\n",
    "\n",
    "    for navn, data in husholdninger.items():\n",
    "        nettoinntekt = data['inntekt'] - data['utgift']\n",
    "        nettoinntekter[navn] = nettoinntekt\n",
    "        print(f'Nettoinntekt til {navn} er {nettoinntekt} kr')\n",
    "\n",
    "    husholdning_med_hoyest_nettovinn = max(nettoinntekter, key=nettoinntekter.get)\n",
    "    print(f'Husholdningen med høyest nettoinntekt er {husholdning_med_hoyest_nettovinn} med {nettoinntekter[husholdning_med_hoyest_nettovinn]} kr')\n",
    "\n",
    "# 3. Kjør funksjonen\n",
    "analyser_husholdninger(husholdninger)    "
   ]
  }
 ],
 "metadata": {
  "kernelspec": {
   "display_name": "myenv",
   "language": "python",
   "name": "python3"
  },
  "language_info": {
   "codemirror_mode": {
    "name": "ipython",
    "version": 3
   },
   "file_extension": ".py",
   "mimetype": "text/x-python",
   "name": "python",
   "nbconvert_exporter": "python",
   "pygments_lexer": "ipython3",
   "version": "3.12.2"
  }
 },
 "nbformat": 4,
 "nbformat_minor": 2
}
