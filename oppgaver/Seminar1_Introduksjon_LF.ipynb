{
 "cells": [
  {
   "cell_type": "markdown",
   "metadata": {},
   "source": [
    "# **Seminar 1 - Introduksjon**\n",
    "\n",
    "For å bygge en god grunnmur i Python, trenger vi å kunne det som er helt, helt basic. Heldigvis er Python et svært fleksibelt, og dokumentert programmeringsspråk - som gjør at vi kan gjøre ganske mye av det vi måtte ønske.\n",
    "\n",
    "Disse oppgavene er tiltenkt seminar - som trening på bruk av Python. Dette er ikke arbeidskrav, men god trening til å forstå basic konsepter.\n",
    "\n",
    "Øv på å bruke Google, forelesningsnotater og pseudokode for å løse oppgaven.\n",
    "\n",
    "Disse oppgavene gir en kort introduksjon til noen helt grunnleggende Python-konsepter. Lykke til! 🚀"
   ]
  },
  {
   "cell_type": "markdown",
   "metadata": {},
   "source": [
    "## 1. Kommentere kode\n",
    "Kommentarer gjør koden mer forståelig for deg selv og andre.\n",
    "\n",
    "```python\n",
    "# Dette er en kommentar\n",
    "print(\"Hei, verden!\")  # Dette skriver ut en tekst\n",
    "```\n",
    "### **Oppgave:** \n",
    "\n",
    "Legg til kommentarer i et enkelt program som ber brukeren om et navn og skriver det ut."
   ]
  },
  {
   "cell_type": "code",
   "execution_count": 1,
   "metadata": {},
   "outputs": [
    {
     "name": "stdout",
     "output_type": "stream",
     "text": [
      "25\n"
     ]
    }
   ],
   "source": [
    "# x er antall år\n",
    "x = 25\n",
    "\n",
    "# Printer ut verdien til x\n",
    "print(x)"
   ]
  },
  {
   "cell_type": "markdown",
   "metadata": {},
   "source": [
    "## 2. Skrive ut tekst\n",
    "Bruk `print()` for å vise tekst i terminalen.\n",
    "\n",
    "```python\n",
    "print(\"Velkommen til Python-seminaret!\")\n",
    "```\n",
    "### **Oppgave:**\n",
    "\n",
    "Skriv et program som skriver ut tre forskjellige linjer med tekst."
   ]
  },
  {
   "cell_type": "code",
   "execution_count": 2,
   "metadata": {},
   "outputs": [
    {
     "name": "stdout",
     "output_type": "stream",
     "text": [
      "Jeg studerer for første gang! :-)\n"
     ]
    }
   ],
   "source": [
    "# Nå lager jeg en setning\n",
    "print(\"Jeg studerer for første gang! :-)\")"
   ]
  },
  {
   "cell_type": "markdown",
   "metadata": {},
   "source": [
    "## 3. Bruke input\n",
    "Bruk `input()` for å ta imot brukerinput.\n",
    "\n",
    "```python\n",
    "navn = input(\"Hva heter du? \")\n",
    "print(\"Hyggelig å møte deg,\", navn, \"!\")\n",
    "```\n",
    "\n",
    "### **Oppgave:**\n",
    "Be brukeren om å skrive inn alderen sin og skriv ut en melding basert på det."
   ]
  },
  {
   "cell_type": "code",
   "execution_count": 5,
   "metadata": {},
   "outputs": [
    {
     "name": "stdout",
     "output_type": "stream",
     "text": [
      "Jeg er 45\n"
     ]
    }
   ],
   "source": [
    "# Nå tar vi i bruk input\n",
    "\n",
    "alder_meg = input(\"Hvor gammel er jeg?\")\n",
    "\n",
    "print(\"Jeg er\", alder_meg)"
   ]
  },
  {
   "cell_type": "markdown",
   "metadata": {},
   "source": [
    "## 4. Enkle beregninger\n",
    "Python kan brukes som en kalkulator.\n",
    "\n",
    "```python\n",
    "print(2 + 3)\n",
    "print(10 - 5)\n",
    "print(4 * 2)\n",
    "print(8 / 2)\n",
    "```\n",
    "\n",
    "### **Oppgave:**\n",
    "Lag et program som ber brukeren om to tall og skriver ut summen."
   ]
  },
  {
   "cell_type": "code",
   "execution_count": 6,
   "metadata": {},
   "outputs": [
    {
     "name": "stdout",
     "output_type": "stream",
     "text": [
      "Summen er 2325\n"
     ]
    }
   ],
   "source": [
    "tall1 = input(\"Gi meg et tall.\")\n",
    "tall2 = input(\"Gi meg et annet tall.\")\n",
    "\n",
    "print(\"Summen er\", tall1+tall2)"
   ]
  },
  {
   "cell_type": "markdown",
   "metadata": {},
   "source": [
    "Oida, her ser du noe rart... Her blir tall2 bare lagt til slutten av tall1. De blir ikke summert... det er fordi tall1 og tall2 blir behandlet som tekst. Ønsker vi at det skal være tall må vi skrive:"
   ]
  },
  {
   "cell_type": "code",
   "execution_count": 7,
   "metadata": {},
   "outputs": [
    {
     "name": "stdout",
     "output_type": "stream",
     "text": [
      "Summen er 48\n"
     ]
    }
   ],
   "source": [
    "tall1 = int(input(\"Gi meg et tall.\"))       # Gjør om input til heltall\n",
    "tall2 = int(input(\"Gi meg et annet tall.\")) # Gjør om input til heltall\n",
    "\n",
    "print(\"Summen er\", tall1+tall2)"
   ]
  },
  {
   "cell_type": "markdown",
   "metadata": {},
   "source": [
    "## 5. Introduksjon til variabler\n",
    "Variabler lagrer verdier vi kan bruke senere.\n",
    "\n",
    "```python\n",
    "alder = 25\n",
    "print(\"Jeg er\", alder, \"år gammel.\")\n",
    "```\n",
    "\n",
    "### **Oppgave:**\n",
    "Lag et program som lagrer favorittfargen din i en variabel og skriver den ut."
   ]
  },
  {
   "cell_type": "code",
   "execution_count": 8,
   "metadata": {},
   "outputs": [
    {
     "name": "stdout",
     "output_type": "stream",
     "text": [
      "Min favorittfarge er blå !\n"
     ]
    }
   ],
   "source": [
    "fav_color = \"blå\" # Din favorittfarge\n",
    "print(\"Min favorittfarge er\", fav_color, \"!\")"
   ]
  },
  {
   "cell_type": "markdown",
   "metadata": {},
   "source": [
    "## 6. Flere forskjellige variabler\n",
    "\n",
    "### **Oppgave:**\n",
    "Lag et program som tar inn to ulike tall som variabler, og gir ut tekst som sier hva summen og differansen av dem er. "
   ]
  },
  {
   "cell_type": "code",
   "execution_count": 9,
   "metadata": {},
   "outputs": [
    {
     "name": "stdout",
     "output_type": "stream",
     "text": [
      "Summen av 34.5 og 34.0 er: 68.5\n",
      "Differansen mellom 34.5 og 34.0 er: 0.5\n"
     ]
    }
   ],
   "source": [
    "# Be brukeren om å skrive inn to tall\n",
    "tall1 = float(input(\"Skriv inn det første tallet: \"))  # Konverterer input til desimaltall\n",
    "tall2 = float(input(\"Skriv inn det andre tallet: \"))   # Konverterer input til desimaltall\n",
    "\n",
    "# Beregner summen og differansen\n",
    "summe = tall1 + tall2\n",
    "differanse = tall1 - tall2\n",
    "\n",
    "# Skriver ut resultatene\n",
    "print(\"Summen av\", tall1, \"og\", tall2, \"er:\", summe)\n",
    "print(\"Differansen mellom\", tall1, \"og\", tall2, \"er:\", differanse)"
   ]
  }
 ],
 "metadata": {
  "kernelspec": {
   "display_name": "Python (myenv)",
   "language": "python",
   "name": "myenv"
  },
  "language_info": {
   "codemirror_mode": {
    "name": "ipython",
    "version": 3
   },
   "file_extension": ".py",
   "mimetype": "text/x-python",
   "name": "python",
   "nbconvert_exporter": "python",
   "pygments_lexer": "ipython3",
   "version": "3.11.7"
  }
 },
 "nbformat": 4,
 "nbformat_minor": 2
}
