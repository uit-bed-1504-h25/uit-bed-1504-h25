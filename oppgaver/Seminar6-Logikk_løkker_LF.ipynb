{
 "cells": [
  {
   "cell_type": "markdown",
   "metadata": {},
   "source": [
    "# Seminar 6 - **Logikk og løkker (løsningsforslag)**\n",
    "Til nå har vi sett på fundamentale prinsipper i Python, som variabler, funksjoner, lister, dictionaries og NumPy. I dette seminaret vil dere øve på bruk av logikk, ulike løkker og hvordan vi kan bruke dette i ulike problemstillinger.\n",
    "\n",
    "Øv på å bruke Google, forelesningsnotater og pseudokode for å løse oppgaven."
   ]
  },
  {
   "cell_type": "markdown",
   "metadata": {},
   "source": [
    "## 📌 Oppgave 1: Rabatt på Kjøp\n",
    "En butikk gir 10% rabatt hvis kunden handler for mer enn 1000 kr.\n",
    "\n",
    "Skriv en kode som tar inn en totalpris og sjekker om kunden får rabatt eller ikke."
   ]
  },
  {
   "cell_type": "code",
   "execution_count": 2,
   "metadata": {},
   "outputs": [
    {
     "name": "stdout",
     "output_type": "stream",
     "text": [
      "Du får 10% rabatt! Ny pris: 1350.00 kr\n"
     ]
    }
   ],
   "source": [
    "# Brukerens kjøpsbeløp\n",
    "totalpris = 1500\n",
    "\n",
    "# Sjekk om rabatt gjelder\n",
    "if totalpris > 1000:\n",
    "    ny_pris = totalpris * 0.9  # 10% rabatt\n",
    "    print(f\"Du får 10% rabatt! Ny pris: {ny_pris:.2f} kr\")\n",
    "else:\n",
    "    print(f\"Ingen rabatt gitt. Totalpris: {totalpris:.2f} kr\")\n"
   ]
  },
  {
   "cell_type": "markdown",
   "metadata": {},
   "source": [
    "## 📌 Oppgave 2: Lånesøknadsgodkjenning\n",
    "En bank godkjenner lån dersom kunden tjener minst $500,000$ kr i året og ikke har betalingsanmerkninger.\n",
    "\n",
    "Lag en `if`/`else` setning, som tar inn `inntekt` og `betalingsanmerkning` (\"ja\" eller \"nei\")."
   ]
  },
  {
   "cell_type": "code",
   "execution_count": 4,
   "metadata": {},
   "outputs": [
    {
     "name": "stdout",
     "output_type": "stream",
     "text": [
      "Lån innvilget!\n"
     ]
    }
   ],
   "source": [
    "# Kundeinformasjon\n",
    "inntekt = 510000                # Eksempel-lønn\n",
    "betalingsanmerkning = \"nei\"     # \"nei\" eller \"ja\"\n",
    "\n",
    "# Sjekk lånekriterier\n",
    "if inntekt >= 500000 and betalingsanmerkning == \"nei\":\n",
    "    print(\"Lån innvilget!\")\n",
    "else:\n",
    "    print(\"Beklager, du oppfyller ikke kravene for lån.\")\n"
   ]
  },
  {
   "cell_type": "markdown",
   "metadata": {},
   "source": [
    "## 📌 Oppgave 3: Beregn Totalt Sparebeløp\n",
    "En person setter inn $1000$ kr på en sparekonto hver måned. Banken gir $2$% årlig rente, men renten legges ikke til før på slutten av året.\n",
    "\n",
    "Skriv en `for`-løkke som simulerer 5 år med sparing og beregner hvor mye penger personen har etter denne perioden."
   ]
  },
  {
   "cell_type": "code",
   "execution_count": 1,
   "metadata": {},
   "outputs": [
    {
     "name": "stdout",
     "output_type": "stream",
     "text": [
      "Etter 1 år: 12240.00 kr\n",
      "Etter 2 år: 24724.80 kr\n",
      "Etter 3 år: 37459.30 kr\n",
      "Etter 4 år: 50448.48 kr\n",
      "Etter 5 år: 63697.45 kr\n"
     ]
    }
   ],
   "source": [
    "# Startverdier\n",
    "månedlig_sparing = 1000\n",
    "rente = 0.02  # 2% årlig rente\n",
    "år = 5        # 5 år med sparing\n",
    "saldo = 0     # Starter med 0 kronasjer\n",
    "\n",
    "# Løkke for å beregne saldo over flere år\n",
    "for i in range(1, år + 1):\n",
    "    saldo += månedlig_sparing * 12          # Legg til sparing for året\n",
    "    saldo *= (1 + rente)                    # Legg til årlig rente, på slutten av året.\n",
    "    print(f\"Etter {i} år: {saldo:.2f} kr\")  # Print resultatet, med avrundede verdier"
   ]
  },
  {
   "cell_type": "markdown",
   "metadata": {},
   "source": [
    "## 📌 Oppgave 4: Skatteberegning med If/Else\n",
    "En person må betale skatt basert på følgende inntektsnivå:\n",
    "\n",
    "* Under **200,000 kr**: **0% skatt**\n",
    "* Mellom **200,000 kr** - **500,000 kr**: **20% skatt**\n",
    "* Over **500,000 kr**: **35% skatt**\n",
    "\n",
    "Lag en `if`/`elif`/`else` setning, som tar inn `inntekt`, og beregner hvor mye man må betale i skatt."
   ]
  },
  {
   "cell_type": "code",
   "execution_count": 8,
   "metadata": {},
   "outputs": [
    {
     "name": "stdout",
     "output_type": "stream",
     "text": [
      "Du må betale 210000.00 kr i skatt.\n"
     ]
    }
   ],
   "source": [
    "# Brukerinput\n",
    "inntekt = 600000\n",
    "\n",
    "# Beregn skatt basert på inntekten\n",
    "if inntekt < 200000:\n",
    "    skatt = 0\n",
    "elif inntekt <= 500000:\n",
    "    skatt = inntekt * 0.20\n",
    "else:\n",
    "    skatt = inntekt * 0.35\n",
    "\n",
    "print(f\"Du må betale {skatt:.2f} kr i skatt.\")"
   ]
  },
  {
   "cell_type": "markdown",
   "metadata": {},
   "source": [
    "## 📌 Oppgave 5: Lån med For-løkke\n",
    "En person tar opp et lån på $10,000$ kr med en årlig rente på $5$%.\n",
    "\n",
    "Skriv en for-løkke som viser hvor mye lånet vokser hvert år i 5 år."
   ]
  },
  {
   "cell_type": "code",
   "execution_count": 9,
   "metadata": {},
   "outputs": [
    {
     "name": "stdout",
     "output_type": "stream",
     "text": [
      "År 1: 10500.00 kr\n",
      "År 2: 11025.00 kr\n",
      "År 3: 11576.25 kr\n",
      "År 4: 12155.06 kr\n",
      "År 5: 12762.82 kr\n"
     ]
    }
   ],
   "source": [
    "# Startverdi\n",
    "lån = 10000\n",
    "rente = 0.05\n",
    "\n",
    "# Løkke for å beregne lån over 5 år\n",
    "for år in range(1, 6):\n",
    "    lån *= (1 + rente)\n",
    "    print(f\"År {år}: {lån:.2f} kr\")"
   ]
  },
  {
   "cell_type": "markdown",
   "metadata": {},
   "source": [
    "## 📌 Oppgave 6: Sparing med While-løkke\n",
    "En person starter med $0$ kr på en sparekonto og setter inn $900$ kr per måned.\n",
    "\n",
    "Skriv en while-løkke som beregner hvor mange måneder det tar å spare opp $50,000$ kr."
   ]
  },
  {
   "cell_type": "code",
   "execution_count": 12,
   "metadata": {},
   "outputs": [
    {
     "name": "stdout",
     "output_type": "stream",
     "text": [
      "Etter 56 måneder har du spart opp 50400 kr!\n"
     ]
    }
   ],
   "source": [
    "# Startverdi\n",
    "saldo = 0\n",
    "månedlig_sparing = 900\n",
    "mål = 50000\n",
    "måneder = 0\n",
    "\n",
    "# While-løkke for å beregne sparing\n",
    "while saldo < mål:\n",
    "    saldo += månedlig_sparing\n",
    "    måneder += 1\n",
    "\n",
    "print(f\"Etter {måneder} måneder har du spart opp {saldo} kr!\")"
   ]
  },
  {
   "cell_type": "markdown",
   "metadata": {},
   "source": [
    "## 📌 Oppgave 7: Budsjettkontroll med For-løkke og If\n",
    "En person har ført utgifter de siste månedene, og ser slik ut:\n",
    "```utgifter = [12000, 8500, 10000, 13000, 7500, 11000]```\n",
    "\n",
    "Skriv en `for`-løkke som sjekker hvor mange måneder personen brukte mer enn $10,000$ kr.\n",
    "\n",
    "Hint: Her vil du fort få bruk for både `for`-løkke og en `if` betingelse."
   ]
  },
  {
   "cell_type": "code",
   "execution_count": 13,
   "metadata": {},
   "outputs": [
    {
     "name": "stdout",
     "output_type": "stream",
     "text": [
      "Antall måneder over budsjettet: 3\n"
     ]
    }
   ],
   "source": [
    "# Liste med utgifter\n",
    "utgifter = [12000, 8500, 10000, 13000, 7500, 11000]\n",
    "grense = 10000\n",
    "over_budsjett = 0\n",
    "\n",
    "# Løkke for å telle måneder over budsjett\n",
    "for utgift in utgifter:\n",
    "    if utgift > grense:\n",
    "        over_budsjett += 1\n",
    "\n",
    "print(f\"Antall måneder over budsjettet: {over_budsjett}\")"
   ]
  },
  {
   "cell_type": "markdown",
   "metadata": {},
   "source": [
    "## 📌 Oppgave 8: Sparing og Økonomiske Beslutninger\n",
    "En person ønsker å spare opp $100,000$ kr til egenkapital mot boligkjøp. Hver måned setter de inn et fast beløp på kontoen sin.\n",
    "Du skal lage et program som:\n",
    "\n",
    "* Ber brukeren skrive inn hvor mye de vil spare per måned.\n",
    "* Bruker en while-løkke for å beregne hvor mange måneder det tar å nå $100,000$ kr.\n",
    "* Bruker en for-løkke for å skrive ut saldoen for hver måned.\n",
    "* Bruker if/elif/else for å gi forskjellige meldinger underveis basert på saldoen.\n",
    "* Legger alt i en funksjon, slik at vi kan kalle `sparing()` for å kjøre programmet."
   ]
  },
  {
   "cell_type": "code",
   "execution_count": 16,
   "metadata": {},
   "outputs": [
    {
     "name": "stdout",
     "output_type": "stream",
     "text": [
      "Måned 1: Sparte 2700.0 kr, saldo: 2700.00 kr\n",
      "Måned 2: Sparte 2700.0 kr, saldo: 5400.00 kr\n",
      "Måned 3: Sparte 2700.0 kr, saldo: 8100.00 kr\n",
      "Måned 4: Sparte 2700.0 kr, saldo: 10800.00 kr\n",
      "Måned 5: Sparte 2700.0 kr, saldo: 13500.00 kr\n",
      "Måned 6: Sparte 2700.0 kr, saldo: 16200.00 kr\n",
      "Måned 7: Sparte 2700.0 kr, saldo: 18900.00 kr\n",
      "Måned 8: Sparte 2700.0 kr, saldo: 21600.00 kr\n",
      "Måned 9: Sparte 2700.0 kr, saldo: 24300.00 kr\n",
      "Måned 10: Du har spart 27000.00 kr! God start!\n",
      "Måned 11: Du har spart 29700.00 kr! God start!\n",
      "Måned 12: Du har spart 32400.00 kr! God start!\n",
      "Måned 13: Du har spart 35100.00 kr! God start!\n",
      "Måned 14: Du har spart 37800.00 kr! God start!\n",
      "Måned 15: Du har spart 40500.00 kr! God start!\n",
      "Måned 16: Du har spart 43200.00 kr! God start!\n",
      "Måned 17: Du har spart 45900.00 kr! God start!\n",
      "Måned 18: Du har spart 48600.00 kr! God start!\n",
      "Måned 19: Du har spart 51300.00 kr! Halvveis der!\n",
      "Måned 20: Du har spart 54000.00 kr! Halvveis der!\n",
      "Måned 21: Du har spart 56700.00 kr! Halvveis der!\n",
      "Måned 22: Du har spart 59400.00 kr! Halvveis der!\n",
      "Måned 23: Du har spart 62100.00 kr! Halvveis der!\n",
      "Måned 24: Du har spart 64800.00 kr! Halvveis der!\n",
      "Måned 25: Du har spart 67500.00 kr! Halvveis der!\n",
      "Måned 26: Du har spart 70200.00 kr! Halvveis der!\n",
      "Måned 27: Du har spart 72900.00 kr! Halvveis der!\n",
      "Måned 28: Du har spart 75600.00 kr! Halvveis der!\n",
      "Måned 29: Du har spart 78300.00 kr! Halvveis der!\n",
      "Måned 30: Du har spart 81000.00 kr! Halvveis der!\n",
      "Måned 31: Du har spart 83700.00 kr! Halvveis der!\n",
      "Måned 32: Du har spart 86400.00 kr! Halvveis der!\n",
      "Måned 33: Du har spart 89100.00 kr! Halvveis der!\n",
      "Måned 34: Du har spart 91800.00 kr! Halvveis der!\n",
      "Måned 35: Du har spart 94500.00 kr! Halvveis der!\n",
      "Måned 36: Du har spart 97200.00 kr! Halvveis der!\n",
      "Måned 37: Du har spart 99900.00 kr! Halvveis der!\n",
      "Måned 38: Du har spart 102600.00 kr! Målet er nådd!\n",
      "Gratulerer! Du har nådd sparemålet på 100000 kr etter 38 måneder!\n"
     ]
    }
   ],
   "source": [
    "def sparing():\n",
    "    # Sparemål og startverdi\n",
    "    sparemål = 100000       # Sparemål fra oppgavetekst\n",
    "    saldo = 0               # må initieres med \"0\"\n",
    "    måneder = 0             # må initieres med \"0\"\n",
    "\n",
    "    # Brukerinput: månedlig sparing - input vil komme opp øverst på skjermen\n",
    "    månedlig_sparing = float(input(\"Hvor mye vil du spare per måned? \"))\n",
    "\n",
    "    # While-løkke for å beregne sparing hvor mye penger spart\n",
    "    while saldo < sparemål:\n",
    "        måneder += 1\n",
    "        saldo += månedlig_sparing\n",
    "\n",
    "        # If/elif/else for statusmeldinger underveis i spareprosessen :)\n",
    "        if saldo >= 100000:\n",
    "            print(f\"Måned {måneder}: Du har spart {saldo:.2f} kr! Målet er nådd!\")\n",
    "        elif saldo >= 50000:\n",
    "            print(f\"Måned {måneder}: Du har spart {saldo:.2f} kr! Halvveis der!\")\n",
    "        elif saldo >= 25000:\n",
    "            print(f\"Måned {måneder}: Du har spart {saldo:.2f} kr! God start!\")\n",
    "        else:\n",
    "            print(f\"Måned {måneder}: Sparte {månedlig_sparing} kr, saldo: {saldo:.2f} kr\")\n",
    "\n",
    "    print(f\"Gratulerer! Du har nådd sparemålet på {sparemål} kr etter {måneder} måneder!\")\n",
    "\n",
    "# Kjør funksjonenen vi har lagd\n",
    "sparing()"
   ]
  },
  {
   "cell_type": "code",
   "execution_count": null,
   "metadata": {},
   "outputs": [],
   "source": []
  }
 ],
 "metadata": {
  "kernelspec": {
   "display_name": "myenv",
   "language": "python",
   "name": "python3"
  },
  "language_info": {
   "codemirror_mode": {
    "name": "ipython",
    "version": 3
   },
   "file_extension": ".py",
   "mimetype": "text/x-python",
   "name": "python",
   "nbconvert_exporter": "python",
   "pygments_lexer": "ipython3",
   "version": "3.12.2"
  }
 },
 "nbformat": 4,
 "nbformat_minor": 2
}
