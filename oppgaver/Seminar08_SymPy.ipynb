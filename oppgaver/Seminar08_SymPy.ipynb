{
 "cells": [
  {
   "cell_type": "markdown",
   "metadata": {},
   "source": [
    "# Seminar 8 -  📐 🧮 **SymPy** 📏 🔢\n",
    "\n",
    "## Introduksjon  \n",
    "Til nå har vi jobbet med fundamentale prinsipper i Python, inkludert:  \n",
    "- **Variabler og funksjoner**  \n",
    "- **Lister og datastrukturer**  \n",
    "- **NumPy** (numeriske beregninger)  \n",
    "- **Pandas** (databehandling)  \n",
    "- **Matplotlib & Seaborn** (visualisering)  \n",
    "\n",
    "Visualisering er viktig for egen forståelse og for å kunne kommunisere funn til andre. Som samfunnsøkonomer og økonomer jobber vi ofte i tverrfaglige team hvor matematiske funksjoner spiller en sentral rolle. Derfor må vi kunne forenkle uttrykk, derivere funksjoner for å finne optimum, og trekke innsikt fra matematiske modeller. Derfor kan ofte SymPy være en god pakke å bruke sammen med visualiseringer fra SeaBorn eller Matplotlib.\n",
    "\n",
    "## Hvorfor *SymPy*?  \n",
    "[*SymPy*](https://www.sympy.org/en/index.html) er et kraftig Python-bibliotek for symbolsk matematikk. Det gjør det mulig å:  \n",
    "- Forenkle matematiske uttrykk  \n",
    "- Utføre derivasjon og integrasjon  \n",
    "- Løse ligninger  \n",
    "- Og mye, mye mer\n",
    "\n",
    "Å ha kjennskap til *SymPy* kan være svært nyttig for økonomer som arbeider med modellering og analyse.  \n",
    "\n",
    "## Seminaroppgaver  \n",
    "Disse oppgavene er laget for å gi deg trening i å jobbe med funksjoner og trekke innsikt av disse, ved hjelp av verktøy som SymPy. **Dette er ikke arbeidskrav**, men en svært god forberedelse til eksamen.  \n",
    "\n",
    "Bruk **Google, forelesningsnotater og pseudokode** aktivt for å løse oppgavene.  \n",
    "\n",
    "🚀 *Lykke til!*\n"
   ]
  },
  {
   "cell_type": "markdown",
   "metadata": {},
   "source": [
    "# ✏️ Oppgave 1 - Tilbud og etterspørsel\n",
    "La oss se på et marked der etterspørselen ($D$) og tilbudet ($S$) for et produkt er gitt ved følgende funksjoner:\n",
    "\n",
    "* **Etterspørsel:** $D(p) = 100 - 2p$\n",
    "* **Tilbud:** $S(p) = 3p - 20$\n",
    "\n",
    "Der $p$ er prisen på produktet i kroner, og $D(p)$ og $S(p)$ representerer henholdsvis mengden som etterspørres og tilbys ved prisen $p$.\n",
    "\n",
    "**Finn likeveksprisen $p$, der tilbudet er lik etterspørselen**"
   ]
  },
  {
   "cell_type": "code",
   "execution_count": null,
   "metadata": {},
   "outputs": [],
   "source": []
  },
  {
   "cell_type": "markdown",
   "metadata": {},
   "source": [
    "# ✏️ Oppgave 2 - Visualisering av likevekt\n",
    "I oppgave 1 fant du likevektsprisen $p$ der tilbud og etterspørselen er like. Nå skal du lage en graf som viser:\n",
    "\n",
    "1. Tilbudskurven $S(p)$\n",
    "2. Etterspørselskurven $D(p)$\n",
    "3. Likevektsprisen $p$, og hva den korresponderende mengden som etterspørres/tilbys ved prisen $p$.\n",
    "\n",
    "**Hint:** Her kan du få bruk for både NumPy og Matplotlib."
   ]
  },
  {
   "cell_type": "code",
   "execution_count": null,
   "metadata": {},
   "outputs": [],
   "source": []
  },
  {
   "cell_type": "markdown",
   "metadata": {},
   "source": [
    "# ✏️ Oppgave 3 - Jobbe med matematiske uttrykk.\n",
    "I SymPy må vi initialisere symboler, det gjør vi f.eks. slik\n",
    "```python\n",
    "x, y, z = symbols('x y z')\n",
    "```\n",
    "\n",
    "## Oppgave 3a - ekspandere uttrykk.\n",
    "SymPy har en funksjon som kalles `expand(ditt_uttrykk)`. Bruk denne til å utvide uttrykket $(x+y)^2$ til $x^2 + 2xy + y^2$ (første kvadratsetning).\n",
    "\n",
    "Kjør dette først:\n",
    "```python\n",
    "from sympy import symbols, expand, factor\n",
    "```"
   ]
  },
  {
   "cell_type": "markdown",
   "metadata": {},
   "source": [
    "Vips - da var det gjort!"
   ]
  },
  {
   "cell_type": "code",
   "execution_count": null,
   "metadata": {},
   "outputs": [],
   "source": []
  },
  {
   "cell_type": "markdown",
   "metadata": {},
   "source": [
    "## Oppgave 3b - faktorisere uttrykk\n",
    "Nå har du akkurat lagd et uttrykk, som er det utvidede *versjonen* av $(x+y)^2$. Faktoriser dette, og se at du får det du begynte med."
   ]
  },
  {
   "cell_type": "code",
   "execution_count": null,
   "metadata": {},
   "outputs": [],
   "source": []
  },
  {
   "cell_type": "markdown",
   "metadata": {},
   "source": [
    "# ✏️ Oppgave 4\n",
    "I denne oppgaven skal vi se på Cobb-Douglas funksjonen, den ser slik ut\n",
    "$$f(K, L) = A \\cdot K^{\\alpha} \\cdot L^{\\beta}$$\n",
    "hvor,\n",
    "- $f$ er total produksjon\n",
    "- $K$ er mengden kapital (for eksempel maskiner, utstyr, bygninger)\n",
    "- $L$ er mengden arbeidskraft (antall arbeidere eller arbeidstimer)\n",
    "- $A$ er et mål på produktivitet\n",
    "- $\\alpha$ og $\\beta$ er eksponenter som viser elastisiteten til henholdsvis kapital og arbeidskraft. De representerer hvor stor andel av produksjonen som kommer fra kapital og arbeidskraft.\n",
    "\n",
    "Typisk er at $\\alpha + \\beta = 1$, som som indikerer konstante skalautbytter. Dette betyr at hvis du fordobler både kapital og arbeidskraft, vil produksjonen også fordobles.\n",
    "\n",
    "## Oppgave 4.1\n",
    "I økonomi og økonometri er **Cobb-Douglas** sin produksjonsfunksjon ofte brukt, og i denne deloppgaven skal du lage en funksjon som definerer Cobb-Douglas funksjonen, hvor vi setter $A=1$, $\\alpha = 0.5$ og $\\beta = 0.5$.\n",
    "\n",
    "## Oppgave 4.2\n",
    "Bruk SymPy til å finne den partiell deriverte av Cobb-Douglas funksjonen (med hensyn på $K$), dette kaller vi gjerne *marginale produkt av kapital (MPK)*. \n",
    "\n",
    "Kommenter hva resultatet er. Ser vi noe spesielt med MPK i forhold til Cobb-Douglas funksjonen?\n",
    "\n",
    "Bruk funksjonen du definerte i oppgave 3.1.\n",
    "\n",
    "## Oppgave 4.3\n",
    "Hvis vi holder $L$, $A$, $\\alpha$ og $\\beta$ konstant. Hvordan utvikler MPK seg, hvis $K$ øker? \n",
    "\n",
    "Velg selv en passende måte å presentere dette på. Beskriv hva dette betyr for den totale produksjonen til Cobb-Douglas funksjonen, $f(K, L)$.\n",
    "\n",
    "Du bestemmer selv verdiene på $L$, $A$, $\\alpha$ og $\\beta$ (men sørg for $0 < \\alpha < 1$, $0 < \\beta < 1$ og $\\alpha + \\beta =1$)."
   ]
  },
  {
   "cell_type": "code",
   "execution_count": null,
   "metadata": {},
   "outputs": [],
   "source": []
  }
 ],
 "metadata": {
  "kernelspec": {
   "display_name": "myenv",
   "language": "python",
   "name": "python3"
  },
  "language_info": {
   "codemirror_mode": {
    "name": "ipython",
    "version": 3
   },
   "file_extension": ".py",
   "mimetype": "text/x-python",
   "name": "python",
   "nbconvert_exporter": "python",
   "pygments_lexer": "ipython3",
   "version": "3.12.2"
  }
 },
 "nbformat": 4,
 "nbformat_minor": 2
}
